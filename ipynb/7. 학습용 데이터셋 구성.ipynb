{
 "cells": [
  {
   "cell_type": "markdown",
   "metadata": {},
   "source": [
    "7. 학습용 데이터셋 구성\n",
    "해당 문서에 있는 내용\n",
    "- 1. 6시간짜리 데이터셋 만들기 (X변수)\n",
    "- 2. 일봉인데 6시간단위로 밀어서 만들기 (y변수)\n"
   ]
  },
  {
   "cell_type": "code",
   "execution_count": null,
   "metadata": {},
   "outputs": [],
   "source": [
    "XRP_KRW = pd.read_csv('XRP-Upbit-KRW_1min.csv')\n",
    "XRP_USDT = pd.read_csv('XRP-Binance-USDT_1min.csv')\n",
    "kimp_dat = pd.read_csv('kimp_dat_1min.csv')"
   ]
  }
 ],
 "metadata": {
  "language_info": {
   "name": "python"
  },
  "orig_nbformat": 4
 },
 "nbformat": 4,
 "nbformat_minor": 2
}
