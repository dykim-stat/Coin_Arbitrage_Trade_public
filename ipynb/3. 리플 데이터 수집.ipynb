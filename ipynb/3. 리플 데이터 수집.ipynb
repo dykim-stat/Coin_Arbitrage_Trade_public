{
 "cells": [
  {
   "cell_type": "code",
   "execution_count": 12,
   "metadata": {},
   "outputs": [],
   "source": [
    "import ccxt\n",
    "import pandas as pd\n",
    "from datetime import datetime\n",
    "# pip install finance-datareader 패키지 이름 주의\n",
    "import FinanceDataReader as fdr"
   ]
  },
  {
   "cell_type": "code",
   "execution_count": 9,
   "metadata": {},
   "outputs": [],
   "source": [
    "def scrape_ohlcv(exchange, max_retries, symbol, timeframe, since, limit):\n",
    "    earliest_timestamp = exchange.milliseconds() # 현재시간?\n",
    "    timeframe_duration_in_seconds = exchange.parse_timeframe(timeframe) # 초단위로 바꿈\n",
    "    timeframe_duration_in_ms = timeframe_duration_in_seconds * 1000\n",
    "    timedelta = limit * timeframe_duration_in_ms\n",
    "    if isinstance(since, str):\n",
    "        since = exchange.parse8601(since)\n",
    "\n",
    "    all_ohlcv = []\n",
    "    while True:\n",
    "        fetch_since = earliest_timestamp - timedelta\n",
    "        ohlcv = retry_fetch_ohlcv(exchange, max_retries, symbol, timeframe, fetch_since, limit)\n",
    "        # if we have reached the beginning of history\n",
    "        if ohlcv[0][0] >= earliest_timestamp:\n",
    "            break\n",
    "        earliest_timestamp = ohlcv[0][0]\n",
    "        all_ohlcv = ohlcv + all_ohlcv\n",
    "        if len(all_ohlcv) % 100000 == 0:\n",
    "            print(len(all_ohlcv), symbol, 'candles in total from', exchange.iso8601(all_ohlcv[0][0]), 'to', exchange.iso8601(all_ohlcv[-1][0]))\n",
    "        # if we have reached the checkpoint\n",
    "        if fetch_since < since:\n",
    "            break\n",
    "    return all_ohlcv\n",
    "\n",
    "def retry_fetch_ohlcv(exchange, max_retries, symbol, timeframe, since, limit):\n",
    "    num_retries = 0\n",
    "    try:\n",
    "        num_retries += 1\n",
    "        ohlcv = exchange.fetch_ohlcv(symbol, timeframe, since, limit)\n",
    "        # print('Fetched', len(ohlcv), symbol, 'candles from', exchange.iso8601 (ohlcv[0][0]), 'to', exchange.iso8601 (ohlcv[-1][0]))\n",
    "        return ohlcv\n",
    "    except Exception:\n",
    "        if num_retries > max_retries:\n",
    "            raise  # Exception('Failed to fetch', timeframe, symbol, 'OHLCV in', max_retries, 'attempts')"
   ]
  },
  {
   "cell_type": "code",
   "execution_count": 10,
   "metadata": {},
   "outputs": [
    {
     "name": "stdout",
     "output_type": "stream",
     "text": [
      "100000 XRP/USDT candles in total from 2021-09-15T01:54:00.000Z to 2021-11-23T12:33:00.000Z\n",
      "200000 XRP/USDT candles in total from 2021-07-07T15:14:00.000Z to 2021-11-23T12:33:00.000Z\n",
      "300000 XRP/USDT candles in total from 2021-04-29T04:34:00.000Z to 2021-11-23T12:33:00.000Z\n",
      "400000 XRP/USDT candles in total from 2021-02-18T18:30:00.000Z to 2021-11-23T12:33:00.000Z\n",
      "500000 XRP/USDT candles in total from 2020-12-11T08:00:00.000Z to 2021-11-23T12:33:00.000Z\n",
      "600000 XRP/USDT candles in total from 2020-10-02T21:20:00.000Z to 2021-11-23T12:33:00.000Z\n",
      "700000 XRP/USDT candles in total from 2020-07-25T10:40:00.000Z to 2021-11-23T12:33:00.000Z\n",
      "800000 XRP/USDT candles in total from 2020-05-17T00:00:00.000Z to 2021-11-23T12:33:00.000Z\n",
      "900000 XRP/USDT candles in total from 2020-03-08T13:20:00.000Z to 2021-11-23T12:33:00.000Z\n",
      "1000000 XRP/USDT candles in total from 2019-12-30T08:10:00.000Z to 2021-11-23T12:33:00.000Z\n",
      "1100000 XRP/USDT candles in total from 2019-10-21T23:00:00.000Z to 2021-11-23T12:33:00.000Z\n",
      "1200000 XRP/USDT candles in total from 2019-08-13T12:20:00.000Z to 2021-11-23T12:33:00.000Z\n",
      "1300000 XRP/USDT candles in total from 2019-06-05T01:40:00.000Z to 2021-11-23T12:33:00.000Z\n",
      "1400000 XRP/USDT candles in total from 2019-03-27T22:20:00.000Z to 2021-11-23T12:33:00.000Z\n",
      "1500000 XRP/USDT candles in total from 2019-01-17T11:40:00.000Z to 2021-11-23T12:33:00.000Z\n",
      "1600000 XRP/USDT candles in total from 2018-11-09T01:00:00.000Z to 2021-11-23T12:33:00.000Z\n",
      "1700000 XRP/USDT candles in total from 2018-08-31T14:20:00.000Z to 2021-11-23T12:33:00.000Z\n",
      "1800000 XRP/USDT candles in total from 2018-06-23T05:20:00.000Z to 2021-11-23T12:33:00.000Z\n"
     ]
    }
   ],
   "source": [
    "binance = ccxt.binance()\n",
    "all_ohlcv = scrape_ohlcv(binance, 3, 'XRP/USDT', '1m', '2017-01-01 00:00:00Z', 1000)"
   ]
  },
  {
   "cell_type": "code",
   "execution_count": 13,
   "metadata": {},
   "outputs": [],
   "source": [
    "dat = pd.DataFrame(all_ohlcv, columns=['time','open','high','low','close','volume'])\n",
    "dat['time'] = [datetime.fromtimestamp(t/1000).strftime('%Y-%m-%d %H:%M:%S') for t in dat['time']]\n",
    "dat.to_csv('XRP-USDT.csv', index=False)"
   ]
  }
 ],
 "metadata": {
  "interpreter": {
   "hash": "b3ba2566441a7c06988d0923437866b63cedc61552a5af99d1f4fb67d367b25f"
  },
  "kernelspec": {
   "display_name": "Python 3.8.5 64-bit ('base': conda)",
   "language": "python",
   "name": "python3"
  },
  "language_info": {
   "codemirror_mode": {
    "name": "ipython",
    "version": 3
   },
   "file_extension": ".py",
   "mimetype": "text/x-python",
   "name": "python",
   "nbconvert_exporter": "python",
   "pygments_lexer": "ipython3",
   "version": "3.8.5"
  },
  "orig_nbformat": 4
 },
 "nbformat": 4,
 "nbformat_minor": 2
}
