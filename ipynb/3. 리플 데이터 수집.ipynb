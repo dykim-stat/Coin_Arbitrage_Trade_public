{
 "cells": [
  {
   "cell_type": "code",
   "execution_count": 1,
   "metadata": {},
   "outputs": [],
   "source": [
    "import ccxt\n",
    "import pandas as pd\n",
    "from datetime import datetime\n",
    "# pip install finance-datareader 패키지 이름 주의\n",
    "import FinanceDataReader as fdr"
   ]
  },
  {
   "cell_type": "code",
   "execution_count": 2,
   "metadata": {},
   "outputs": [],
   "source": [
    "def scrape_ohlcv(exchange, max_retries, symbol, timeframe, since, limit):\n",
    "    earliest_timestamp = exchange.milliseconds() # 현재시간?\n",
    "    timeframe_duration_in_seconds = exchange.parse_timeframe(timeframe) # 초단위로 바꿈\n",
    "    timeframe_duration_in_ms = timeframe_duration_in_seconds * 1000\n",
    "    timedelta = limit * timeframe_duration_in_ms\n",
    "    if isinstance(since, str):\n",
    "        since = exchange.parse8601(since)\n",
    "\n",
    "    all_ohlcv = []\n",
    "    while True:\n",
    "        fetch_since = earliest_timestamp - timedelta\n",
    "        ohlcv = retry_fetch_ohlcv(exchange, max_retries, symbol, timeframe, fetch_since, limit)\n",
    "        # if we have reached the beginning of history\n",
    "        if ohlcv[0][0] >= earliest_timestamp:\n",
    "            break\n",
    "        earliest_timestamp = ohlcv[0][0]\n",
    "        all_ohlcv = ohlcv + all_ohlcv\n",
    "        if len(all_ohlcv) % 100000 == 0:\n",
    "            print(len(all_ohlcv), symbol, 'candles in total from', exchange.iso8601(all_ohlcv[0][0]), 'to', exchange.iso8601(all_ohlcv[-1][0]))\n",
    "        # if we have reached the checkpoint\n",
    "        if fetch_since < since:\n",
    "            break\n",
    "    return all_ohlcv\n",
    "\n",
    "def retry_fetch_ohlcv(exchange, max_retries, symbol, timeframe, since, limit):\n",
    "    num_retries = 0\n",
    "    try:\n",
    "        num_retries += 1\n",
    "        ohlcv = exchange.fetch_ohlcv(symbol, timeframe, since, limit)\n",
    "        # print('Fetched', len(ohlcv), symbol, 'candles from', exchange.iso8601 (ohlcv[0][0]), 'to', exchange.iso8601 (ohlcv[-1][0]))\n",
    "        return ohlcv\n",
    "    except Exception:\n",
    "        if num_retries > max_retries:\n",
    "            raise  # Exception('Failed to fetch', timeframe, symbol, 'OHLCV in', max_retries, 'attempts')"
   ]
  },
  {
   "cell_type": "code",
   "execution_count": 3,
   "metadata": {},
   "outputs": [
    {
     "name": "stdout",
     "output_type": "stream",
     "text": [
      "100000 XRP/USDT candles in total from 2021-09-16T02:02:00.000Z to 2021-11-24T12:41:00.000Z\n",
      "200000 XRP/USDT candles in total from 2021-07-08T15:22:00.000Z to 2021-11-24T12:41:00.000Z\n",
      "300000 XRP/USDT candles in total from 2021-04-30T04:42:00.000Z to 2021-11-24T12:41:00.000Z\n",
      "400000 XRP/USDT candles in total from 2021-02-19T18:45:00.000Z to 2021-11-24T12:41:00.000Z\n",
      "500000 XRP/USDT candles in total from 2020-12-12T08:05:00.000Z to 2021-11-24T12:41:00.000Z\n",
      "600000 XRP/USDT candles in total from 2020-10-03T21:25:00.000Z to 2021-11-24T12:41:00.000Z\n",
      "700000 XRP/USDT candles in total from 2020-07-26T10:45:00.000Z to 2021-11-24T12:41:00.000Z\n",
      "800000 XRP/USDT candles in total from 2020-05-18T00:05:00.000Z to 2021-11-24T12:41:00.000Z\n",
      "900000 XRP/USDT candles in total from 2020-03-09T15:50:00.000Z to 2021-11-24T12:41:00.000Z\n",
      "1000000 XRP/USDT candles in total from 2019-12-31T05:10:00.000Z to 2021-11-24T12:41:00.000Z\n",
      "1100000 XRP/USDT candles in total from 2019-10-22T20:00:00.000Z to 2021-11-24T12:41:00.000Z\n",
      "1200000 XRP/USDT candles in total from 2019-08-14T17:20:00.000Z to 2021-11-24T12:41:00.000Z\n",
      "1300000 XRP/USDT candles in total from 2019-06-06T06:40:00.000Z to 2021-11-24T12:41:00.000Z\n",
      "1400000 XRP/USDT candles in total from 2019-03-28T20:00:00.000Z to 2021-11-24T12:41:00.000Z\n",
      "1500000 XRP/USDT candles in total from 2019-01-18T13:20:00.000Z to 2021-11-24T12:41:00.000Z\n",
      "1600000 XRP/USDT candles in total from 2018-11-10T05:00:00.000Z to 2021-11-24T12:41:00.000Z\n",
      "1700000 XRP/USDT candles in total from 2018-09-01T18:20:00.000Z to 2021-11-24T12:41:00.000Z\n",
      "1800000 XRP/USDT candles in total from 2018-06-24T14:40:00.000Z to 2021-11-24T12:41:00.000Z\n"
     ]
    }
   ],
   "source": [
    "binance = ccxt.binance()\n",
    "all_ohlcv = scrape_ohlcv(binance, 3, 'XRP/USDT', '1m', '2017-01-01 00:00:00Z', 1000)"
   ]
  },
  {
   "cell_type": "code",
   "execution_count": 4,
   "metadata": {},
   "outputs": [],
   "source": [
    "dat = pd.DataFrame(all_ohlcv, columns=['time','open','high','low','close','volume'])\n",
    "dat['time'] = [datetime.fromtimestamp(t/1000).strftime('%Y-%m-%d %H:%M:%S') for t in dat['time']]\n",
    "dat.to_csv('XRP-USDT_1min.csv', index=False)"
   ]
  },
  {
   "cell_type": "markdown",
   "metadata": {},
   "source": [
    "환율데이터 불러와서 저장"
   ]
  },
  {
   "cell_type": "code",
   "execution_count": 22,
   "metadata": {},
   "outputs": [],
   "source": [
    "# pip install finance-datareader 패키지 이름 주의\n",
    "\n",
    "import FinanceDataReader as fdr\n",
    "\n",
    "\n",
    "ex_rate = fdr.DataReader('USD/KRW','2018')\n",
    "ex_rate = ex_rate.reset_index()[['Date','Close']]\n",
    "ex_rate['Date'] = ex_rate['Date'].astype('str')\n",
    "ex_rate.head()\n",
    "\n",
    "# index 사용해서 전처리가 용이\n",
    "ex_rate = ex_rate.set_index(['Date'])\n",
    "ex_rate.index = pd.DatetimeIndex(ex_rate.index)\n",
    "\n",
    "# 공휴일 빈날짜까지 다 채워서 환율 만들기\n",
    "idx = pd.date_range(ex_rate.index[0],ex_rate.index[-1])\n",
    "ex_rate = ex_rate.reindex(idx)\n",
    "\n",
    "# 금요일값으로 토일 채우기 : 밀어채우기\n",
    "ex_rate = ex_rate.fillna(method='pad')\n",
    "ex_rate = ex_rate.reset_index().rename(columns={\"index\": \"Date\"})\n",
    "ex_rate.to_csv('USD-KRW_2018-recent.csv', index=False)\n"
   ]
  },
  {
   "cell_type": "code",
   "execution_count": 28,
   "metadata": {},
   "outputs": [],
   "source": [
    "dat = pd.read_csv('XRP-USDT_1min.csv')\n",
    "dat['time'] = pd.to_datetime(dat['time'])\n",
    "# yyyy-mm-dd 형식 변수 만들어주기\n",
    "dat['ymd'] = dat['time'].dt.date.astype('str')\n",
    "\n",
    "ex_rate = pd.read_csv('USD-KRW_2018-recent.csv')\n",
    "\n",
    "dfs = pd.DataFrame()\n",
    "for df in dat.groupby(['ymd']):\n",
    "    # df[0]:날짜, df[1]:dateframe\n",
    "    USD = ex_rate.loc[ex_rate['Date']==df[0]]['Close']\n",
    "    df[1].loc[:, ['open','high','low','close']] *= float(USD)\n",
    "    dfs = dfs.append(df[1])\n",
    "    # print(USD)\n",
    "dfs[1:].to_csv('XRP-USDT_1min.csv', index=False)"
   ]
  },
  {
   "cell_type": "code",
   "execution_count": 29,
   "metadata": {},
   "outputs": [],
   "source": [
    "dat = pd.read_csv('XRP-USDT_1min.csv')"
   ]
  },
  {
   "cell_type": "code",
   "execution_count": 30,
   "metadata": {},
   "outputs": [
    {
     "data": {
      "text/html": [
       "<div>\n",
       "<style scoped>\n",
       "    .dataframe tbody tr th:only-of-type {\n",
       "        vertical-align: middle;\n",
       "    }\n",
       "\n",
       "    .dataframe tbody tr th {\n",
       "        vertical-align: top;\n",
       "    }\n",
       "\n",
       "    .dataframe thead th {\n",
       "        text-align: right;\n",
       "    }\n",
       "</style>\n",
       "<table border=\"1\" class=\"dataframe\">\n",
       "  <thead>\n",
       "    <tr style=\"text-align: right;\">\n",
       "      <th></th>\n",
       "      <th>time</th>\n",
       "      <th>open</th>\n",
       "      <th>high</th>\n",
       "      <th>low</th>\n",
       "      <th>close</th>\n",
       "      <th>volume</th>\n",
       "      <th>ymd</th>\n",
       "    </tr>\n",
       "  </thead>\n",
       "  <tbody>\n",
       "    <tr>\n",
       "      <th>0</th>\n",
       "      <td>2018-05-04 17:12:00</td>\n",
       "      <td>966.699000</td>\n",
       "      <td>998.911559</td>\n",
       "      <td>912.993500</td>\n",
       "      <td>966.699000</td>\n",
       "      <td>167543.47</td>\n",
       "      <td>2018-05-04</td>\n",
       "    </tr>\n",
       "    <tr>\n",
       "      <th>1</th>\n",
       "      <td>2018-05-04 17:13:00</td>\n",
       "      <td>966.699000</td>\n",
       "      <td>998.922300</td>\n",
       "      <td>955.968641</td>\n",
       "      <td>977.440100</td>\n",
       "      <td>179750.59</td>\n",
       "      <td>2018-05-04</td>\n",
       "    </tr>\n",
       "    <tr>\n",
       "      <th>2</th>\n",
       "      <td>2018-05-04 17:14:00</td>\n",
       "      <td>977.440100</td>\n",
       "      <td>1611.165000</td>\n",
       "      <td>966.795670</td>\n",
       "      <td>998.911559</td>\n",
       "      <td>107222.48</td>\n",
       "      <td>2018-05-04</td>\n",
       "    </tr>\n",
       "    <tr>\n",
       "      <th>3</th>\n",
       "      <td>2018-05-04 17:15:00</td>\n",
       "      <td>998.911559</td>\n",
       "      <td>1020.415241</td>\n",
       "      <td>977.654922</td>\n",
       "      <td>977.654922</td>\n",
       "      <td>171304.56</td>\n",
       "      <td>2018-05-04</td>\n",
       "    </tr>\n",
       "    <tr>\n",
       "      <th>4</th>\n",
       "      <td>2018-05-04 17:16:00</td>\n",
       "      <td>977.654922</td>\n",
       "      <td>998.718219</td>\n",
       "      <td>977.654922</td>\n",
       "      <td>998.675255</td>\n",
       "      <td>62126.16</td>\n",
       "      <td>2018-05-04</td>\n",
       "    </tr>\n",
       "    <tr>\n",
       "      <th>...</th>\n",
       "      <td>...</td>\n",
       "      <td>...</td>\n",
       "      <td>...</td>\n",
       "      <td>...</td>\n",
       "      <td>...</td>\n",
       "      <td>...</td>\n",
       "      <td>...</td>\n",
       "    </tr>\n",
       "    <tr>\n",
       "      <th>1871994</th>\n",
       "      <td>2021-11-23 21:29:00</td>\n",
       "      <td>1233.908316</td>\n",
       "      <td>1234.621764</td>\n",
       "      <td>1233.670500</td>\n",
       "      <td>1234.146132</td>\n",
       "      <td>246768.00</td>\n",
       "      <td>2021-11-23</td>\n",
       "    </tr>\n",
       "    <tr>\n",
       "      <th>1871995</th>\n",
       "      <td>2021-11-23 21:30:00</td>\n",
       "      <td>1234.146132</td>\n",
       "      <td>1234.146132</td>\n",
       "      <td>1231.292340</td>\n",
       "      <td>1231.530156</td>\n",
       "      <td>142052.00</td>\n",
       "      <td>2021-11-23</td>\n",
       "    </tr>\n",
       "    <tr>\n",
       "      <th>1871996</th>\n",
       "      <td>2021-11-23 21:31:00</td>\n",
       "      <td>1231.411248</td>\n",
       "      <td>1231.886880</td>\n",
       "      <td>1229.865444</td>\n",
       "      <td>1231.767972</td>\n",
       "      <td>582344.00</td>\n",
       "      <td>2021-11-23</td>\n",
       "    </tr>\n",
       "    <tr>\n",
       "      <th>1871997</th>\n",
       "      <td>2021-11-23 21:32:00</td>\n",
       "      <td>1231.767972</td>\n",
       "      <td>1231.886880</td>\n",
       "      <td>1230.341076</td>\n",
       "      <td>1230.341076</td>\n",
       "      <td>324938.00</td>\n",
       "      <td>2021-11-23</td>\n",
       "    </tr>\n",
       "    <tr>\n",
       "      <th>1871998</th>\n",
       "      <td>2021-11-23 21:33:00</td>\n",
       "      <td>1230.459984</td>\n",
       "      <td>1230.459984</td>\n",
       "      <td>1229.627628</td>\n",
       "      <td>1229.627628</td>\n",
       "      <td>20911.00</td>\n",
       "      <td>2021-11-23</td>\n",
       "    </tr>\n",
       "  </tbody>\n",
       "</table>\n",
       "<p>1871999 rows × 7 columns</p>\n",
       "</div>"
      ],
      "text/plain": [
       "                        time         open         high          low  \\\n",
       "0        2018-05-04 17:12:00   966.699000   998.911559   912.993500   \n",
       "1        2018-05-04 17:13:00   966.699000   998.922300   955.968641   \n",
       "2        2018-05-04 17:14:00   977.440100  1611.165000   966.795670   \n",
       "3        2018-05-04 17:15:00   998.911559  1020.415241   977.654922   \n",
       "4        2018-05-04 17:16:00   977.654922   998.718219   977.654922   \n",
       "...                      ...          ...          ...          ...   \n",
       "1871994  2021-11-23 21:29:00  1233.908316  1234.621764  1233.670500   \n",
       "1871995  2021-11-23 21:30:00  1234.146132  1234.146132  1231.292340   \n",
       "1871996  2021-11-23 21:31:00  1231.411248  1231.886880  1229.865444   \n",
       "1871997  2021-11-23 21:32:00  1231.767972  1231.886880  1230.341076   \n",
       "1871998  2021-11-23 21:33:00  1230.459984  1230.459984  1229.627628   \n",
       "\n",
       "               close     volume         ymd  \n",
       "0         966.699000  167543.47  2018-05-04  \n",
       "1         977.440100  179750.59  2018-05-04  \n",
       "2         998.911559  107222.48  2018-05-04  \n",
       "3         977.654922  171304.56  2018-05-04  \n",
       "4         998.675255   62126.16  2018-05-04  \n",
       "...              ...        ...         ...  \n",
       "1871994  1234.146132  246768.00  2021-11-23  \n",
       "1871995  1231.530156  142052.00  2021-11-23  \n",
       "1871996  1231.767972  582344.00  2021-11-23  \n",
       "1871997  1230.341076  324938.00  2021-11-23  \n",
       "1871998  1229.627628   20911.00  2021-11-23  \n",
       "\n",
       "[1871999 rows x 7 columns]"
      ]
     },
     "execution_count": 30,
     "metadata": {},
     "output_type": "execute_result"
    }
   ],
   "source": [
    "dat"
   ]
  },
  {
   "cell_type": "code",
   "execution_count": 34,
   "metadata": {},
   "outputs": [],
   "source": [
    "def make_candle(df,interval = 10, open_time: str = None ):\n",
    "    from datetime import datetime, timedelta\n",
    "    offset = timedelta(minutes = interval)\n",
    "    if open_time is None:\n",
    "        start_date = df.index[0]\n",
    "    else: \n",
    "        start_date = df.index[0].replace(hour = int(open_time[:2]), minute = int(open_time[3:]))\n",
    "    end_date = df.index[-1]\n",
    "    counts = (pd.to_datetime(end_date)-pd.to_datetime(start_date)) // offset + 1\n",
    "    rows = []\n",
    "    for i in range(counts):\n",
    "        reduced_df = df.loc[start_date + i * offset : start_date + (i+1)*offset - timedelta(minutes = 1)]\n",
    "        try :#예전자료에는 없는 분봉들이 있음\n",
    "            date = start_date + i * offset\n",
    "            open = reduced_df['open'][0]\n",
    "            high = reduced_df['high'].max()\n",
    "            low = reduced_df['low'].min()\n",
    "            close = reduced_df['close'][-1]\n",
    "            volume = reduced_df['volume'].sum()\n",
    "            rows.append((date, open, high,low,close,volume))\n",
    "        except IndexError:\n",
    "            continue\n",
    "    data = pd.DataFrame(rows, columns = ['date', 'open', 'high','low','close', 'volume'])\n",
    "    data.index = pd.to_datetime(data['date'], format='%Y-%m-%d %H:%M')\n",
    "    data = data.drop(\"date\", axis =1 )\n",
    "    return data"
   ]
  },
  {
   "cell_type": "code",
   "execution_count": 38,
   "metadata": {},
   "outputs": [],
   "source": [
    "dat.set_index('time', inplace=True)"
   ]
  },
  {
   "cell_type": "code",
   "execution_count": 44,
   "metadata": {},
   "outputs": [],
   "source": [
    "from datetime import datetime, timedelta\n",
    "df=dat;interval = 60*24; open_time: str = None "
   ]
  },
  {
   "cell_type": "code",
   "execution_count": 49,
   "metadata": {},
   "outputs": [],
   "source": [
    "offset = timedelta(minutes = interval)\n",
    "if open_time is None:\n",
    "    start_date = df.index[0]\n",
    "else: \n",
    "    start_date = df.index[0].replace(hour = int(open_time[:2]), minute = int(open_time[3:]))\n",
    "end_date = df.index[-1]\n",
    "counts = (pd.to_datetime(end_date)-pd.to_datetime(start_date)) // offset + 1\n",
    "# rows = []\n",
    "# for i in range(counts):\n",
    "#     reduced_df = df.loc[start_date + i * offset : start_date + (i+1)*offset - timedelta(minutes = 1)]\n",
    "#     try :#예전자료에는 없는 분봉들이 있음\n",
    "#         date = start_date + i * offset\n",
    "#         open = reduced_df['open'][0]\n",
    "#         high = reduced_df['high'].max()\n",
    "#         low = reduced_df['low'].min()\n",
    "#         close = reduced_df['close'][-1]\n",
    "#         volume = reduced_df['volume'].sum()\n",
    "#         rows.append((date, open, high,low,close,volume))\n",
    "#     except IndexError:\n",
    "#         continue\n",
    "# data = pd.DataFrame(rows, columns = ['date', 'open', 'high','low','close', 'volume'])\n",
    "# data.index = pd.to_datetime(data['date'], format='%Y-%m-%d %H:%M')\n",
    "# data = data.drop(\"date\", axis =1 )"
   ]
  },
  {
   "cell_type": "code",
   "execution_count": 50,
   "metadata": {},
   "outputs": [
    {
     "data": {
      "text/plain": [
       "1300"
      ]
     },
     "execution_count": 50,
     "metadata": {},
     "output_type": "execute_result"
    }
   ],
   "source": [
    "(pd.to_datetime(end_date)-pd.to_datetime(start_date)) // offset + 1"
   ]
  },
  {
   "cell_type": "code",
   "execution_count": 52,
   "metadata": {},
   "outputs": [
    {
     "ename": "TypeError",
     "evalue": "can only concatenate str (not \"datetime.timedelta\") to str",
     "output_type": "error",
     "traceback": [
      "\u001b[1;31m---------------------------------------------------------------------------\u001b[0m",
      "\u001b[1;31mTypeError\u001b[0m                                 Traceback (most recent call last)",
      "\u001b[1;32m<ipython-input-52-cd62e731c20d>\u001b[0m in \u001b[0;36m<module>\u001b[1;34m\u001b[0m\n\u001b[1;32m----> 1\u001b[1;33m \u001b[0mmake_candle\u001b[0m\u001b[1;33m(\u001b[0m\u001b[0mdat\u001b[0m\u001b[1;33m,\u001b[0m\u001b[0minterval\u001b[0m \u001b[1;33m=\u001b[0m \u001b[1;36m60\u001b[0m\u001b[1;33m*\u001b[0m\u001b[1;36m24\u001b[0m\u001b[1;33m,\u001b[0m \u001b[0mopen_time\u001b[0m \u001b[1;33m=\u001b[0m \u001b[1;32mNone\u001b[0m \u001b[1;33m)\u001b[0m\u001b[1;33m\u001b[0m\u001b[1;33m\u001b[0m\u001b[0m\n\u001b[0m",
      "\u001b[1;32m<ipython-input-34-d2c5bf0b8d57>\u001b[0m in \u001b[0;36mmake_candle\u001b[1;34m(df, interval, open_time)\u001b[0m\n\u001b[0;32m     10\u001b[0m     \u001b[0mrows\u001b[0m \u001b[1;33m=\u001b[0m \u001b[1;33m[\u001b[0m\u001b[1;33m]\u001b[0m\u001b[1;33m\u001b[0m\u001b[1;33m\u001b[0m\u001b[0m\n\u001b[0;32m     11\u001b[0m     \u001b[1;32mfor\u001b[0m \u001b[0mi\u001b[0m \u001b[1;32min\u001b[0m \u001b[0mrange\u001b[0m\u001b[1;33m(\u001b[0m\u001b[0mcounts\u001b[0m\u001b[1;33m)\u001b[0m\u001b[1;33m:\u001b[0m\u001b[1;33m\u001b[0m\u001b[1;33m\u001b[0m\u001b[0m\n\u001b[1;32m---> 12\u001b[1;33m         \u001b[0mreduced_df\u001b[0m \u001b[1;33m=\u001b[0m \u001b[0mdf\u001b[0m\u001b[1;33m.\u001b[0m\u001b[0mloc\u001b[0m\u001b[1;33m[\u001b[0m\u001b[0mstart_date\u001b[0m \u001b[1;33m+\u001b[0m \u001b[0mi\u001b[0m \u001b[1;33m*\u001b[0m \u001b[0moffset\u001b[0m \u001b[1;33m:\u001b[0m \u001b[0mstart_date\u001b[0m \u001b[1;33m+\u001b[0m \u001b[1;33m(\u001b[0m\u001b[0mi\u001b[0m\u001b[1;33m+\u001b[0m\u001b[1;36m1\u001b[0m\u001b[1;33m)\u001b[0m\u001b[1;33m*\u001b[0m\u001b[0moffset\u001b[0m \u001b[1;33m-\u001b[0m \u001b[0mtimedelta\u001b[0m\u001b[1;33m(\u001b[0m\u001b[0mminutes\u001b[0m \u001b[1;33m=\u001b[0m \u001b[1;36m1\u001b[0m\u001b[1;33m)\u001b[0m\u001b[1;33m]\u001b[0m\u001b[1;33m\u001b[0m\u001b[1;33m\u001b[0m\u001b[0m\n\u001b[0m\u001b[0;32m     13\u001b[0m         \u001b[1;32mtry\u001b[0m \u001b[1;33m:\u001b[0m\u001b[1;31m#예전자료에는 없는 분봉들이 있음\u001b[0m\u001b[1;33m\u001b[0m\u001b[1;33m\u001b[0m\u001b[0m\n\u001b[0;32m     14\u001b[0m             \u001b[0mdate\u001b[0m \u001b[1;33m=\u001b[0m \u001b[0mstart_date\u001b[0m \u001b[1;33m+\u001b[0m \u001b[0mi\u001b[0m \u001b[1;33m*\u001b[0m \u001b[0moffset\u001b[0m\u001b[1;33m\u001b[0m\u001b[1;33m\u001b[0m\u001b[0m\n",
      "\u001b[1;31mTypeError\u001b[0m: can only concatenate str (not \"datetime.timedelta\") to str"
     ]
    }
   ],
   "source": [
    "make_candle(dat,interval = 60*24, open_time = None )"
   ]
  }
 ],
 "metadata": {
  "interpreter": {
   "hash": "b3ba2566441a7c06988d0923437866b63cedc61552a5af99d1f4fb67d367b25f"
  },
  "kernelspec": {
   "display_name": "Python 3.8.5 64-bit ('base': conda)",
   "language": "python",
   "name": "python3"
  },
  "language_info": {
   "codemirror_mode": {
    "name": "ipython",
    "version": 3
   },
   "file_extension": ".py",
   "mimetype": "text/x-python",
   "name": "python",
   "nbconvert_exporter": "python",
   "pygments_lexer": "ipython3",
   "version": "3.8.5"
  },
  "orig_nbformat": 4
 },
 "nbformat": 4,
 "nbformat_minor": 2
}
