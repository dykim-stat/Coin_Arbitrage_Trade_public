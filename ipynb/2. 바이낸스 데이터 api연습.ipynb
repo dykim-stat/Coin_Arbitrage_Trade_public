{
 "cells": [
  {
   "cell_type": "markdown",
   "metadata": {},
   "source": [
    "바이낸스 1분봉 가져오기  \n",
    "참고자료 : https://wikidocs.net/31065  \n",
    "\n",
    "환율 바꾸는 코드 자료 : https://appia.tistory.com/434\n",
    "\n",
    "깃허브 참고 자료 : https://github.com/codeninja/CCXT-Historical-Data"
   ]
  },
  {
   "cell_type": "code",
   "execution_count": 99,
   "metadata": {},
   "outputs": [],
   "source": [
    "import ccxt"
   ]
  },
  {
   "cell_type": "code",
   "execution_count": 100,
   "metadata": {},
   "outputs": [
    {
     "data": {
      "text/plain": [
       "['ETH/BTC', 'LTC/BTC', 'BNB/BTC', 'NEO/BTC', 'QTUM/ETH']"
      ]
     },
     "execution_count": 100,
     "metadata": {},
     "output_type": "execute_result"
    }
   ],
   "source": [
    "binance = ccxt.binance()\n",
    "markets = binance.fetch_tickers()\n",
    "list(markets.keys())[:5]"
   ]
  },
  {
   "cell_type": "code",
   "execution_count": 101,
   "metadata": {},
   "outputs": [
    {
     "data": {
      "text/plain": [
       "{'symbol': 'XRP/USDT',\n",
       " 'timestamp': 1637674038636,\n",
       " 'datetime': '2021-11-23T13:27:18.636Z',\n",
       " 'high': 1.071,\n",
       " 'low': 1.0192,\n",
       " 'bid': 1.0458,\n",
       " 'bidVolume': 1826.0,\n",
       " 'ask': 1.0459,\n",
       " 'askVolume': 28486.0,\n",
       " 'vwap': 1.0434347,\n",
       " 'open': 1.0472,\n",
       " 'close': 1.0458,\n",
       " 'last': 1.0458,\n",
       " 'previousClose': 1.0475,\n",
       " 'change': -0.0014,\n",
       " 'percentage': -0.134,\n",
       " 'average': 1.0465,\n",
       " 'baseVolume': 354826619.0,\n",
       " 'quoteVolume': 370238407.103,\n",
       " 'info': {'symbol': 'XRPUSDT',\n",
       "  'priceChange': '-0.00140000',\n",
       "  'priceChangePercent': '-0.134',\n",
       "  'weightedAvgPrice': '1.04343470',\n",
       "  'prevClosePrice': '1.04750000',\n",
       "  'lastPrice': '1.04580000',\n",
       "  'lastQty': '24.00000000',\n",
       "  'bidPrice': '1.04580000',\n",
       "  'bidQty': '1826.00000000',\n",
       "  'askPrice': '1.04590000',\n",
       "  'askQty': '28486.00000000',\n",
       "  'openPrice': '1.04720000',\n",
       "  'highPrice': '1.07100000',\n",
       "  'lowPrice': '1.01920000',\n",
       "  'volume': '354826619.00000000',\n",
       "  'quoteVolume': '370238407.10300000',\n",
       "  'openTime': '1637587638636',\n",
       "  'closeTime': '1637674038636',\n",
       "  'firstId': '383230529',\n",
       "  'lastId': '383699453',\n",
       "  'count': '468925'}}"
      ]
     },
     "execution_count": 101,
     "metadata": {},
     "output_type": "execute_result"
    }
   ],
   "source": [
    "ticker = binance.fetch_ticker('XRP/USDT')\n",
    "ticker"
   ]
  },
  {
   "cell_type": "code",
   "execution_count": 102,
   "metadata": {},
   "outputs": [
    {
     "name": "stdout",
     "output_type": "stream",
     "text": [
      "[[1637644080000, 1.049, 1.0492, 1.0489, 1.049, 77148.0], [1637644140000, 1.049, 1.0496, 1.0484, 1.0489, 349601.0], [1637644200000, 1.0489, 1.0491, 1.0485, 1.0487, 103268.0], [1637644260000, 1.0487, 1.0492, 1.0483, 1.0486, 169822.0], [1637644320000, 1.0486, 1.0486, 1.0466, 1.0469, 421561.0]]\n",
      "불러온 데이터 개수 : 500\n"
     ]
    }
   ],
   "source": [
    "ohlcvs = binance.fetch_ohlcv('XRP/USDT')\n",
    "print(ohlcvs[:5])\n",
    "print('불러온 데이터 개수 :',len(ohlcvs))"
   ]
  },
  {
   "cell_type": "code",
   "execution_count": 103,
   "metadata": {},
   "outputs": [
    {
     "name": "stdout",
     "output_type": "stream",
     "text": [
      "2021-11-23 22:23:00\n",
      "2021-11-23 22:24:00\n",
      "2021-11-23 22:25:00\n",
      "2021-11-23 22:26:00\n",
      "2021-11-23 22:27:00\n"
     ]
    }
   ],
   "source": [
    "from datetime import datetime\n",
    "for ohlc in ohlcvs[-5:]:\n",
    "    print(datetime.fromtimestamp(ohlc[0]/1000).strftime('%Y-%m-%d %H:%M:%S'))"
   ]
  },
  {
   "cell_type": "code",
   "execution_count": 104,
   "metadata": {},
   "outputs": [],
   "source": [
    "def scrape_ohlcv(exchange, max_retries, symbol, timeframe, since, limit):\n",
    "    earliest_timestamp = exchange.milliseconds() # 현재시간?\n",
    "    timeframe_duration_in_seconds = exchange.parse_timeframe(timeframe) # 초단위로 바꿈\n",
    "    timeframe_duration_in_ms = timeframe_duration_in_seconds * 1000\n",
    "    timedelta = limit * timeframe_duration_in_ms\n",
    "    if isinstance(since, str):\n",
    "        since = exchange.parse8601(since)\n",
    "\n",
    "    all_ohlcv = []\n",
    "    while True:\n",
    "        fetch_since = earliest_timestamp - timedelta\n",
    "        ohlcv = retry_fetch_ohlcv(exchange, max_retries, symbol, timeframe, fetch_since, limit)\n",
    "        # if we have reached the beginning of history\n",
    "        if ohlcv[0][0] >= earliest_timestamp:\n",
    "            break\n",
    "        earliest_timestamp = ohlcv[0][0]\n",
    "        all_ohlcv = ohlcv + all_ohlcv\n",
    "        if len(all_ohlcv) % 100000 == 0:\n",
    "            print(len(all_ohlcv), symbol, 'candles in total from', exchange.iso8601(all_ohlcv[0][0]), 'to', exchange.iso8601(all_ohlcv[-1][0]))\n",
    "        # if we have reached the checkpoint\n",
    "        if fetch_since < since:\n",
    "            break\n",
    "    return all_ohlcv\n",
    "\n",
    "def retry_fetch_ohlcv(exchange, max_retries, symbol, timeframe, since, limit):\n",
    "    num_retries = 0\n",
    "    try:\n",
    "        num_retries += 1\n",
    "        ohlcv = exchange.fetch_ohlcv(symbol, timeframe, since, limit)\n",
    "        # print('Fetched', len(ohlcv), symbol, 'candles from', exchange.iso8601 (ohlcv[0][0]), 'to', exchange.iso8601 (ohlcv[-1][0]))\n",
    "        return ohlcv\n",
    "    except Exception:\n",
    "        if num_retries > max_retries:\n",
    "            raise  # Exception('Failed to fetch', timeframe, symbol, 'OHLCV in', max_retries, 'attempts')"
   ]
  },
  {
   "cell_type": "code",
   "execution_count": 106,
   "metadata": {},
   "outputs": [],
   "source": [
    "binance = ccxt.binance()\n",
    "all_ohlcv = scrape_ohlcv(binance, 3, 'XRP/USDT', '1m', '2017-01-01 00:00:00Z', 1000)"
   ]
  },
  {
   "cell_type": "code",
   "execution_count": 4,
   "metadata": {},
   "outputs": [],
   "source": [
    "import pandas as pd\n",
    "\n",
    "dat = pd.DataFrame(all_ohlcv, columns=['time','open','high','low','close','volume'])\n",
    "dat['time'] = [datetime.fromtimestamp(t/1000).strftime('%Y-%m-%d %H:%M:%S') for t in dat['time']]\n",
    "dat.to_csv('XRP-USDT_1min.csv', index=False)"
   ]
  },
  {
   "cell_type": "code",
   "execution_count": 107,
   "metadata": {},
   "outputs": [
    {
     "data": {
      "text/html": [
       "<div>\n",
       "<style scoped>\n",
       "    .dataframe tbody tr th:only-of-type {\n",
       "        vertical-align: middle;\n",
       "    }\n",
       "\n",
       "    .dataframe tbody tr th {\n",
       "        vertical-align: top;\n",
       "    }\n",
       "\n",
       "    .dataframe thead th {\n",
       "        text-align: right;\n",
       "    }\n",
       "</style>\n",
       "<table border=\"1\" class=\"dataframe\">\n",
       "  <thead>\n",
       "    <tr style=\"text-align: right;\">\n",
       "      <th></th>\n",
       "      <th>time</th>\n",
       "      <th>open</th>\n",
       "      <th>high</th>\n",
       "      <th>low</th>\n",
       "      <th>close</th>\n",
       "      <th>volume</th>\n",
       "    </tr>\n",
       "  </thead>\n",
       "  <tbody>\n",
       "    <tr>\n",
       "      <th>0</th>\n",
       "      <td>2018-05-04 17:11:00</td>\n",
       "      <td>0.50000</td>\n",
       "      <td>0.50000</td>\n",
       "      <td>0.50000</td>\n",
       "      <td>0.50000</td>\n",
       "      <td>109.51</td>\n",
       "    </tr>\n",
       "    <tr>\n",
       "      <th>1</th>\n",
       "      <td>2018-05-04 17:12:00</td>\n",
       "      <td>0.90000</td>\n",
       "      <td>0.92999</td>\n",
       "      <td>0.85000</td>\n",
       "      <td>0.90000</td>\n",
       "      <td>167543.47</td>\n",
       "    </tr>\n",
       "    <tr>\n",
       "      <th>2</th>\n",
       "      <td>2018-05-04 17:13:00</td>\n",
       "      <td>0.90000</td>\n",
       "      <td>0.93000</td>\n",
       "      <td>0.89001</td>\n",
       "      <td>0.91000</td>\n",
       "      <td>179750.59</td>\n",
       "    </tr>\n",
       "    <tr>\n",
       "      <th>3</th>\n",
       "      <td>2018-05-04 17:14:00</td>\n",
       "      <td>0.91000</td>\n",
       "      <td>1.50000</td>\n",
       "      <td>0.90009</td>\n",
       "      <td>0.92999</td>\n",
       "      <td>107222.48</td>\n",
       "    </tr>\n",
       "    <tr>\n",
       "      <th>4</th>\n",
       "      <td>2018-05-04 17:15:00</td>\n",
       "      <td>0.92999</td>\n",
       "      <td>0.95001</td>\n",
       "      <td>0.91020</td>\n",
       "      <td>0.91020</td>\n",
       "      <td>171304.56</td>\n",
       "    </tr>\n",
       "    <tr>\n",
       "      <th>...</th>\n",
       "      <td>...</td>\n",
       "      <td>...</td>\n",
       "      <td>...</td>\n",
       "      <td>...</td>\n",
       "      <td>...</td>\n",
       "      <td>...</td>\n",
       "    </tr>\n",
       "    <tr>\n",
       "      <th>1870995</th>\n",
       "      <td>2021-11-22 16:24:00</td>\n",
       "      <td>1.04580</td>\n",
       "      <td>1.04620</td>\n",
       "      <td>1.04470</td>\n",
       "      <td>1.04520</td>\n",
       "      <td>291352.00</td>\n",
       "    </tr>\n",
       "    <tr>\n",
       "      <th>1870996</th>\n",
       "      <td>2021-11-22 16:25:00</td>\n",
       "      <td>1.04520</td>\n",
       "      <td>1.04730</td>\n",
       "      <td>1.04500</td>\n",
       "      <td>1.04710</td>\n",
       "      <td>334338.00</td>\n",
       "    </tr>\n",
       "    <tr>\n",
       "      <th>1870997</th>\n",
       "      <td>2021-11-22 16:26:00</td>\n",
       "      <td>1.04710</td>\n",
       "      <td>1.04820</td>\n",
       "      <td>1.04650</td>\n",
       "      <td>1.04750</td>\n",
       "      <td>255795.00</td>\n",
       "    </tr>\n",
       "    <tr>\n",
       "      <th>1870998</th>\n",
       "      <td>2021-11-22 16:27:00</td>\n",
       "      <td>1.04740</td>\n",
       "      <td>1.04860</td>\n",
       "      <td>1.04700</td>\n",
       "      <td>1.04810</td>\n",
       "      <td>178432.00</td>\n",
       "    </tr>\n",
       "    <tr>\n",
       "      <th>1870999</th>\n",
       "      <td>2021-11-22 16:28:00</td>\n",
       "      <td>1.04800</td>\n",
       "      <td>1.04820</td>\n",
       "      <td>1.04780</td>\n",
       "      <td>1.04820</td>\n",
       "      <td>28797.00</td>\n",
       "    </tr>\n",
       "  </tbody>\n",
       "</table>\n",
       "<p>1871000 rows × 6 columns</p>\n",
       "</div>"
      ],
      "text/plain": [
       "                        time     open     high      low    close     volume\n",
       "0        2018-05-04 17:11:00  0.50000  0.50000  0.50000  0.50000     109.51\n",
       "1        2018-05-04 17:12:00  0.90000  0.92999  0.85000  0.90000  167543.47\n",
       "2        2018-05-04 17:13:00  0.90000  0.93000  0.89001  0.91000  179750.59\n",
       "3        2018-05-04 17:14:00  0.91000  1.50000  0.90009  0.92999  107222.48\n",
       "4        2018-05-04 17:15:00  0.92999  0.95001  0.91020  0.91020  171304.56\n",
       "...                      ...      ...      ...      ...      ...        ...\n",
       "1870995  2021-11-22 16:24:00  1.04580  1.04620  1.04470  1.04520  291352.00\n",
       "1870996  2021-11-22 16:25:00  1.04520  1.04730  1.04500  1.04710  334338.00\n",
       "1870997  2021-11-22 16:26:00  1.04710  1.04820  1.04650  1.04750  255795.00\n",
       "1870998  2021-11-22 16:27:00  1.04740  1.04860  1.04700  1.04810  178432.00\n",
       "1870999  2021-11-22 16:28:00  1.04800  1.04820  1.04780  1.04820   28797.00\n",
       "\n",
       "[1871000 rows x 6 columns]"
      ]
     },
     "execution_count": 107,
     "metadata": {},
     "output_type": "execute_result"
    }
   ],
   "source": [
    "dat"
   ]
  },
  {
   "cell_type": "code",
   "execution_count": null,
   "metadata": {},
   "outputs": [],
   "source": [
    "import pandas as pd\n",
    "dat = pd.read_csv('XRP-USDT.csv')\n",
    "dat['time'] = pd.to_datetime(dat['time'])\n",
    "dat['ymd'] = dat['time'].dt.date.astype('str')"
   ]
  },
  {
   "cell_type": "code",
   "execution_count": 92,
   "metadata": {},
   "outputs": [
    {
     "data": {
      "text/html": [
       "<div>\n",
       "<style scoped>\n",
       "    .dataframe tbody tr th:only-of-type {\n",
       "        vertical-align: middle;\n",
       "    }\n",
       "\n",
       "    .dataframe tbody tr th {\n",
       "        vertical-align: top;\n",
       "    }\n",
       "\n",
       "    .dataframe thead th {\n",
       "        text-align: right;\n",
       "    }\n",
       "</style>\n",
       "<table border=\"1\" class=\"dataframe\">\n",
       "  <thead>\n",
       "    <tr style=\"text-align: right;\">\n",
       "      <th></th>\n",
       "      <th>Date</th>\n",
       "      <th>Close</th>\n",
       "    </tr>\n",
       "  </thead>\n",
       "  <tbody>\n",
       "    <tr>\n",
       "      <th>0</th>\n",
       "      <td>2018-01-01</td>\n",
       "      <td>1066.60</td>\n",
       "    </tr>\n",
       "    <tr>\n",
       "      <th>1</th>\n",
       "      <td>2018-01-02</td>\n",
       "      <td>1063.21</td>\n",
       "    </tr>\n",
       "    <tr>\n",
       "      <th>2</th>\n",
       "      <td>2018-01-03</td>\n",
       "      <td>1064.80</td>\n",
       "    </tr>\n",
       "    <tr>\n",
       "      <th>3</th>\n",
       "      <td>2018-01-04</td>\n",
       "      <td>1062.28</td>\n",
       "    </tr>\n",
       "    <tr>\n",
       "      <th>4</th>\n",
       "      <td>2018-01-05</td>\n",
       "      <td>1062.09</td>\n",
       "    </tr>\n",
       "  </tbody>\n",
       "</table>\n",
       "</div>"
      ],
      "text/plain": [
       "         Date    Close\n",
       "0  2018-01-01  1066.60\n",
       "1  2018-01-02  1063.21\n",
       "2  2018-01-03  1064.80\n",
       "3  2018-01-04  1062.28\n",
       "4  2018-01-05  1062.09"
      ]
     },
     "execution_count": 92,
     "metadata": {},
     "output_type": "execute_result"
    }
   ],
   "source": [
    "# pip install finance-datareader 패키지 이름 주의\n",
    "\n",
    "import FinanceDataReader as fdr\n",
    "ex_rate = fdr.DataReader('USD/KRW','2018')\n",
    "ex_rate = ex_rate.reset_index()[['Date','Close']]\n",
    "ex_rate['Date'] = ex_rate['Date'].astype('str')\n",
    "ex_rate.head()"
   ]
  },
  {
   "cell_type": "markdown",
   "metadata": {},
   "source": [
    "공휴일에는 환율 없는거 발견... 토일이면 금요일 종가로 밀어서 채우자"
   ]
  },
  {
   "cell_type": "code",
   "execution_count": 93,
   "metadata": {},
   "outputs": [],
   "source": [
    "# index 사용해서 전처리가 용이\n",
    "ex_rate = ex_rate.set_index(['Date'])\n",
    "ex_rate.index = pd.DatetimeIndex(ex_rate.index)\n",
    "\n",
    "# 공휴일 빈날짜까지 다 채워서 환율 만들기\n",
    "idx = pd.date_range(ex_rate.index[0],ex_rate.index[-1])\n",
    "ex_rate = ex_rate.reindex(idx)\n",
    "\n",
    "# 금요일값으로 토일 채우기 : 밀어채우기\n",
    "ex_rate = ex_rate.fillna(method='pad')\n",
    "ex_rate = ex_rate.reset_index().rename(columns={\"index\": \"Date\"})\n"
   ]
  },
  {
   "cell_type": "code",
   "execution_count": 4,
   "metadata": {},
   "outputs": [],
   "source": [
    "# total_dat = pd.DataFrame()\n",
    "# for i, date in enumerate(pd.unique(dat['ymd'])):\n",
    "#     USD = ex_rate.loc[ex_rate['Date']==pd.unique(dat['ymd'])[0]]['Close']\n",
    "#     temp_dat = dat.loc[dat['ymd']==pd.unique(dat['ymd'])[0]]\n",
    "#     temp_dat.loc[:,['open','high','low','close']] *= float(USD)\n",
    "#     total_dat.append(temp_dat)\n",
    "#     print(date)\n",
    "# # 아 이거 ㅈㄴ느림!;;"
   ]
  },
  {
   "cell_type": "markdown",
   "metadata": {},
   "source": [
    "위에서 억지코딩 너무 느려서 groupby로 분할한 다음 for문 돌리기 성공  \n",
    "1분넘게 걸리던거 좀 줄이기 완료.."
   ]
  },
  {
   "cell_type": "code",
   "execution_count": 96,
   "metadata": {},
   "outputs": [],
   "source": [
    "total_dat = pd.DataFrame()\n",
    "for df in dat.groupby(['ymd']):\n",
    "    # df[0]:날짜, df[1]:dateframe\n",
    "    USD = ex_rate.loc[ex_rate['Date']==df[0]]['Close']\n",
    "    df[1].loc[:, ['open','high','low','close']] *= float(USD)\n",
    "    total_dat.append(df[1])\n",
    "    # print(USD)"
   ]
  },
  {
   "cell_type": "code",
   "execution_count": 39,
   "metadata": {},
   "outputs": [
    {
     "data": {
      "text/html": [
       "<div>\n",
       "<style scoped>\n",
       "    .dataframe tbody tr th:only-of-type {\n",
       "        vertical-align: middle;\n",
       "    }\n",
       "\n",
       "    .dataframe tbody tr th {\n",
       "        vertical-align: top;\n",
       "    }\n",
       "\n",
       "    .dataframe thead th {\n",
       "        text-align: right;\n",
       "    }\n",
       "</style>\n",
       "<table border=\"1\" class=\"dataframe\">\n",
       "  <thead>\n",
       "    <tr style=\"text-align: right;\">\n",
       "      <th></th>\n",
       "      <th>Date</th>\n",
       "      <th>Close</th>\n",
       "    </tr>\n",
       "  </thead>\n",
       "  <tbody>\n",
       "  </tbody>\n",
       "</table>\n",
       "</div>"
      ],
      "text/plain": [
       "Empty DataFrame\n",
       "Columns: [Date, Close]\n",
       "Index: []"
      ]
     },
     "execution_count": 39,
     "metadata": {},
     "output_type": "execute_result"
    }
   ],
   "source": []
  }
 ],
 "metadata": {
  "interpreter": {
   "hash": "97ae724bfa85b9b34df7982b8bb8c7216f435b92902d749e4263f71162bea840"
  },
  "kernelspec": {
   "display_name": "Python 3.8.5 64-bit ('base': conda)",
   "language": "python",
   "name": "python3"
  },
  "language_info": {
   "codemirror_mode": {
    "name": "ipython",
    "version": 3
   },
   "file_extension": ".py",
   "mimetype": "text/x-python",
   "name": "python",
   "nbconvert_exporter": "python",
   "pygments_lexer": "ipython3",
   "version": "3.8.5"
  },
  "orig_nbformat": 4
 },
 "nbformat": 4,
 "nbformat_minor": 2
}
