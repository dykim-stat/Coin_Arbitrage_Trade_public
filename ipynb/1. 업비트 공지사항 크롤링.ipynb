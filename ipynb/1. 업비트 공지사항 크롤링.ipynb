{
 "cells": [
  {
   "cell_type": "markdown",
   "metadata": {},
   "source": [
    "업비트 공지사항을 1초에 한번씩 긁어오고 티커를 추출하는 코드 작성"
   ]
  },
  {
   "cell_type": "code",
   "execution_count": 1,
   "metadata": {},
   "outputs": [],
   "source": [
    "import requests\n",
    "from bs4 import BeautifulSoup\n",
    "import json"
   ]
  },
  {
   "cell_type": "code",
   "execution_count": 18,
   "metadata": {},
   "outputs": [],
   "source": [
    "url = 'https://api-manager.upbit.com/api/v1/notices?page=1&per_page=20&thread_name=general'"
   ]
  },
  {
   "cell_type": "code",
   "execution_count": 19,
   "metadata": {},
   "outputs": [],
   "source": [
    "response = requests.get(url)\n",
    "html = response.text\n",
    "soup = BeautifulSoup(html, 'html.parser')\n"
   ]
  },
  {
   "cell_type": "code",
   "execution_count": 63,
   "metadata": {},
   "outputs": [
    {
     "name": "stdout",
     "output_type": "stream",
     "text": [
      "[{'created_at': '2021-11-19T18:46:34+09:00', 'updated_at': '2021-11-19T20:21:11+09:00', 'id': 2270, 'title': '[디지털 자산] 오미세고(OMG) 보유 회원 대상 보바토큰(BOBA) 에어드랍 지급 안내', 'view_count': 532966}, {'created_at': '2021-11-18T16:55:02+09:00', 'updated_at': '2021-11-19T20:21:11+09:00', 'id': 2269, 'title': '[안내] 니어프로토콜(NEAR) 입출금 일시 중단 안내', 'view_count': 8157783}, {'created_at': '2021-11-18T13:25:01+09:00', 'updated_at': '2021-11-19T20:21:11+09:00', 'id': 2268, 'title': '[거래] KRW, BTC 마켓 디지털 자산 추가 (ALGO, AUDIO)', 'view_count': 1035207}]\n"
     ]
    },
    {
     "data": {
      "text/plain": [
       "set()"
      ]
     },
     "execution_count": 63,
     "metadata": {},
     "output_type": "execute_result"
    }
   ],
   "source": [
    "str1 = soup.text\n",
    "notice = json.loads(str1)['data']['list']\n",
    "print(notice[:3])\n",
    "\n",
    "old = [(d['title'],d['created_at']) for d in notice]\n",
    "new = old.copy()\n",
    "\n",
    "set(old) - set(new)"
   ]
  },
  {
   "cell_type": "code",
   "execution_count": 69,
   "metadata": {},
   "outputs": [],
   "source": [
    "title = old[2][0]\n",
    "# title = '[거래] KRW, BTC 마켓 디지털 자산 추가 (ALGO, AUDIO)'"
   ]
  },
  {
   "cell_type": "code",
   "execution_count": 100,
   "metadata": {},
   "outputs": [
    {
     "data": {
      "text/plain": [
       "'[거래] KRW, BTC 마켓 디지털 자산 추가 (ALGO, AUDIO)'"
      ]
     },
     "execution_count": 100,
     "metadata": {},
     "output_type": "execute_result"
    }
   ],
   "source": [
    "title"
   ]
  },
  {
   "cell_type": "code",
   "execution_count": 88,
   "metadata": {},
   "outputs": [
    {
     "data": {
      "text/plain": [
       "True"
      ]
     },
     "execution_count": 88,
     "metadata": {},
     "output_type": "execute_result"
    }
   ],
   "source": [
    "(\"[거래]\" in title) & ('디지털 자산 추가' in title)"
   ]
  },
  {
   "cell_type": "code",
   "execution_count": 121,
   "metadata": {},
   "outputs": [
    {
     "name": "stdout",
     "output_type": "stream",
     "text": [
      "1\n"
     ]
    },
    {
     "data": {
      "text/plain": [
       "['ALGO', 'AUDIO']"
      ]
     },
     "execution_count": 121,
     "metadata": {},
     "output_type": "execute_result"
    }
   ],
   "source": [
    "import re\n",
    "p = re.findall('\\(([^)]+)', title)\n",
    "print(len(p))\n",
    "\n",
    "# p가 1이면\n",
    "p[len(p)-1].replace(' ','').split(',')"
   ]
  }
 ],
 "metadata": {
  "interpreter": {
   "hash": "b3ba2566441a7c06988d0923437866b63cedc61552a5af99d1f4fb67d367b25f"
  },
  "kernelspec": {
   "display_name": "Python 3.8.5 64-bit ('base': conda)",
   "language": "python",
   "name": "python3"
  },
  "language_info": {
   "codemirror_mode": {
    "name": "ipython",
    "version": 3
   },
   "file_extension": ".py",
   "mimetype": "text/x-python",
   "name": "python",
   "nbconvert_exporter": "python",
   "pygments_lexer": "ipython3",
   "version": "3.8.5"
  },
  "orig_nbformat": 4
 },
 "nbformat": 4,
 "nbformat_minor": 2
}
