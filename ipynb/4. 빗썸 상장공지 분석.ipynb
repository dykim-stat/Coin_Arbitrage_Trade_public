{
 "cells": [
  {
   "cell_type": "markdown",
   "metadata": {},
   "source": [
    "해당 문서에 존재하는 내용\n",
    "\n",
    "- 1. 상장 했던 공지와 시간 정리\n",
    "- 2. ticker 추출 하기\n",
    "- 3. 바이낸스에 빗썸 상장이 영향을 미치는지 연구"
   ]
  },
  {
   "cell_type": "markdown",
   "metadata": {},
   "source": [
    "## 1. telegram json 파일 불러와서 빗썸 공지 찾아내기"
   ]
  },
  {
   "cell_type": "code",
   "execution_count": 22,
   "metadata": {},
   "outputs": [],
   "source": [
    "import json\n",
    "import pandas as pd"
   ]
  },
  {
   "cell_type": "code",
   "execution_count": 44,
   "metadata": {},
   "outputs": [],
   "source": [
    "bithumb = [\n",
    "    (\"2021-08-19T12:24:35\", \"[상장/이벤트] 솔라나(SOL), 벨로프로토콜(VELO) 원화/BTC 마켓 상장 및 이벤트 안내 (상장 예정)\"),\n",
    "    (\"2021-08-12T11:30:18\", \"[상장] 엑시인피니티(AXS) 원화/BTC 마켓 상장 안내 (상장 예정)\"),\n",
    "    (\"2021-07-15T11:07:29\", \"[상장/이벤트] 페이코인(PCI) 원화/BTC 마켓 상장 및 이벤트 안내 (상장 예정)\"),\n",
    "    (\"2021-07-08T15:00:12\", \"[상장/이벤트] 심볼(XYM) 원화/BTC 마켓 상장 및 수수료 무료 이벤트 안내 (상장 예정)\"),\n",
    "    (\"2021-07-01T11:30:13\", \"[상장/이벤트] 써틱(CTK) 원화/BTC 마켓 상장 및 이벤트 안내 (상장 예정)\"),\n",
    "    (\"2021-06-29T10:50:33\", \"[상장] 뱅코르(BNT) 원화/BTC 마켓 상장 안내 (상장 예정)\"),\n",
    "    (\"2021-06-18T11:00:12\", \"[상장/이벤트] 베이커리토큰(BAKE), 카르테시(CTSI) 원화/BTC 마켓 상장 및 이벤트 안내 (상장 예정)\"),\n",
    "    (\"2021-06-10T11:00:14\", \"[상장] 팬케이크스왑(CAKE), 비너스(XVS) 원화/BTC 마켓 상장 안내 (상장 예정)\"),\n",
    "    (\"2021-06-07T14:20:35\", \"[상장] 폴리곤(MATIC) 원화/BTC 마켓 상장 안내 (상장 예정)\"),\n",
    "    (\"2021-06-03T12:00:18\", \"[상장] 다이(DAI) 신규 상장 및 렌(REN), 셀러네트워크(CELR) 원화 마켓 추가 안내 (상장 예정)\"),\n",
    "    (\"2021-06-01T11:00:10\", \"[상장/이벤트] 베라시티(VRA) 원화/BTC 마켓 상장 안내(상장 예정)\"),\n",
    "    (\"2021-05-27T15:00:08\", \"[상장]  바이낸스코인(BNB) 원화/BTC 마켓 상장 안내 (상장 예정)\"),\n",
    "    (\"2021-05-25T11:00:16\", \"[상장]  바이낸스코인(BNB) 원화/BTC 마켓 상장 안내 (상장 예정)\"),\n",
    "    (\"2021-05-14T15:00:07\", \"[상장]  클레이튼(KLAY), 도지코인(DOGE) 원화/BTC 마켓 상장 안내 (상장 예정)\"),\n",
    "    (\"2021-05-06T13:31:06\", \"[상장/이벤트] 아이젝(RLC) 원화 마켓 추가 완료 및 아스타(ASTA), 두드림체인(DRM) BTC 마켓 상장 이벤트 안내(상장 예정)\"),\n",
    "    (\"2021-04-29T11:05:08\", \"[상장] 랠리(RLY), 오션프로토콜(OCEAN), 칠리즈(CHZ) 원화/BTC 마켓 상장 안내 (상장 예정)\"),\n",
    "    (\"2021-04-22T11:15:56\", \"[상장/이벤트] 미스블록(MSB), 바이프로스트(BFC) BTC 마켓 상장 및 이벤트 안내 (상장 예정)\"),\n",
    "    (\"2021-04-20T10:55:55\", \"[상장/이벤트]  아로와나토큰(ARW) 원화/BTC 마켓 상장 및 이벤트 안내 (상장 예정)\"),\n",
    "    (\"2021-04-12T12:00:20\", \"[상장/이벤트] 마이네이버앨리스(ALICE), 디센트럴랜드(MANA) 원화/BTC 마켓 상장 및 이벤트 안내(상장 예정)\"),\n",
    "    (\"2021-04-08T11:40:06\", \"[상장/이벤트] 힙스(HIBS), 게이머코인(GHX) BTC 마켓 상장 및 이벤트 안내(상장 예정)\"),\n",
    "    (\"2021-04-05T18:20:18\", \"[상장/이벤트] 셀러네트워크(CELR), 어셈블프로토콜(ASM), 아이비피토큰(IBP) BTC 마켓 상장 및 이벤트 안내 (상장 예정)\"),\n",
    "    (\"2021-04-02T14:00:10\", \"[상장/이벤트] 라이파이낸스(RAI) 원화/BTC 마켓 상장 및 이벤트 안내 (상장 예정)\"),\n",
    "    (\"2021-03-31T10:50:11\", \"[상장/이벤트] 링크플로우(LF), 쎄타퓨엘(TFUEL) 원화/BTC 마켓 상장 및 이벤트 안내 (상장 예정)\"),\n",
    "    (\"2021-03-25T11:46:30\", \"[상장/이벤트] 아르고(AERGO), 메이커(MKR) 원화/BTC 마켓 상장 및 이벤트 안내(상장 예정)\"),\n",
    "    (\"2021-03-18T15:31:42\", \"[상장/이벤트] 버거스왑(BURGER), 스시스왑(SUSHI), 라이브피어(LPT) BTC 마켓 상장 및 에어드랍 이벤트 안내 (상장 예정)\"),\n",
    "    (\"2021-03-16T11:10:02\", \"[상장/이벤트] 위드(WIKEN), 리저브라이트(RSR) BTC 마켓 상장 및 에어드랍 이벤트 안내 (상장 예정)\"),\n",
    "    (\"2021-03-11T11:40:16\", \"[상장/이벤트] 컴파운드(COMP), 오키드(OXT) 원화 마켓 추가 및 너보스(CKB) BTC 마켓 상장 이벤트 안내(상장 예정)\"),\n",
    "    (\"2021-03-04T11:20:08\", \"[상장/이벤트] 에이브(AAVE), 신세틱스(SNX) 원화 마켓 추가 및 에스티피(STPT) BTC 마켓 상장 이벤트 안내 (상장 예정)\"),\n",
    "    (\"2021-02-22T11:30:32\", \"[상장/이벤트] 울트라(UOS), 누사이퍼(NU) BTC 마켓 상장 및 에어드랍 이벤트 안내 (상장 예정)\"),\n",
    "    (\"2021-02-19T14:00:14\", \"[상장/이벤트] 밀리미터토큰(MM), 오키드(OXT) BTC 마켓 상장 및 에어드랍 이벤트 안내 (상장 예정)\"),\n",
    "    (\"2021-02-16T11:00:39\", \"[상장/이벤트] 디비전(DVI), 뉴메레르(NMR) BTC 마켓 상장 및 에어드랍 이벤트 안내 (상장 예정)\"),\n",
    "    (\"2021-02-10T11:30:16\", \"[상장/이벤트] 맵프로토콜(MAP), 아이젝(RLC) BTC 마켓 상장 및 에어드랍 이벤트 안내 (상장 예정)\"),\n",
    "    (\"2021-02-08T11:20:10\", \"[상장/이벤트] 리니어파이낸스(LINA) BTC 마켓 상장 및 에어드랍 이벤트 안내 (상장 예정)\"),\n",
    "    (\"2021-02-01T11:10:15\", \"[상장] 컴파운드(COMP), 렌(REN), 밸런서(BAL) BTC 마켓 상장 안내 (상장 예정)\"),\n",
    "    (\"2021-01-25T13:40:03\", \"[상장/이벤트] 마일벌스(MVC), 신세틱스(SNX) BTC 마켓 상장 및 에어드랍 이벤트 안내 (상장 예정)\"),\n",
    "    (\"2021-01-21T10:26:03\", \"[상장/이벤트] 제노토큰(XNO), 에이브(AAVE) BTC 마켓 상장 및 에어드랍 이벤트 안내 (상장 예정)\"),\n",
    "    (\"2021-01-18T15:00:55\", \"[상장/이벤트] 벨라프로토콜(BEL), 썸씽(SSX) BTC 마켓 상장 및 에어드랍 이벤트 안내 (상장 예정)\"),\n",
    "    (\"2021-01-14T10:00:31\", \"[상장/이벤트] 블로서리(BLY), 바이오패스포트(BIOT) BTC 마켓 상장 및 에어드랍 이벤트 안내 (상장 예정)\"),\n",
    "    (\"2021-01-08T11:01:18\", \"[상장/이벤트] 애니버스(ANV), 더그래프(GRT) BTC 마켓 상장 및 에어드랍 이벤트 안내 (상장 예정)\"),\n",
    "\n",
    "]"
   ]
  },
  {
   "cell_type": "markdown",
   "metadata": {},
   "source": [
    "## 2. Ticker 추출하기"
   ]
  },
  {
   "cell_type": "code",
   "execution_count": 50,
   "metadata": {},
   "outputs": [
    {
     "name": "stdout",
     "output_type": "stream",
     "text": [
      "['SOL', 'VELO', '상장 예정']\n"
     ]
    }
   ],
   "source": [
    "text = '[상장/이벤트] 솔라나(SOL), 벨로프로토콜(VELO) 원화/BTC 마켓 상장 및 이벤트 안내 (상장 예정)'\n",
    "# () 괄호 안에 있는 text만 가져오기 예시\n",
    "p = re.findall('\\(([^)]+)', text)\n",
    "print(p)\n"
   ]
  },
  {
   "cell_type": "code",
   "execution_count": 49,
   "metadata": {},
   "outputs": [
    {
     "data": {
      "text/plain": [
       "['SOL', 'VELO']"
      ]
     },
     "execution_count": 49,
     "metadata": {},
     "output_type": "execute_result"
    }
   ],
   "source": [
    "import re\n",
    "def ticker_extractor_bithumb(title):\n",
    "    p = re.findall('\\(([^)]+)', title)\n",
    "    return(p[:-1])\n",
    "ticker_extractor_bithumb(text)"
   ]
  },
  {
   "cell_type": "code",
   "execution_count": 74,
   "metadata": {},
   "outputs": [
    {
     "name": "stdout",
     "output_type": "stream",
     "text": [
      "['SOL', 'VELO', 'AXS', 'PCI', 'XYM', 'CTK', 'BNT', 'BAKE', 'CTSI', 'CAKE']\n"
     ]
    },
    {
     "data": {
      "text/plain": [
       "[1, 1, 1, 0, 1, 1, 1, 1, 1, 1]"
      ]
     },
     "execution_count": 74,
     "metadata": {},
     "output_type": "execute_result"
    }
   ],
   "source": [
    "tickers = sum([ticker_extractor_bithumb(t[1]) for t in bithumb],[])\n",
    "print(ticker[:10])\n",
    "# ['SOL', 'VELO', 'AXS', 'PCI', 'XYM', 'CTK', 'BNT', 'BAKE', 'CTSI', 'CAKE']\n",
    "[1, 0, 1, 0, 0, 1, 1, 1, 1, 1] # binance\n",
    "[1, 1, 1, 0, 0, 0, 1, 0, 0, 0] # okex\n",
    "[1, 1, 1, 0, 1, 1, 1, 1, 1, 1] # gate.io"
   ]
  },
  {
   "cell_type": "markdown",
   "metadata": {},
   "source": [
    "## 3. 바이낸스에 빗썸 상장이 영향을 미치는지 연구"
   ]
  },
  {
   "cell_type": "code",
   "execution_count": 71,
   "metadata": {},
   "outputs": [],
   "source": [
    "import ccxt\n",
    "from datetime import datetime"
   ]
  },
  {
   "cell_type": "code",
   "execution_count": 65,
   "metadata": {},
   "outputs": [],
   "source": [
    "def scrape_ohlcv(exchange, max_retries, symbol, timeframe, since, limit):\n",
    "    earliest_timestamp = exchange.milliseconds() # 현재시간?\n",
    "    timeframe_duration_in_seconds = exchange.parse_timeframe(timeframe) # 초단위로 바꿈\n",
    "    timeframe_duration_in_ms = timeframe_duration_in_seconds * 1000\n",
    "    timedelta = limit * timeframe_duration_in_ms\n",
    "    if isinstance(since, str):\n",
    "        since = exchange.parse8601(since)\n",
    "\n",
    "    all_ohlcv = []\n",
    "    while True:\n",
    "        fetch_since = earliest_timestamp - timedelta\n",
    "        ohlcv = retry_fetch_ohlcv(exchange, max_retries, symbol, timeframe, fetch_since, limit)\n",
    "        # if we have reached the beginning of history\n",
    "        if ohlcv[0][0] >= earliest_timestamp:\n",
    "            break\n",
    "        earliest_timestamp = ohlcv[0][0]\n",
    "        all_ohlcv = ohlcv + all_ohlcv\n",
    "        if len(all_ohlcv) % 100000 == 0:\n",
    "            print(len(all_ohlcv), symbol, 'candles in total from', exchange.iso8601(all_ohlcv[0][0]), 'to', exchange.iso8601(all_ohlcv[-1][0]))\n",
    "        # if we have reached the checkpoint\n",
    "        if fetch_since < since:\n",
    "            break\n",
    "        \n",
    "    return all_ohlcv\n",
    "\n",
    "def retry_fetch_ohlcv(exchange, max_retries, symbol, timeframe, since, limit):\n",
    "    num_retries = 0\n",
    "    try:\n",
    "        num_retries += 1\n",
    "        ohlcv = exchange.fetch_ohlcv(symbol, timeframe, since, limit)\n",
    "        # print('Fetched', len(ohlcv), symbol, 'candles from', exchange.iso8601 (ohlcv[0][0]), 'to', exchange.iso8601 (ohlcv[-1][0]))\n",
    "        return ohlcv\n",
    "    except Exception:\n",
    "        if num_retries > max_retries:\n",
    "            raise  # Exception('Failed to fetch', timeframe, symbol, 'OHLCV in', max_retries, 'attempts')"
   ]
  },
  {
   "cell_type": "code",
   "execution_count": 150,
   "metadata": {},
   "outputs": [],
   "source": [
    "def Binance_Ohlc_Chart(i):\n",
    "    binance = ccxt.binance()\n",
    "    ticker = tickers[i]\n",
    "    public_date = bithumb[i][0][:-2]+'00'\n",
    "    public_date = public_date.replace('T',' ')\n",
    "\n",
    "    all_ohlcv = scrape_ohlcv(binance, 3, f'{ticker}/USDT', '1m', '2017-01-01 00:00:00Z', 1000)\n",
    "    dat = pd.DataFrame(all_ohlcv, columns=['time','open','high','low','close','volume'])\n",
    "    dat['time'] = [datetime.fromtimestamp(t/1000).strftime('%Y-%m-%d %H:%M:%S') for t in dat['time']]\n",
    "\n",
    "    idx = dat.loc[dat['time']==public_date].index[0]\n",
    "    dat_filter = dat.iloc[(idx-30):(idx+60)]\n",
    "\n",
    "    fig = go.Figure(data=go.Candlestick(\n",
    "        x=dat_filter['time'],\n",
    "        open=dat_filter['open'],\n",
    "        high=dat_filter['high'],\n",
    "        low=dat_filter['low'],\n",
    "        close=dat_filter['close']))\n",
    "    fig.update_layout(\n",
    "        title = ticker+'/USDT Binance Chart',\n",
    "        shapes = [dict(\n",
    "            x0=public_date,x1=public_date,\n",
    "            y0=min(dat_filter['low'])*0.98 ,y1=min(dat_filter['high'])*1.02\n",
    "        )]\n",
    "    )\n",
    "    fig.show()"
   ]
  },
  {
   "cell_type": "code",
   "execution_count": 142,
   "metadata": {},
   "outputs": [
    {
     "name": "stdout",
     "output_type": "stream",
     "text": [
      "100000 SOL/USDT candles in total from 2021-09-16T18:05:00.000Z to 2021-11-25T04:44:00.000Z\n",
      "200000 SOL/USDT candles in total from 2021-07-09T07:25:00.000Z to 2021-11-25T04:44:00.000Z\n",
      "300000 SOL/USDT candles in total from 2021-04-30T20:45:00.000Z to 2021-11-25T04:44:00.000Z\n",
      "400000 SOL/USDT candles in total from 2021-02-20T11:25:00.000Z to 2021-11-25T04:44:00.000Z\n",
      "500000 SOL/USDT candles in total from 2020-12-13T00:45:00.000Z to 2021-11-25T04:44:00.000Z\n",
      "600000 SOL/USDT candles in total from 2020-10-04T14:05:00.000Z to 2021-11-25T04:44:00.000Z\n"
     ]
    },
    {
     "data": {
      "application/vnd.plotly.v1+json": {
       "config": {
        "plotlyServerURL": "https://plot.ly"
       },
       "data": [
        {
         "close": [
          71.645,
          71.613,
          71.437,
          71.396,
          71.451,
          71.255,
          71.274,
          71.319,
          71.416,
          71.361,
          71.5,
          71.317,
          71.019,
          70.446,
          70.251,
          70.129,
          69.791,
          69.256,
          69.578,
          69.883,
          69.714,
          70.025,
          70.201,
          70.191,
          70.137,
          69.792,
          69.821,
          70.235,
          69.768,
          69.337,
          70.106,
          70.439,
          70.334,
          70.166,
          69.894,
          69.481,
          69.51,
          69.94,
          70.101,
          70.616,
          70.774,
          70.885,
          70.853,
          71.058,
          70.676,
          70.559,
          70.374,
          70.525,
          69.992,
          70.027,
          70.203,
          70.725,
          70.742,
          70.802,
          70.388,
          70.254,
          69.775,
          70.073,
          69.948,
          70.028,
          70.25,
          69.878,
          69.714,
          69.788,
          69.787,
          69.666,
          69.878,
          69.782,
          69.531,
          69.899,
          70.247,
          69.97,
          70.156,
          70.882,
          70.804,
          71.127,
          70.884,
          70.884,
          70.746,
          70.552,
          70.47,
          70.373,
          70.193,
          70.096,
          70.125,
          70.765,
          71.184,
          71.452,
          71.546,
          71.991
         ],
         "high": [
          71.811,
          71.76,
          71.61,
          71.481,
          71.606,
          71.453,
          71.291,
          71.37,
          71.5,
          71.485,
          71.5,
          71.498,
          71.366,
          71.055,
          70.628,
          70.416,
          70.129,
          69.862,
          69.661,
          69.972,
          69.971,
          70.052,
          70.201,
          70.261,
          70.199,
          70.171,
          69.848,
          70.292,
          70.215,
          69.763,
          70.473,
          71,
          70.686,
          70.517,
          70.21,
          69.974,
          69.88,
          69.98,
          70.231,
          70.679,
          70.791,
          71,
          70.936,
          71.11,
          71.087,
          70.824,
          70.576,
          70.525,
          70.526,
          70.027,
          70.264,
          70.787,
          70.787,
          70.846,
          70.85,
          70.423,
          70.259,
          70.139,
          70.137,
          70.117,
          70.291,
          70.292,
          70.079,
          69.79,
          69.79,
          69.79,
          70.063,
          70.004,
          69.802,
          69.9,
          70.276,
          70.278,
          70.303,
          71.148,
          70.966,
          71.229,
          71.149,
          71.021,
          70.9,
          70.9,
          70.545,
          70.528,
          70.37,
          70.207,
          70.15,
          70.796,
          71.196,
          71.5,
          71.642,
          71.996
         ],
         "low": [
          71.54,
          71.525,
          71.37,
          71.322,
          71.398,
          71.255,
          71.053,
          71.224,
          71.258,
          71.291,
          71.218,
          71.317,
          70.987,
          70.41,
          70.044,
          70.065,
          69.42,
          69.111,
          68.981,
          69.508,
          69.568,
          69.406,
          69.748,
          70.133,
          69.878,
          69.756,
          69.531,
          69.611,
          69.672,
          69.308,
          69.209,
          70.006,
          70.277,
          70.106,
          69.88,
          69.391,
          69.363,
          69.459,
          69.803,
          69.982,
          70.5,
          70.706,
          70.668,
          70.776,
          70.641,
          70.497,
          70.331,
          70.308,
          69.992,
          69.7,
          69.903,
          70.237,
          70.665,
          70.713,
          70.37,
          70.2,
          69.7,
          69.76,
          69.9,
          69.872,
          69.929,
          69.843,
          69.654,
          69.646,
          69.619,
          69.599,
          69.522,
          69.71,
          69.511,
          69.25,
          69.859,
          69.885,
          69.811,
          70.168,
          70.549,
          70.647,
          70.8,
          70.6,
          70.556,
          70.527,
          70.214,
          70.201,
          70.166,
          70,
          70,
          70.067,
          70.636,
          70.921,
          71.257,
          71.379
         ],
         "open": [
          71.796,
          71.657,
          71.587,
          71.397,
          71.422,
          71.429,
          71.27,
          71.302,
          71.285,
          71.418,
          71.361,
          71.479,
          71.317,
          71.019,
          70.474,
          70.251,
          70.106,
          69.74,
          69.232,
          69.632,
          69.914,
          69.717,
          70.025,
          70.201,
          70.191,
          70.11,
          69.756,
          69.79,
          70.215,
          69.73,
          69.32,
          70.098,
          70.435,
          70.334,
          70.132,
          69.914,
          69.5,
          69.535,
          69.9,
          70.125,
          70.6,
          70.791,
          70.885,
          70.812,
          71.027,
          70.642,
          70.576,
          70.375,
          70.511,
          70.013,
          70.018,
          70.244,
          70.732,
          70.783,
          70.836,
          70.388,
          70.254,
          69.798,
          70.092,
          69.904,
          70.01,
          70.292,
          69.89,
          69.664,
          69.786,
          69.788,
          69.632,
          69.878,
          69.799,
          69.559,
          69.859,
          70.249,
          69.915,
          70.168,
          70.895,
          70.78,
          71.117,
          70.869,
          70.851,
          70.725,
          70.526,
          70.516,
          70.35,
          70.174,
          70.067,
          70.122,
          70.749,
          71.163,
          71.465,
          71.535
         ],
         "type": "candlestick",
         "x": [
          "2021-08-19 11:54:00",
          "2021-08-19 11:55:00",
          "2021-08-19 11:56:00",
          "2021-08-19 11:57:00",
          "2021-08-19 11:58:00",
          "2021-08-19 11:59:00",
          "2021-08-19 12:00:00",
          "2021-08-19 12:01:00",
          "2021-08-19 12:02:00",
          "2021-08-19 12:03:00",
          "2021-08-19 12:04:00",
          "2021-08-19 12:05:00",
          "2021-08-19 12:06:00",
          "2021-08-19 12:07:00",
          "2021-08-19 12:08:00",
          "2021-08-19 12:09:00",
          "2021-08-19 12:10:00",
          "2021-08-19 12:11:00",
          "2021-08-19 12:12:00",
          "2021-08-19 12:13:00",
          "2021-08-19 12:14:00",
          "2021-08-19 12:15:00",
          "2021-08-19 12:16:00",
          "2021-08-19 12:17:00",
          "2021-08-19 12:18:00",
          "2021-08-19 12:19:00",
          "2021-08-19 12:20:00",
          "2021-08-19 12:21:00",
          "2021-08-19 12:22:00",
          "2021-08-19 12:23:00",
          "2021-08-19 12:24:00",
          "2021-08-19 12:25:00",
          "2021-08-19 12:26:00",
          "2021-08-19 12:27:00",
          "2021-08-19 12:28:00",
          "2021-08-19 12:29:00",
          "2021-08-19 12:30:00",
          "2021-08-19 12:31:00",
          "2021-08-19 12:32:00",
          "2021-08-19 12:33:00",
          "2021-08-19 12:34:00",
          "2021-08-19 12:35:00",
          "2021-08-19 12:36:00",
          "2021-08-19 12:37:00",
          "2021-08-19 12:38:00",
          "2021-08-19 12:39:00",
          "2021-08-19 12:40:00",
          "2021-08-19 12:41:00",
          "2021-08-19 12:42:00",
          "2021-08-19 12:43:00",
          "2021-08-19 12:44:00",
          "2021-08-19 12:45:00",
          "2021-08-19 12:46:00",
          "2021-08-19 12:47:00",
          "2021-08-19 12:48:00",
          "2021-08-19 12:49:00",
          "2021-08-19 12:50:00",
          "2021-08-19 12:51:00",
          "2021-08-19 12:52:00",
          "2021-08-19 12:53:00",
          "2021-08-19 12:54:00",
          "2021-08-19 12:55:00",
          "2021-08-19 12:56:00",
          "2021-08-19 12:57:00",
          "2021-08-19 12:58:00",
          "2021-08-19 12:59:00",
          "2021-08-19 13:00:00",
          "2021-08-19 13:01:00",
          "2021-08-19 13:02:00",
          "2021-08-19 13:03:00",
          "2021-08-19 13:04:00",
          "2021-08-19 13:05:00",
          "2021-08-19 13:06:00",
          "2021-08-19 13:07:00",
          "2021-08-19 13:08:00",
          "2021-08-19 13:09:00",
          "2021-08-19 13:10:00",
          "2021-08-19 13:11:00",
          "2021-08-19 13:12:00",
          "2021-08-19 13:13:00",
          "2021-08-19 13:14:00",
          "2021-08-19 13:15:00",
          "2021-08-19 13:16:00",
          "2021-08-19 13:17:00",
          "2021-08-19 13:18:00",
          "2021-08-19 13:19:00",
          "2021-08-19 13:20:00",
          "2021-08-19 13:21:00",
          "2021-08-19 13:22:00",
          "2021-08-19 13:23:00"
         ]
        }
       ],
       "layout": {
        "shapes": [
         {
          "x0": "2021-08-19 12:24:00",
          "x1": "2021-08-19 12:24:00",
          "y0": 62.082899999999995,
          "y1": 76.62710000000001
         }
        ],
        "template": {
         "data": {
          "bar": [
           {
            "error_x": {
             "color": "#2a3f5f"
            },
            "error_y": {
             "color": "#2a3f5f"
            },
            "marker": {
             "line": {
              "color": "#E5ECF6",
              "width": 0.5
             },
             "pattern": {
              "fillmode": "overlay",
              "size": 10,
              "solidity": 0.2
             }
            },
            "type": "bar"
           }
          ],
          "barpolar": [
           {
            "marker": {
             "line": {
              "color": "#E5ECF6",
              "width": 0.5
             },
             "pattern": {
              "fillmode": "overlay",
              "size": 10,
              "solidity": 0.2
             }
            },
            "type": "barpolar"
           }
          ],
          "carpet": [
           {
            "aaxis": {
             "endlinecolor": "#2a3f5f",
             "gridcolor": "white",
             "linecolor": "white",
             "minorgridcolor": "white",
             "startlinecolor": "#2a3f5f"
            },
            "baxis": {
             "endlinecolor": "#2a3f5f",
             "gridcolor": "white",
             "linecolor": "white",
             "minorgridcolor": "white",
             "startlinecolor": "#2a3f5f"
            },
            "type": "carpet"
           }
          ],
          "choropleth": [
           {
            "colorbar": {
             "outlinewidth": 0,
             "ticks": ""
            },
            "type": "choropleth"
           }
          ],
          "contour": [
           {
            "colorbar": {
             "outlinewidth": 0,
             "ticks": ""
            },
            "colorscale": [
             [
              0,
              "#0d0887"
             ],
             [
              0.1111111111111111,
              "#46039f"
             ],
             [
              0.2222222222222222,
              "#7201a8"
             ],
             [
              0.3333333333333333,
              "#9c179e"
             ],
             [
              0.4444444444444444,
              "#bd3786"
             ],
             [
              0.5555555555555556,
              "#d8576b"
             ],
             [
              0.6666666666666666,
              "#ed7953"
             ],
             [
              0.7777777777777778,
              "#fb9f3a"
             ],
             [
              0.8888888888888888,
              "#fdca26"
             ],
             [
              1,
              "#f0f921"
             ]
            ],
            "type": "contour"
           }
          ],
          "contourcarpet": [
           {
            "colorbar": {
             "outlinewidth": 0,
             "ticks": ""
            },
            "type": "contourcarpet"
           }
          ],
          "heatmap": [
           {
            "colorbar": {
             "outlinewidth": 0,
             "ticks": ""
            },
            "colorscale": [
             [
              0,
              "#0d0887"
             ],
             [
              0.1111111111111111,
              "#46039f"
             ],
             [
              0.2222222222222222,
              "#7201a8"
             ],
             [
              0.3333333333333333,
              "#9c179e"
             ],
             [
              0.4444444444444444,
              "#bd3786"
             ],
             [
              0.5555555555555556,
              "#d8576b"
             ],
             [
              0.6666666666666666,
              "#ed7953"
             ],
             [
              0.7777777777777778,
              "#fb9f3a"
             ],
             [
              0.8888888888888888,
              "#fdca26"
             ],
             [
              1,
              "#f0f921"
             ]
            ],
            "type": "heatmap"
           }
          ],
          "heatmapgl": [
           {
            "colorbar": {
             "outlinewidth": 0,
             "ticks": ""
            },
            "colorscale": [
             [
              0,
              "#0d0887"
             ],
             [
              0.1111111111111111,
              "#46039f"
             ],
             [
              0.2222222222222222,
              "#7201a8"
             ],
             [
              0.3333333333333333,
              "#9c179e"
             ],
             [
              0.4444444444444444,
              "#bd3786"
             ],
             [
              0.5555555555555556,
              "#d8576b"
             ],
             [
              0.6666666666666666,
              "#ed7953"
             ],
             [
              0.7777777777777778,
              "#fb9f3a"
             ],
             [
              0.8888888888888888,
              "#fdca26"
             ],
             [
              1,
              "#f0f921"
             ]
            ],
            "type": "heatmapgl"
           }
          ],
          "histogram": [
           {
            "marker": {
             "pattern": {
              "fillmode": "overlay",
              "size": 10,
              "solidity": 0.2
             }
            },
            "type": "histogram"
           }
          ],
          "histogram2d": [
           {
            "colorbar": {
             "outlinewidth": 0,
             "ticks": ""
            },
            "colorscale": [
             [
              0,
              "#0d0887"
             ],
             [
              0.1111111111111111,
              "#46039f"
             ],
             [
              0.2222222222222222,
              "#7201a8"
             ],
             [
              0.3333333333333333,
              "#9c179e"
             ],
             [
              0.4444444444444444,
              "#bd3786"
             ],
             [
              0.5555555555555556,
              "#d8576b"
             ],
             [
              0.6666666666666666,
              "#ed7953"
             ],
             [
              0.7777777777777778,
              "#fb9f3a"
             ],
             [
              0.8888888888888888,
              "#fdca26"
             ],
             [
              1,
              "#f0f921"
             ]
            ],
            "type": "histogram2d"
           }
          ],
          "histogram2dcontour": [
           {
            "colorbar": {
             "outlinewidth": 0,
             "ticks": ""
            },
            "colorscale": [
             [
              0,
              "#0d0887"
             ],
             [
              0.1111111111111111,
              "#46039f"
             ],
             [
              0.2222222222222222,
              "#7201a8"
             ],
             [
              0.3333333333333333,
              "#9c179e"
             ],
             [
              0.4444444444444444,
              "#bd3786"
             ],
             [
              0.5555555555555556,
              "#d8576b"
             ],
             [
              0.6666666666666666,
              "#ed7953"
             ],
             [
              0.7777777777777778,
              "#fb9f3a"
             ],
             [
              0.8888888888888888,
              "#fdca26"
             ],
             [
              1,
              "#f0f921"
             ]
            ],
            "type": "histogram2dcontour"
           }
          ],
          "mesh3d": [
           {
            "colorbar": {
             "outlinewidth": 0,
             "ticks": ""
            },
            "type": "mesh3d"
           }
          ],
          "parcoords": [
           {
            "line": {
             "colorbar": {
              "outlinewidth": 0,
              "ticks": ""
             }
            },
            "type": "parcoords"
           }
          ],
          "pie": [
           {
            "automargin": true,
            "type": "pie"
           }
          ],
          "scatter": [
           {
            "marker": {
             "colorbar": {
              "outlinewidth": 0,
              "ticks": ""
             }
            },
            "type": "scatter"
           }
          ],
          "scatter3d": [
           {
            "line": {
             "colorbar": {
              "outlinewidth": 0,
              "ticks": ""
             }
            },
            "marker": {
             "colorbar": {
              "outlinewidth": 0,
              "ticks": ""
             }
            },
            "type": "scatter3d"
           }
          ],
          "scattercarpet": [
           {
            "marker": {
             "colorbar": {
              "outlinewidth": 0,
              "ticks": ""
             }
            },
            "type": "scattercarpet"
           }
          ],
          "scattergeo": [
           {
            "marker": {
             "colorbar": {
              "outlinewidth": 0,
              "ticks": ""
             }
            },
            "type": "scattergeo"
           }
          ],
          "scattergl": [
           {
            "marker": {
             "colorbar": {
              "outlinewidth": 0,
              "ticks": ""
             }
            },
            "type": "scattergl"
           }
          ],
          "scattermapbox": [
           {
            "marker": {
             "colorbar": {
              "outlinewidth": 0,
              "ticks": ""
             }
            },
            "type": "scattermapbox"
           }
          ],
          "scatterpolar": [
           {
            "marker": {
             "colorbar": {
              "outlinewidth": 0,
              "ticks": ""
             }
            },
            "type": "scatterpolar"
           }
          ],
          "scatterpolargl": [
           {
            "marker": {
             "colorbar": {
              "outlinewidth": 0,
              "ticks": ""
             }
            },
            "type": "scatterpolargl"
           }
          ],
          "scatterternary": [
           {
            "marker": {
             "colorbar": {
              "outlinewidth": 0,
              "ticks": ""
             }
            },
            "type": "scatterternary"
           }
          ],
          "surface": [
           {
            "colorbar": {
             "outlinewidth": 0,
             "ticks": ""
            },
            "colorscale": [
             [
              0,
              "#0d0887"
             ],
             [
              0.1111111111111111,
              "#46039f"
             ],
             [
              0.2222222222222222,
              "#7201a8"
             ],
             [
              0.3333333333333333,
              "#9c179e"
             ],
             [
              0.4444444444444444,
              "#bd3786"
             ],
             [
              0.5555555555555556,
              "#d8576b"
             ],
             [
              0.6666666666666666,
              "#ed7953"
             ],
             [
              0.7777777777777778,
              "#fb9f3a"
             ],
             [
              0.8888888888888888,
              "#fdca26"
             ],
             [
              1,
              "#f0f921"
             ]
            ],
            "type": "surface"
           }
          ],
          "table": [
           {
            "cells": {
             "fill": {
              "color": "#EBF0F8"
             },
             "line": {
              "color": "white"
             }
            },
            "header": {
             "fill": {
              "color": "#C8D4E3"
             },
             "line": {
              "color": "white"
             }
            },
            "type": "table"
           }
          ]
         },
         "layout": {
          "annotationdefaults": {
           "arrowcolor": "#2a3f5f",
           "arrowhead": 0,
           "arrowwidth": 1
          },
          "autotypenumbers": "strict",
          "coloraxis": {
           "colorbar": {
            "outlinewidth": 0,
            "ticks": ""
           }
          },
          "colorscale": {
           "diverging": [
            [
             0,
             "#8e0152"
            ],
            [
             0.1,
             "#c51b7d"
            ],
            [
             0.2,
             "#de77ae"
            ],
            [
             0.3,
             "#f1b6da"
            ],
            [
             0.4,
             "#fde0ef"
            ],
            [
             0.5,
             "#f7f7f7"
            ],
            [
             0.6,
             "#e6f5d0"
            ],
            [
             0.7,
             "#b8e186"
            ],
            [
             0.8,
             "#7fbc41"
            ],
            [
             0.9,
             "#4d9221"
            ],
            [
             1,
             "#276419"
            ]
           ],
           "sequential": [
            [
             0,
             "#0d0887"
            ],
            [
             0.1111111111111111,
             "#46039f"
            ],
            [
             0.2222222222222222,
             "#7201a8"
            ],
            [
             0.3333333333333333,
             "#9c179e"
            ],
            [
             0.4444444444444444,
             "#bd3786"
            ],
            [
             0.5555555555555556,
             "#d8576b"
            ],
            [
             0.6666666666666666,
             "#ed7953"
            ],
            [
             0.7777777777777778,
             "#fb9f3a"
            ],
            [
             0.8888888888888888,
             "#fdca26"
            ],
            [
             1,
             "#f0f921"
            ]
           ],
           "sequentialminus": [
            [
             0,
             "#0d0887"
            ],
            [
             0.1111111111111111,
             "#46039f"
            ],
            [
             0.2222222222222222,
             "#7201a8"
            ],
            [
             0.3333333333333333,
             "#9c179e"
            ],
            [
             0.4444444444444444,
             "#bd3786"
            ],
            [
             0.5555555555555556,
             "#d8576b"
            ],
            [
             0.6666666666666666,
             "#ed7953"
            ],
            [
             0.7777777777777778,
             "#fb9f3a"
            ],
            [
             0.8888888888888888,
             "#fdca26"
            ],
            [
             1,
             "#f0f921"
            ]
           ]
          },
          "colorway": [
           "#636efa",
           "#EF553B",
           "#00cc96",
           "#ab63fa",
           "#FFA15A",
           "#19d3f3",
           "#FF6692",
           "#B6E880",
           "#FF97FF",
           "#FECB52"
          ],
          "font": {
           "color": "#2a3f5f"
          },
          "geo": {
           "bgcolor": "white",
           "lakecolor": "white",
           "landcolor": "#E5ECF6",
           "showlakes": true,
           "showland": true,
           "subunitcolor": "white"
          },
          "hoverlabel": {
           "align": "left"
          },
          "hovermode": "closest",
          "mapbox": {
           "style": "light"
          },
          "paper_bgcolor": "white",
          "plot_bgcolor": "#E5ECF6",
          "polar": {
           "angularaxis": {
            "gridcolor": "white",
            "linecolor": "white",
            "ticks": ""
           },
           "bgcolor": "#E5ECF6",
           "radialaxis": {
            "gridcolor": "white",
            "linecolor": "white",
            "ticks": ""
           }
          },
          "scene": {
           "xaxis": {
            "backgroundcolor": "#E5ECF6",
            "gridcolor": "white",
            "gridwidth": 2,
            "linecolor": "white",
            "showbackground": true,
            "ticks": "",
            "zerolinecolor": "white"
           },
           "yaxis": {
            "backgroundcolor": "#E5ECF6",
            "gridcolor": "white",
            "gridwidth": 2,
            "linecolor": "white",
            "showbackground": true,
            "ticks": "",
            "zerolinecolor": "white"
           },
           "zaxis": {
            "backgroundcolor": "#E5ECF6",
            "gridcolor": "white",
            "gridwidth": 2,
            "linecolor": "white",
            "showbackground": true,
            "ticks": "",
            "zerolinecolor": "white"
           }
          },
          "shapedefaults": {
           "line": {
            "color": "#2a3f5f"
           }
          },
          "ternary": {
           "aaxis": {
            "gridcolor": "white",
            "linecolor": "white",
            "ticks": ""
           },
           "baxis": {
            "gridcolor": "white",
            "linecolor": "white",
            "ticks": ""
           },
           "bgcolor": "#E5ECF6",
           "caxis": {
            "gridcolor": "white",
            "linecolor": "white",
            "ticks": ""
           }
          },
          "title": {
           "x": 0.05
          },
          "xaxis": {
           "automargin": true,
           "gridcolor": "white",
           "linecolor": "white",
           "ticks": "",
           "title": {
            "standoff": 15
           },
           "zerolinecolor": "white",
           "zerolinewidth": 2
          },
          "yaxis": {
           "automargin": true,
           "gridcolor": "white",
           "linecolor": "white",
           "ticks": "",
           "title": {
            "standoff": 15
           },
           "zerolinecolor": "white",
           "zerolinewidth": 2
          }
         }
        },
        "title": {
         "text": "SOL/USDT Binance Chart"
        }
       }
      }
     },
     "metadata": {},
     "output_type": "display_data"
    }
   ],
   "source": [
    "Binance_Ohlc_Chart(0)"
   ]
  },
  {
   "cell_type": "code",
   "execution_count": 152,
   "metadata": {},
   "outputs": [
    {
     "name": "stdout",
     "output_type": "stream",
     "text": [
      "100000 AXS/USDT candles in total from 2021-09-16T18:09:00.000Z to 2021-11-25T04:48:00.000Z\n",
      "200000 AXS/USDT candles in total from 2021-07-09T07:29:00.000Z to 2021-11-25T04:48:00.000Z\n",
      "300000 AXS/USDT candles in total from 2021-04-30T20:49:00.000Z to 2021-11-25T04:48:00.000Z\n",
      "400000 AXS/USDT candles in total from 2021-02-20T11:25:00.000Z to 2021-11-25T04:48:00.000Z\n",
      "500000 AXS/USDT candles in total from 2020-12-13T00:45:00.000Z to 2021-11-25T04:48:00.000Z\n"
     ]
    },
    {
     "data": {
      "application/vnd.plotly.v1+json": {
       "config": {
        "plotlyServerURL": "https://plot.ly"
       },
       "data": [
        {
         "close": [
          24.5899,
          24.5935,
          24.6099,
          24.5911,
          24.558,
          24.4831,
          24.4189,
          24.5,
          24.67,
          24.7097,
          24.7317,
          24.75,
          24.8503,
          24.7941,
          24.799,
          24.8013,
          24.8047,
          24.8136,
          24.8574,
          24.8122,
          24.8065,
          24.7974,
          24.7588,
          24.6701,
          24.6389,
          24.6503,
          24.7401,
          24.8558,
          24.8535,
          24.99,
          24.945,
          24.9339,
          24.9216,
          24.8929,
          24.9343,
          25.0209,
          25.0483,
          24.9448,
          24.862,
          24.9083,
          24.8859,
          24.8698,
          24.8201,
          24.8024,
          24.8345,
          24.8017,
          24.824,
          24.8968,
          24.8481,
          24.7639,
          24.6566,
          24.6931,
          24.7303,
          24.615,
          24.5786,
          24.6729,
          24.7426,
          24.7292,
          24.6823,
          24.7617,
          24.7093,
          24.7245,
          24.7441,
          24.7083,
          24.7079,
          24.7204,
          24.7894,
          24.8463,
          24.9601,
          24.9284,
          25.2572,
          25.0916,
          25.1681,
          25.3135,
          25.3181,
          25.2355,
          25.2658,
          25.2147,
          25.2631,
          25.3023,
          25.2998,
          25.3049,
          25.2728,
          25.1851,
          25.1796,
          25.1,
          25.05,
          25.2,
          25.3226,
          25.5127
         ],
         "high": [
          24.6359,
          24.6383,
          24.65,
          24.631,
          24.59,
          24.57,
          24.49,
          24.5377,
          24.7,
          24.7126,
          24.745,
          24.75,
          24.87,
          24.87,
          24.85,
          24.8151,
          24.8589,
          24.8597,
          24.89,
          24.9,
          24.8468,
          24.8247,
          24.7924,
          24.7917,
          24.7003,
          24.688,
          24.7749,
          24.9,
          24.8986,
          24.99,
          25.0682,
          24.9778,
          24.9553,
          24.9494,
          24.9469,
          25.0414,
          25.1,
          25.0484,
          24.9485,
          24.9755,
          24.9266,
          24.9059,
          24.8633,
          24.84,
          24.85,
          24.847,
          24.84,
          24.9177,
          24.9094,
          24.8683,
          24.7636,
          24.6979,
          24.7393,
          24.7459,
          24.6398,
          24.7155,
          24.778,
          24.7474,
          24.7362,
          24.7617,
          24.7669,
          24.73,
          24.78,
          24.7666,
          24.7394,
          24.7625,
          24.845,
          24.85,
          25.05,
          25.02,
          25.42,
          25.3658,
          25.2521,
          25.35,
          25.37,
          25.3201,
          25.3282,
          25.2907,
          25.32,
          25.35,
          25.42,
          25.4,
          25.3218,
          25.2724,
          25.2037,
          25.2364,
          25.1436,
          25.2,
          25.3854,
          25.5929
         ],
         "low": [
          24.5,
          24.5815,
          24.5543,
          24.5837,
          24.5272,
          24.4831,
          24.4,
          24.4072,
          24.4907,
          24.6414,
          24.6833,
          24.7007,
          24.7385,
          24.7745,
          24.77,
          24.7811,
          24.7811,
          24.7811,
          24.8256,
          24.7822,
          24.7835,
          24.7522,
          24.7,
          24.6406,
          24.6144,
          24.6108,
          24.655,
          24.7402,
          24.8021,
          24.8467,
          24.9282,
          24.9002,
          24.8883,
          24.8641,
          24.8777,
          24.9391,
          25.0024,
          24.9236,
          24.8269,
          24.846,
          24.855,
          24.824,
          24.8,
          24.8,
          24.7991,
          24.7852,
          24.8,
          24.8094,
          24.818,
          24.76,
          24.65,
          24.6143,
          24.6899,
          24.6,
          24.5212,
          24.5412,
          24.6683,
          24.6596,
          24.6817,
          24.6526,
          24.6917,
          24.6792,
          24.7205,
          24.7,
          24.6125,
          24.7001,
          24.7109,
          24.7708,
          24.8445,
          24.9001,
          24.9246,
          25.0415,
          25.0936,
          25.1594,
          25.271,
          25.2189,
          25.2359,
          25.2147,
          25.1474,
          25.2541,
          25.2703,
          25.2205,
          25.2453,
          25.15,
          25.0788,
          25.1,
          25.0001,
          25.0179,
          25.1154,
          25.2847
         ],
         "open": [
          24.5853,
          24.5821,
          24.5973,
          24.6248,
          24.59,
          24.5579,
          24.482,
          24.4189,
          24.5,
          24.6651,
          24.7004,
          24.7298,
          24.75,
          24.8422,
          24.794,
          24.7878,
          24.8013,
          24.8047,
          24.8256,
          24.8484,
          24.8,
          24.8159,
          24.7828,
          24.7478,
          24.6735,
          24.6299,
          24.655,
          24.7402,
          24.8693,
          24.8557,
          24.99,
          24.9415,
          24.9367,
          24.9327,
          24.8871,
          24.9391,
          25.0214,
          25.044,
          24.9449,
          24.8485,
          24.9063,
          24.8964,
          24.8529,
          24.8192,
          24.8053,
          24.8352,
          24.8016,
          24.817,
          24.8968,
          24.8425,
          24.7601,
          24.6567,
          24.6931,
          24.7304,
          24.6142,
          24.5899,
          24.6727,
          24.7462,
          24.7315,
          24.6833,
          24.7643,
          24.7049,
          24.7205,
          24.7523,
          24.7158,
          24.7059,
          24.72,
          24.7883,
          24.8463,
          24.9662,
          24.9246,
          25.2818,
          25.1206,
          25.1594,
          25.3053,
          25.3201,
          25.2396,
          25.2729,
          25.2168,
          25.2541,
          25.3078,
          25.296,
          25.3056,
          25.2638,
          25.1765,
          25.1899,
          25.1,
          25.0345,
          25.1884,
          25.33
         ],
         "type": "candlestick",
         "x": [
          "2021-07-15 10:37:00",
          "2021-07-15 10:38:00",
          "2021-07-15 10:39:00",
          "2021-07-15 10:40:00",
          "2021-07-15 10:41:00",
          "2021-07-15 10:42:00",
          "2021-07-15 10:43:00",
          "2021-07-15 10:44:00",
          "2021-07-15 10:45:00",
          "2021-07-15 10:46:00",
          "2021-07-15 10:47:00",
          "2021-07-15 10:48:00",
          "2021-07-15 10:49:00",
          "2021-07-15 10:50:00",
          "2021-07-15 10:51:00",
          "2021-07-15 10:52:00",
          "2021-07-15 10:53:00",
          "2021-07-15 10:54:00",
          "2021-07-15 10:55:00",
          "2021-07-15 10:56:00",
          "2021-07-15 10:57:00",
          "2021-07-15 10:58:00",
          "2021-07-15 10:59:00",
          "2021-07-15 11:00:00",
          "2021-07-15 11:01:00",
          "2021-07-15 11:02:00",
          "2021-07-15 11:03:00",
          "2021-07-15 11:04:00",
          "2021-07-15 11:05:00",
          "2021-07-15 11:06:00",
          "2021-07-15 11:07:00",
          "2021-07-15 11:08:00",
          "2021-07-15 11:09:00",
          "2021-07-15 11:10:00",
          "2021-07-15 11:11:00",
          "2021-07-15 11:12:00",
          "2021-07-15 11:13:00",
          "2021-07-15 11:14:00",
          "2021-07-15 11:15:00",
          "2021-07-15 11:16:00",
          "2021-07-15 11:17:00",
          "2021-07-15 11:18:00",
          "2021-07-15 11:19:00",
          "2021-07-15 11:20:00",
          "2021-07-15 11:21:00",
          "2021-07-15 11:22:00",
          "2021-07-15 11:23:00",
          "2021-07-15 11:24:00",
          "2021-07-15 11:25:00",
          "2021-07-15 11:26:00",
          "2021-07-15 11:27:00",
          "2021-07-15 11:28:00",
          "2021-07-15 11:29:00",
          "2021-07-15 11:30:00",
          "2021-07-15 11:31:00",
          "2021-07-15 11:32:00",
          "2021-07-15 11:33:00",
          "2021-07-15 11:34:00",
          "2021-07-15 11:35:00",
          "2021-07-15 11:36:00",
          "2021-07-15 11:37:00",
          "2021-07-15 11:38:00",
          "2021-07-15 11:39:00",
          "2021-07-15 11:40:00",
          "2021-07-15 11:41:00",
          "2021-07-15 11:42:00",
          "2021-07-15 11:43:00",
          "2021-07-15 11:44:00",
          "2021-07-15 11:45:00",
          "2021-07-15 11:46:00",
          "2021-07-15 11:47:00",
          "2021-07-15 11:48:00",
          "2021-07-15 11:49:00",
          "2021-07-15 11:50:00",
          "2021-07-15 11:51:00",
          "2021-07-15 11:52:00",
          "2021-07-15 11:53:00",
          "2021-07-15 11:54:00",
          "2021-07-15 11:55:00",
          "2021-07-15 11:56:00",
          "2021-07-15 11:57:00",
          "2021-07-15 11:58:00",
          "2021-07-15 11:59:00",
          "2021-07-15 12:00:00",
          "2021-07-15 12:01:00",
          "2021-07-15 12:02:00",
          "2021-07-15 12:03:00",
          "2021-07-15 12:04:00",
          "2021-07-15 12:05:00",
          "2021-07-15 12:06:00"
         ]
        }
       ],
       "layout": {
        "shapes": [
         {
          "x0": "2021-07-15 11:07:00",
          "x1": "2021-07-15 11:07:00",
          "y0": 23.912,
          "y1": 24.979799999999997
         }
        ],
        "template": {
         "data": {
          "bar": [
           {
            "error_x": {
             "color": "#2a3f5f"
            },
            "error_y": {
             "color": "#2a3f5f"
            },
            "marker": {
             "line": {
              "color": "#E5ECF6",
              "width": 0.5
             },
             "pattern": {
              "fillmode": "overlay",
              "size": 10,
              "solidity": 0.2
             }
            },
            "type": "bar"
           }
          ],
          "barpolar": [
           {
            "marker": {
             "line": {
              "color": "#E5ECF6",
              "width": 0.5
             },
             "pattern": {
              "fillmode": "overlay",
              "size": 10,
              "solidity": 0.2
             }
            },
            "type": "barpolar"
           }
          ],
          "carpet": [
           {
            "aaxis": {
             "endlinecolor": "#2a3f5f",
             "gridcolor": "white",
             "linecolor": "white",
             "minorgridcolor": "white",
             "startlinecolor": "#2a3f5f"
            },
            "baxis": {
             "endlinecolor": "#2a3f5f",
             "gridcolor": "white",
             "linecolor": "white",
             "minorgridcolor": "white",
             "startlinecolor": "#2a3f5f"
            },
            "type": "carpet"
           }
          ],
          "choropleth": [
           {
            "colorbar": {
             "outlinewidth": 0,
             "ticks": ""
            },
            "type": "choropleth"
           }
          ],
          "contour": [
           {
            "colorbar": {
             "outlinewidth": 0,
             "ticks": ""
            },
            "colorscale": [
             [
              0,
              "#0d0887"
             ],
             [
              0.1111111111111111,
              "#46039f"
             ],
             [
              0.2222222222222222,
              "#7201a8"
             ],
             [
              0.3333333333333333,
              "#9c179e"
             ],
             [
              0.4444444444444444,
              "#bd3786"
             ],
             [
              0.5555555555555556,
              "#d8576b"
             ],
             [
              0.6666666666666666,
              "#ed7953"
             ],
             [
              0.7777777777777778,
              "#fb9f3a"
             ],
             [
              0.8888888888888888,
              "#fdca26"
             ],
             [
              1,
              "#f0f921"
             ]
            ],
            "type": "contour"
           }
          ],
          "contourcarpet": [
           {
            "colorbar": {
             "outlinewidth": 0,
             "ticks": ""
            },
            "type": "contourcarpet"
           }
          ],
          "heatmap": [
           {
            "colorbar": {
             "outlinewidth": 0,
             "ticks": ""
            },
            "colorscale": [
             [
              0,
              "#0d0887"
             ],
             [
              0.1111111111111111,
              "#46039f"
             ],
             [
              0.2222222222222222,
              "#7201a8"
             ],
             [
              0.3333333333333333,
              "#9c179e"
             ],
             [
              0.4444444444444444,
              "#bd3786"
             ],
             [
              0.5555555555555556,
              "#d8576b"
             ],
             [
              0.6666666666666666,
              "#ed7953"
             ],
             [
              0.7777777777777778,
              "#fb9f3a"
             ],
             [
              0.8888888888888888,
              "#fdca26"
             ],
             [
              1,
              "#f0f921"
             ]
            ],
            "type": "heatmap"
           }
          ],
          "heatmapgl": [
           {
            "colorbar": {
             "outlinewidth": 0,
             "ticks": ""
            },
            "colorscale": [
             [
              0,
              "#0d0887"
             ],
             [
              0.1111111111111111,
              "#46039f"
             ],
             [
              0.2222222222222222,
              "#7201a8"
             ],
             [
              0.3333333333333333,
              "#9c179e"
             ],
             [
              0.4444444444444444,
              "#bd3786"
             ],
             [
              0.5555555555555556,
              "#d8576b"
             ],
             [
              0.6666666666666666,
              "#ed7953"
             ],
             [
              0.7777777777777778,
              "#fb9f3a"
             ],
             [
              0.8888888888888888,
              "#fdca26"
             ],
             [
              1,
              "#f0f921"
             ]
            ],
            "type": "heatmapgl"
           }
          ],
          "histogram": [
           {
            "marker": {
             "pattern": {
              "fillmode": "overlay",
              "size": 10,
              "solidity": 0.2
             }
            },
            "type": "histogram"
           }
          ],
          "histogram2d": [
           {
            "colorbar": {
             "outlinewidth": 0,
             "ticks": ""
            },
            "colorscale": [
             [
              0,
              "#0d0887"
             ],
             [
              0.1111111111111111,
              "#46039f"
             ],
             [
              0.2222222222222222,
              "#7201a8"
             ],
             [
              0.3333333333333333,
              "#9c179e"
             ],
             [
              0.4444444444444444,
              "#bd3786"
             ],
             [
              0.5555555555555556,
              "#d8576b"
             ],
             [
              0.6666666666666666,
              "#ed7953"
             ],
             [
              0.7777777777777778,
              "#fb9f3a"
             ],
             [
              0.8888888888888888,
              "#fdca26"
             ],
             [
              1,
              "#f0f921"
             ]
            ],
            "type": "histogram2d"
           }
          ],
          "histogram2dcontour": [
           {
            "colorbar": {
             "outlinewidth": 0,
             "ticks": ""
            },
            "colorscale": [
             [
              0,
              "#0d0887"
             ],
             [
              0.1111111111111111,
              "#46039f"
             ],
             [
              0.2222222222222222,
              "#7201a8"
             ],
             [
              0.3333333333333333,
              "#9c179e"
             ],
             [
              0.4444444444444444,
              "#bd3786"
             ],
             [
              0.5555555555555556,
              "#d8576b"
             ],
             [
              0.6666666666666666,
              "#ed7953"
             ],
             [
              0.7777777777777778,
              "#fb9f3a"
             ],
             [
              0.8888888888888888,
              "#fdca26"
             ],
             [
              1,
              "#f0f921"
             ]
            ],
            "type": "histogram2dcontour"
           }
          ],
          "mesh3d": [
           {
            "colorbar": {
             "outlinewidth": 0,
             "ticks": ""
            },
            "type": "mesh3d"
           }
          ],
          "parcoords": [
           {
            "line": {
             "colorbar": {
              "outlinewidth": 0,
              "ticks": ""
             }
            },
            "type": "parcoords"
           }
          ],
          "pie": [
           {
            "automargin": true,
            "type": "pie"
           }
          ],
          "scatter": [
           {
            "marker": {
             "colorbar": {
              "outlinewidth": 0,
              "ticks": ""
             }
            },
            "type": "scatter"
           }
          ],
          "scatter3d": [
           {
            "line": {
             "colorbar": {
              "outlinewidth": 0,
              "ticks": ""
             }
            },
            "marker": {
             "colorbar": {
              "outlinewidth": 0,
              "ticks": ""
             }
            },
            "type": "scatter3d"
           }
          ],
          "scattercarpet": [
           {
            "marker": {
             "colorbar": {
              "outlinewidth": 0,
              "ticks": ""
             }
            },
            "type": "scattercarpet"
           }
          ],
          "scattergeo": [
           {
            "marker": {
             "colorbar": {
              "outlinewidth": 0,
              "ticks": ""
             }
            },
            "type": "scattergeo"
           }
          ],
          "scattergl": [
           {
            "marker": {
             "colorbar": {
              "outlinewidth": 0,
              "ticks": ""
             }
            },
            "type": "scattergl"
           }
          ],
          "scattermapbox": [
           {
            "marker": {
             "colorbar": {
              "outlinewidth": 0,
              "ticks": ""
             }
            },
            "type": "scattermapbox"
           }
          ],
          "scatterpolar": [
           {
            "marker": {
             "colorbar": {
              "outlinewidth": 0,
              "ticks": ""
             }
            },
            "type": "scatterpolar"
           }
          ],
          "scatterpolargl": [
           {
            "marker": {
             "colorbar": {
              "outlinewidth": 0,
              "ticks": ""
             }
            },
            "type": "scatterpolargl"
           }
          ],
          "scatterternary": [
           {
            "marker": {
             "colorbar": {
              "outlinewidth": 0,
              "ticks": ""
             }
            },
            "type": "scatterternary"
           }
          ],
          "surface": [
           {
            "colorbar": {
             "outlinewidth": 0,
             "ticks": ""
            },
            "colorscale": [
             [
              0,
              "#0d0887"
             ],
             [
              0.1111111111111111,
              "#46039f"
             ],
             [
              0.2222222222222222,
              "#7201a8"
             ],
             [
              0.3333333333333333,
              "#9c179e"
             ],
             [
              0.4444444444444444,
              "#bd3786"
             ],
             [
              0.5555555555555556,
              "#d8576b"
             ],
             [
              0.6666666666666666,
              "#ed7953"
             ],
             [
              0.7777777777777778,
              "#fb9f3a"
             ],
             [
              0.8888888888888888,
              "#fdca26"
             ],
             [
              1,
              "#f0f921"
             ]
            ],
            "type": "surface"
           }
          ],
          "table": [
           {
            "cells": {
             "fill": {
              "color": "#EBF0F8"
             },
             "line": {
              "color": "white"
             }
            },
            "header": {
             "fill": {
              "color": "#C8D4E3"
             },
             "line": {
              "color": "white"
             }
            },
            "type": "table"
           }
          ]
         },
         "layout": {
          "annotationdefaults": {
           "arrowcolor": "#2a3f5f",
           "arrowhead": 0,
           "arrowwidth": 1
          },
          "autotypenumbers": "strict",
          "coloraxis": {
           "colorbar": {
            "outlinewidth": 0,
            "ticks": ""
           }
          },
          "colorscale": {
           "diverging": [
            [
             0,
             "#8e0152"
            ],
            [
             0.1,
             "#c51b7d"
            ],
            [
             0.2,
             "#de77ae"
            ],
            [
             0.3,
             "#f1b6da"
            ],
            [
             0.4,
             "#fde0ef"
            ],
            [
             0.5,
             "#f7f7f7"
            ],
            [
             0.6,
             "#e6f5d0"
            ],
            [
             0.7,
             "#b8e186"
            ],
            [
             0.8,
             "#7fbc41"
            ],
            [
             0.9,
             "#4d9221"
            ],
            [
             1,
             "#276419"
            ]
           ],
           "sequential": [
            [
             0,
             "#0d0887"
            ],
            [
             0.1111111111111111,
             "#46039f"
            ],
            [
             0.2222222222222222,
             "#7201a8"
            ],
            [
             0.3333333333333333,
             "#9c179e"
            ],
            [
             0.4444444444444444,
             "#bd3786"
            ],
            [
             0.5555555555555556,
             "#d8576b"
            ],
            [
             0.6666666666666666,
             "#ed7953"
            ],
            [
             0.7777777777777778,
             "#fb9f3a"
            ],
            [
             0.8888888888888888,
             "#fdca26"
            ],
            [
             1,
             "#f0f921"
            ]
           ],
           "sequentialminus": [
            [
             0,
             "#0d0887"
            ],
            [
             0.1111111111111111,
             "#46039f"
            ],
            [
             0.2222222222222222,
             "#7201a8"
            ],
            [
             0.3333333333333333,
             "#9c179e"
            ],
            [
             0.4444444444444444,
             "#bd3786"
            ],
            [
             0.5555555555555556,
             "#d8576b"
            ],
            [
             0.6666666666666666,
             "#ed7953"
            ],
            [
             0.7777777777777778,
             "#fb9f3a"
            ],
            [
             0.8888888888888888,
             "#fdca26"
            ],
            [
             1,
             "#f0f921"
            ]
           ]
          },
          "colorway": [
           "#636efa",
           "#EF553B",
           "#00cc96",
           "#ab63fa",
           "#FFA15A",
           "#19d3f3",
           "#FF6692",
           "#B6E880",
           "#FF97FF",
           "#FECB52"
          ],
          "font": {
           "color": "#2a3f5f"
          },
          "geo": {
           "bgcolor": "white",
           "lakecolor": "white",
           "landcolor": "#E5ECF6",
           "showlakes": true,
           "showland": true,
           "subunitcolor": "white"
          },
          "hoverlabel": {
           "align": "left"
          },
          "hovermode": "closest",
          "mapbox": {
           "style": "light"
          },
          "paper_bgcolor": "white",
          "plot_bgcolor": "#E5ECF6",
          "polar": {
           "angularaxis": {
            "gridcolor": "white",
            "linecolor": "white",
            "ticks": ""
           },
           "bgcolor": "#E5ECF6",
           "radialaxis": {
            "gridcolor": "white",
            "linecolor": "white",
            "ticks": ""
           }
          },
          "scene": {
           "xaxis": {
            "backgroundcolor": "#E5ECF6",
            "gridcolor": "white",
            "gridwidth": 2,
            "linecolor": "white",
            "showbackground": true,
            "ticks": "",
            "zerolinecolor": "white"
           },
           "yaxis": {
            "backgroundcolor": "#E5ECF6",
            "gridcolor": "white",
            "gridwidth": 2,
            "linecolor": "white",
            "showbackground": true,
            "ticks": "",
            "zerolinecolor": "white"
           },
           "zaxis": {
            "backgroundcolor": "#E5ECF6",
            "gridcolor": "white",
            "gridwidth": 2,
            "linecolor": "white",
            "showbackground": true,
            "ticks": "",
            "zerolinecolor": "white"
           }
          },
          "shapedefaults": {
           "line": {
            "color": "#2a3f5f"
           }
          },
          "ternary": {
           "aaxis": {
            "gridcolor": "white",
            "linecolor": "white",
            "ticks": ""
           },
           "baxis": {
            "gridcolor": "white",
            "linecolor": "white",
            "ticks": ""
           },
           "bgcolor": "#E5ECF6",
           "caxis": {
            "gridcolor": "white",
            "linecolor": "white",
            "ticks": ""
           }
          },
          "title": {
           "x": 0.05
          },
          "xaxis": {
           "automargin": true,
           "gridcolor": "white",
           "linecolor": "white",
           "ticks": "",
           "title": {
            "standoff": 15
           },
           "zerolinecolor": "white",
           "zerolinewidth": 2
          },
          "yaxis": {
           "automargin": true,
           "gridcolor": "white",
           "linecolor": "white",
           "ticks": "",
           "title": {
            "standoff": 15
           },
           "zerolinecolor": "white",
           "zerolinewidth": 2
          }
         }
        },
        "title": {
         "text": "AXS/USDT Binance Chart"
        }
       }
      }
     },
     "metadata": {},
     "output_type": "display_data"
    }
   ],
   "source": [
    "Binance_Ohlc_Chart(2)"
   ]
  },
  {
   "cell_type": "code",
   "execution_count": 153,
   "metadata": {},
   "outputs": [
    {
     "ename": "TypeError",
     "evalue": "'NoneType' object is not subscriptable",
     "output_type": "error",
     "traceback": [
      "\u001b[1;31m---------------------------------------------------------------------------\u001b[0m",
      "\u001b[1;31mTypeError\u001b[0m                                 Traceback (most recent call last)",
      "\u001b[1;32m<ipython-input-153-e701a239e59b>\u001b[0m in \u001b[0;36m<module>\u001b[1;34m\u001b[0m\n\u001b[1;32m----> 1\u001b[1;33m \u001b[0mBinance_Ohlc_Chart\u001b[0m\u001b[1;33m(\u001b[0m\u001b[1;36m3\u001b[0m\u001b[1;33m)\u001b[0m\u001b[1;33m\u001b[0m\u001b[1;33m\u001b[0m\u001b[0m\n\u001b[0m",
      "\u001b[1;32m<ipython-input-150-ada929eb52ca>\u001b[0m in \u001b[0;36mBinance_Ohlc_Chart\u001b[1;34m(i)\u001b[0m\n\u001b[0;32m      5\u001b[0m     \u001b[0mpublic_date\u001b[0m \u001b[1;33m=\u001b[0m \u001b[0mpublic_date\u001b[0m\u001b[1;33m.\u001b[0m\u001b[0mreplace\u001b[0m\u001b[1;33m(\u001b[0m\u001b[1;34m'T'\u001b[0m\u001b[1;33m,\u001b[0m\u001b[1;34m' '\u001b[0m\u001b[1;33m)\u001b[0m\u001b[1;33m\u001b[0m\u001b[1;33m\u001b[0m\u001b[0m\n\u001b[0;32m      6\u001b[0m \u001b[1;33m\u001b[0m\u001b[0m\n\u001b[1;32m----> 7\u001b[1;33m     \u001b[0mall_ohlcv\u001b[0m \u001b[1;33m=\u001b[0m \u001b[0mscrape_ohlcv\u001b[0m\u001b[1;33m(\u001b[0m\u001b[0mbinance\u001b[0m\u001b[1;33m,\u001b[0m \u001b[1;36m3\u001b[0m\u001b[1;33m,\u001b[0m \u001b[1;34mf'{ticker}/USDT'\u001b[0m\u001b[1;33m,\u001b[0m \u001b[1;34m'1m'\u001b[0m\u001b[1;33m,\u001b[0m \u001b[1;34m'2017-01-01 00:00:00Z'\u001b[0m\u001b[1;33m,\u001b[0m \u001b[1;36m1000\u001b[0m\u001b[1;33m)\u001b[0m\u001b[1;33m\u001b[0m\u001b[1;33m\u001b[0m\u001b[0m\n\u001b[0m\u001b[0;32m      8\u001b[0m     \u001b[0mdat\u001b[0m \u001b[1;33m=\u001b[0m \u001b[0mpd\u001b[0m\u001b[1;33m.\u001b[0m\u001b[0mDataFrame\u001b[0m\u001b[1;33m(\u001b[0m\u001b[0mall_ohlcv\u001b[0m\u001b[1;33m,\u001b[0m \u001b[0mcolumns\u001b[0m\u001b[1;33m=\u001b[0m\u001b[1;33m[\u001b[0m\u001b[1;34m'time'\u001b[0m\u001b[1;33m,\u001b[0m\u001b[1;34m'open'\u001b[0m\u001b[1;33m,\u001b[0m\u001b[1;34m'high'\u001b[0m\u001b[1;33m,\u001b[0m\u001b[1;34m'low'\u001b[0m\u001b[1;33m,\u001b[0m\u001b[1;34m'close'\u001b[0m\u001b[1;33m,\u001b[0m\u001b[1;34m'volume'\u001b[0m\u001b[1;33m]\u001b[0m\u001b[1;33m)\u001b[0m\u001b[1;33m\u001b[0m\u001b[1;33m\u001b[0m\u001b[0m\n\u001b[0;32m      9\u001b[0m     \u001b[0mdat\u001b[0m\u001b[1;33m[\u001b[0m\u001b[1;34m'time'\u001b[0m\u001b[1;33m]\u001b[0m \u001b[1;33m=\u001b[0m \u001b[1;33m[\u001b[0m\u001b[0mdatetime\u001b[0m\u001b[1;33m.\u001b[0m\u001b[0mfromtimestamp\u001b[0m\u001b[1;33m(\u001b[0m\u001b[0mt\u001b[0m\u001b[1;33m/\u001b[0m\u001b[1;36m1000\u001b[0m\u001b[1;33m)\u001b[0m\u001b[1;33m.\u001b[0m\u001b[0mstrftime\u001b[0m\u001b[1;33m(\u001b[0m\u001b[1;34m'%Y-%m-%d %H:%M:%S'\u001b[0m\u001b[1;33m)\u001b[0m \u001b[1;32mfor\u001b[0m \u001b[0mt\u001b[0m \u001b[1;32min\u001b[0m \u001b[0mdat\u001b[0m\u001b[1;33m[\u001b[0m\u001b[1;34m'time'\u001b[0m\u001b[1;33m]\u001b[0m\u001b[1;33m]\u001b[0m\u001b[1;33m\u001b[0m\u001b[1;33m\u001b[0m\u001b[0m\n",
      "\u001b[1;32m<ipython-input-65-699a34fa1fc0>\u001b[0m in \u001b[0;36mscrape_ohlcv\u001b[1;34m(exchange, max_retries, symbol, timeframe, since, limit)\u001b[0m\n\u001b[0;32m     12\u001b[0m         \u001b[0mohlcv\u001b[0m \u001b[1;33m=\u001b[0m \u001b[0mretry_fetch_ohlcv\u001b[0m\u001b[1;33m(\u001b[0m\u001b[0mexchange\u001b[0m\u001b[1;33m,\u001b[0m \u001b[0mmax_retries\u001b[0m\u001b[1;33m,\u001b[0m \u001b[0msymbol\u001b[0m\u001b[1;33m,\u001b[0m \u001b[0mtimeframe\u001b[0m\u001b[1;33m,\u001b[0m \u001b[0mfetch_since\u001b[0m\u001b[1;33m,\u001b[0m \u001b[0mlimit\u001b[0m\u001b[1;33m)\u001b[0m\u001b[1;33m\u001b[0m\u001b[1;33m\u001b[0m\u001b[0m\n\u001b[0;32m     13\u001b[0m         \u001b[1;31m# if we have reached the beginning of history\u001b[0m\u001b[1;33m\u001b[0m\u001b[1;33m\u001b[0m\u001b[1;33m\u001b[0m\u001b[0m\n\u001b[1;32m---> 14\u001b[1;33m         \u001b[1;32mif\u001b[0m \u001b[0mohlcv\u001b[0m\u001b[1;33m[\u001b[0m\u001b[1;36m0\u001b[0m\u001b[1;33m]\u001b[0m\u001b[1;33m[\u001b[0m\u001b[1;36m0\u001b[0m\u001b[1;33m]\u001b[0m \u001b[1;33m>=\u001b[0m \u001b[0mearliest_timestamp\u001b[0m\u001b[1;33m:\u001b[0m\u001b[1;33m\u001b[0m\u001b[1;33m\u001b[0m\u001b[0m\n\u001b[0m\u001b[0;32m     15\u001b[0m             \u001b[1;32mbreak\u001b[0m\u001b[1;33m\u001b[0m\u001b[1;33m\u001b[0m\u001b[0m\n\u001b[0;32m     16\u001b[0m         \u001b[0mearliest_timestamp\u001b[0m \u001b[1;33m=\u001b[0m \u001b[0mohlcv\u001b[0m\u001b[1;33m[\u001b[0m\u001b[1;36m0\u001b[0m\u001b[1;33m]\u001b[0m\u001b[1;33m[\u001b[0m\u001b[1;36m0\u001b[0m\u001b[1;33m]\u001b[0m\u001b[1;33m\u001b[0m\u001b[1;33m\u001b[0m\u001b[0m\n",
      "\u001b[1;31mTypeError\u001b[0m: 'NoneType' object is not subscriptable"
     ]
    }
   ],
   "source": [
    "Binance_Ohlc_Chart(3)"
   ]
  },
  {
   "cell_type": "code",
   "execution_count": 159,
   "metadata": {},
   "outputs": [
    {
     "ename": "TypeError",
     "evalue": "'NoneType' object is not subscriptable",
     "output_type": "error",
     "traceback": [
      "\u001b[1;31m---------------------------------------------------------------------------\u001b[0m",
      "\u001b[1;31mTypeError\u001b[0m                                 Traceback (most recent call last)",
      "\u001b[1;32m<ipython-input-159-f1e2a464c85f>\u001b[0m in \u001b[0;36m<module>\u001b[1;34m\u001b[0m\n\u001b[1;32m----> 1\u001b[1;33m \u001b[0mBinance_Ohlc_Chart\u001b[0m\u001b[1;33m(\u001b[0m\u001b[1;36m4\u001b[0m\u001b[1;33m)\u001b[0m\u001b[1;33m\u001b[0m\u001b[1;33m\u001b[0m\u001b[0m\n\u001b[0m",
      "\u001b[1;32m<ipython-input-150-ada929eb52ca>\u001b[0m in \u001b[0;36mBinance_Ohlc_Chart\u001b[1;34m(i)\u001b[0m\n\u001b[0;32m      5\u001b[0m     \u001b[0mpublic_date\u001b[0m \u001b[1;33m=\u001b[0m \u001b[0mpublic_date\u001b[0m\u001b[1;33m.\u001b[0m\u001b[0mreplace\u001b[0m\u001b[1;33m(\u001b[0m\u001b[1;34m'T'\u001b[0m\u001b[1;33m,\u001b[0m\u001b[1;34m' '\u001b[0m\u001b[1;33m)\u001b[0m\u001b[1;33m\u001b[0m\u001b[1;33m\u001b[0m\u001b[0m\n\u001b[0;32m      6\u001b[0m \u001b[1;33m\u001b[0m\u001b[0m\n\u001b[1;32m----> 7\u001b[1;33m     \u001b[0mall_ohlcv\u001b[0m \u001b[1;33m=\u001b[0m \u001b[0mscrape_ohlcv\u001b[0m\u001b[1;33m(\u001b[0m\u001b[0mbinance\u001b[0m\u001b[1;33m,\u001b[0m \u001b[1;36m3\u001b[0m\u001b[1;33m,\u001b[0m \u001b[1;34mf'{ticker}/USDT'\u001b[0m\u001b[1;33m,\u001b[0m \u001b[1;34m'1m'\u001b[0m\u001b[1;33m,\u001b[0m \u001b[1;34m'2017-01-01 00:00:00Z'\u001b[0m\u001b[1;33m,\u001b[0m \u001b[1;36m1000\u001b[0m\u001b[1;33m)\u001b[0m\u001b[1;33m\u001b[0m\u001b[1;33m\u001b[0m\u001b[0m\n\u001b[0m\u001b[0;32m      8\u001b[0m     \u001b[0mdat\u001b[0m \u001b[1;33m=\u001b[0m \u001b[0mpd\u001b[0m\u001b[1;33m.\u001b[0m\u001b[0mDataFrame\u001b[0m\u001b[1;33m(\u001b[0m\u001b[0mall_ohlcv\u001b[0m\u001b[1;33m,\u001b[0m \u001b[0mcolumns\u001b[0m\u001b[1;33m=\u001b[0m\u001b[1;33m[\u001b[0m\u001b[1;34m'time'\u001b[0m\u001b[1;33m,\u001b[0m\u001b[1;34m'open'\u001b[0m\u001b[1;33m,\u001b[0m\u001b[1;34m'high'\u001b[0m\u001b[1;33m,\u001b[0m\u001b[1;34m'low'\u001b[0m\u001b[1;33m,\u001b[0m\u001b[1;34m'close'\u001b[0m\u001b[1;33m,\u001b[0m\u001b[1;34m'volume'\u001b[0m\u001b[1;33m]\u001b[0m\u001b[1;33m)\u001b[0m\u001b[1;33m\u001b[0m\u001b[1;33m\u001b[0m\u001b[0m\n\u001b[0;32m      9\u001b[0m     \u001b[0mdat\u001b[0m\u001b[1;33m[\u001b[0m\u001b[1;34m'time'\u001b[0m\u001b[1;33m]\u001b[0m \u001b[1;33m=\u001b[0m \u001b[1;33m[\u001b[0m\u001b[0mdatetime\u001b[0m\u001b[1;33m.\u001b[0m\u001b[0mfromtimestamp\u001b[0m\u001b[1;33m(\u001b[0m\u001b[0mt\u001b[0m\u001b[1;33m/\u001b[0m\u001b[1;36m1000\u001b[0m\u001b[1;33m)\u001b[0m\u001b[1;33m.\u001b[0m\u001b[0mstrftime\u001b[0m\u001b[1;33m(\u001b[0m\u001b[1;34m'%Y-%m-%d %H:%M:%S'\u001b[0m\u001b[1;33m)\u001b[0m \u001b[1;32mfor\u001b[0m \u001b[0mt\u001b[0m \u001b[1;32min\u001b[0m \u001b[0mdat\u001b[0m\u001b[1;33m[\u001b[0m\u001b[1;34m'time'\u001b[0m\u001b[1;33m]\u001b[0m\u001b[1;33m]\u001b[0m\u001b[1;33m\u001b[0m\u001b[1;33m\u001b[0m\u001b[0m\n",
      "\u001b[1;32m<ipython-input-65-699a34fa1fc0>\u001b[0m in \u001b[0;36mscrape_ohlcv\u001b[1;34m(exchange, max_retries, symbol, timeframe, since, limit)\u001b[0m\n\u001b[0;32m     12\u001b[0m         \u001b[0mohlcv\u001b[0m \u001b[1;33m=\u001b[0m \u001b[0mretry_fetch_ohlcv\u001b[0m\u001b[1;33m(\u001b[0m\u001b[0mexchange\u001b[0m\u001b[1;33m,\u001b[0m \u001b[0mmax_retries\u001b[0m\u001b[1;33m,\u001b[0m \u001b[0msymbol\u001b[0m\u001b[1;33m,\u001b[0m \u001b[0mtimeframe\u001b[0m\u001b[1;33m,\u001b[0m \u001b[0mfetch_since\u001b[0m\u001b[1;33m,\u001b[0m \u001b[0mlimit\u001b[0m\u001b[1;33m)\u001b[0m\u001b[1;33m\u001b[0m\u001b[1;33m\u001b[0m\u001b[0m\n\u001b[0;32m     13\u001b[0m         \u001b[1;31m# if we have reached the beginning of history\u001b[0m\u001b[1;33m\u001b[0m\u001b[1;33m\u001b[0m\u001b[1;33m\u001b[0m\u001b[0m\n\u001b[1;32m---> 14\u001b[1;33m         \u001b[1;32mif\u001b[0m \u001b[0mohlcv\u001b[0m\u001b[1;33m[\u001b[0m\u001b[1;36m0\u001b[0m\u001b[1;33m]\u001b[0m\u001b[1;33m[\u001b[0m\u001b[1;36m0\u001b[0m\u001b[1;33m]\u001b[0m \u001b[1;33m>=\u001b[0m \u001b[0mearliest_timestamp\u001b[0m\u001b[1;33m:\u001b[0m\u001b[1;33m\u001b[0m\u001b[1;33m\u001b[0m\u001b[0m\n\u001b[0m\u001b[0;32m     15\u001b[0m             \u001b[1;32mbreak\u001b[0m\u001b[1;33m\u001b[0m\u001b[1;33m\u001b[0m\u001b[0m\n\u001b[0;32m     16\u001b[0m         \u001b[0mearliest_timestamp\u001b[0m \u001b[1;33m=\u001b[0m \u001b[0mohlcv\u001b[0m\u001b[1;33m[\u001b[0m\u001b[1;36m0\u001b[0m\u001b[1;33m]\u001b[0m\u001b[1;33m[\u001b[0m\u001b[1;36m0\u001b[0m\u001b[1;33m]\u001b[0m\u001b[1;33m\u001b[0m\u001b[1;33m\u001b[0m\u001b[0m\n",
      "\u001b[1;31mTypeError\u001b[0m: 'NoneType' object is not subscriptable"
     ]
    }
   ],
   "source": [
    "Binance_Ohlc_Chart(4)"
   ]
  },
  {
   "cell_type": "code",
   "execution_count": 160,
   "metadata": {},
   "outputs": [
    {
     "name": "stdout",
     "output_type": "stream",
     "text": [
      "100000 CTK/USDT candles in total from 2021-09-16T18:15:00.000Z to 2021-11-25T04:54:00.000Z\n",
      "200000 CTK/USDT candles in total from 2021-07-09T07:35:00.000Z to 2021-11-25T04:54:00.000Z\n",
      "300000 CTK/USDT candles in total from 2021-04-30T20:55:00.000Z to 2021-11-25T04:54:00.000Z\n",
      "400000 CTK/USDT candles in total from 2021-02-20T11:25:00.000Z to 2021-11-25T04:54:00.000Z\n",
      "500000 CTK/USDT candles in total from 2020-12-13T00:45:00.000Z to 2021-11-25T04:54:00.000Z\n"
     ]
    },
    {
     "data": {
      "application/vnd.plotly.v1+json": {
       "config": {
        "plotlyServerURL": "https://plot.ly"
       },
       "data": [
        {
         "close": [
          0.9335,
          0.9404,
          0.9386,
          0.9386,
          0.9386,
          0.9386,
          0.9352,
          0.9353,
          0.9331,
          0.9331,
          0.9331,
          0.9331,
          0.9309,
          0.9271,
          0.9282,
          0.9282,
          0.9282,
          0.9282,
          0.9266,
          0.9297,
          0.9297,
          0.9301,
          0.9301,
          0.9301,
          0.9295,
          0.9318,
          0.9318,
          0.9319,
          0.9319,
          0.9319,
          0.9323,
          0.9323,
          0.9323,
          0.933,
          0.9362,
          0.936,
          0.9361,
          0.9361,
          0.936,
          0.936,
          0.936,
          0.936,
          0.935,
          0.936,
          0.9342,
          0.9386,
          0.9386,
          0.9403,
          0.9386,
          0.9386,
          0.9398,
          0.9394,
          0.94,
          0.94,
          0.94,
          0.9385,
          0.9367,
          0.9367,
          0.9367,
          0.9388,
          0.9388,
          0.9373,
          0.936,
          0.936,
          0.936,
          0.936,
          0.9347,
          0.9285,
          0.9285,
          0.9266,
          0.9268,
          0.9259,
          0.9259,
          0.9294,
          0.9294,
          0.9294,
          0.9294,
          0.9294,
          0.9255,
          0.9255,
          0.9287,
          0.9287,
          0.9287,
          0.9287,
          0.9287,
          0.9275,
          0.9275,
          0.9275,
          0.9236,
          0.9236
         ],
         "high": [
          0.9335,
          0.9404,
          0.9386,
          0.9386,
          0.9386,
          0.9386,
          0.9365,
          0.9353,
          0.9331,
          0.9331,
          0.9331,
          0.9331,
          0.9315,
          0.9295,
          0.9286,
          0.9282,
          0.9285,
          0.9282,
          0.9269,
          0.9297,
          0.9297,
          0.9301,
          0.9301,
          0.9301,
          0.9295,
          0.9318,
          0.9318,
          0.9319,
          0.9319,
          0.9319,
          0.9337,
          0.9323,
          0.9323,
          0.933,
          0.9362,
          0.936,
          0.9361,
          0.9361,
          0.9365,
          0.936,
          0.936,
          0.936,
          0.936,
          0.936,
          0.9347,
          0.9386,
          0.9386,
          0.9403,
          0.9386,
          0.9386,
          0.9398,
          0.9396,
          0.9404,
          0.94,
          0.94,
          0.9395,
          0.9367,
          0.9367,
          0.9367,
          0.9388,
          0.9388,
          0.939,
          0.936,
          0.936,
          0.936,
          0.936,
          0.9384,
          0.9315,
          0.9285,
          0.9278,
          0.9268,
          0.9259,
          0.9259,
          0.9294,
          0.9294,
          0.9294,
          0.9294,
          0.9294,
          0.9255,
          0.9255,
          0.9287,
          0.9287,
          0.9287,
          0.9287,
          0.9287,
          0.9275,
          0.9275,
          0.9275,
          0.925,
          0.9244
         ],
         "low": [
          0.9335,
          0.9377,
          0.9362,
          0.9386,
          0.9386,
          0.9386,
          0.9325,
          0.9353,
          0.9331,
          0.9331,
          0.9331,
          0.9331,
          0.9302,
          0.9271,
          0.9282,
          0.9282,
          0.9282,
          0.9282,
          0.9266,
          0.928,
          0.9297,
          0.9301,
          0.9301,
          0.9301,
          0.9295,
          0.9318,
          0.9318,
          0.9319,
          0.9319,
          0.9319,
          0.9318,
          0.9323,
          0.9323,
          0.933,
          0.9357,
          0.936,
          0.9361,
          0.9361,
          0.936,
          0.936,
          0.936,
          0.936,
          0.9344,
          0.936,
          0.9342,
          0.9386,
          0.9386,
          0.9386,
          0.9386,
          0.9386,
          0.9398,
          0.9394,
          0.94,
          0.94,
          0.94,
          0.9376,
          0.9364,
          0.9367,
          0.9367,
          0.9388,
          0.9388,
          0.9373,
          0.936,
          0.936,
          0.936,
          0.936,
          0.9347,
          0.9285,
          0.9285,
          0.9266,
          0.9258,
          0.9233,
          0.9259,
          0.9287,
          0.9275,
          0.9294,
          0.9294,
          0.9294,
          0.9243,
          0.9255,
          0.9277,
          0.9287,
          0.9287,
          0.9287,
          0.9287,
          0.9254,
          0.9275,
          0.9275,
          0.9236,
          0.9236
         ],
         "open": [
          0.9335,
          0.9377,
          0.9365,
          0.9386,
          0.9386,
          0.9386,
          0.9344,
          0.9353,
          0.9331,
          0.9331,
          0.9331,
          0.9331,
          0.9315,
          0.9295,
          0.9286,
          0.9282,
          0.9285,
          0.9282,
          0.9269,
          0.928,
          0.9297,
          0.9301,
          0.9301,
          0.9301,
          0.9295,
          0.9318,
          0.9318,
          0.9319,
          0.9319,
          0.9319,
          0.9318,
          0.9323,
          0.9323,
          0.933,
          0.9357,
          0.936,
          0.9361,
          0.9361,
          0.9365,
          0.936,
          0.936,
          0.936,
          0.936,
          0.936,
          0.9347,
          0.9386,
          0.9386,
          0.9386,
          0.9386,
          0.9386,
          0.9398,
          0.9394,
          0.94,
          0.94,
          0.94,
          0.9386,
          0.9364,
          0.9367,
          0.9367,
          0.9388,
          0.9388,
          0.939,
          0.936,
          0.936,
          0.936,
          0.936,
          0.9383,
          0.9315,
          0.9285,
          0.9269,
          0.9258,
          0.9254,
          0.9259,
          0.9287,
          0.9294,
          0.9294,
          0.9294,
          0.9294,
          0.9243,
          0.9255,
          0.9277,
          0.9287,
          0.9287,
          0.9287,
          0.9287,
          0.9254,
          0.9275,
          0.9275,
          0.925,
          0.9244
         ],
         "type": "candlestick",
         "x": [
          "2021-06-29 10:20:00",
          "2021-06-29 10:21:00",
          "2021-06-29 10:22:00",
          "2021-06-29 10:23:00",
          "2021-06-29 10:24:00",
          "2021-06-29 10:25:00",
          "2021-06-29 10:26:00",
          "2021-06-29 10:27:00",
          "2021-06-29 10:28:00",
          "2021-06-29 10:29:00",
          "2021-06-29 10:30:00",
          "2021-06-29 10:31:00",
          "2021-06-29 10:32:00",
          "2021-06-29 10:33:00",
          "2021-06-29 10:34:00",
          "2021-06-29 10:35:00",
          "2021-06-29 10:36:00",
          "2021-06-29 10:37:00",
          "2021-06-29 10:38:00",
          "2021-06-29 10:39:00",
          "2021-06-29 10:40:00",
          "2021-06-29 10:41:00",
          "2021-06-29 10:42:00",
          "2021-06-29 10:43:00",
          "2021-06-29 10:44:00",
          "2021-06-29 10:45:00",
          "2021-06-29 10:46:00",
          "2021-06-29 10:47:00",
          "2021-06-29 10:48:00",
          "2021-06-29 10:49:00",
          "2021-06-29 10:50:00",
          "2021-06-29 10:51:00",
          "2021-06-29 10:52:00",
          "2021-06-29 10:53:00",
          "2021-06-29 10:54:00",
          "2021-06-29 10:55:00",
          "2021-06-29 10:56:00",
          "2021-06-29 10:57:00",
          "2021-06-29 10:58:00",
          "2021-06-29 10:59:00",
          "2021-06-29 11:00:00",
          "2021-06-29 11:01:00",
          "2021-06-29 11:02:00",
          "2021-06-29 11:03:00",
          "2021-06-29 11:04:00",
          "2021-06-29 11:05:00",
          "2021-06-29 11:06:00",
          "2021-06-29 11:07:00",
          "2021-06-29 11:08:00",
          "2021-06-29 11:09:00",
          "2021-06-29 11:10:00",
          "2021-06-29 11:11:00",
          "2021-06-29 11:12:00",
          "2021-06-29 11:13:00",
          "2021-06-29 11:14:00",
          "2021-06-29 11:15:00",
          "2021-06-29 11:16:00",
          "2021-06-29 11:17:00",
          "2021-06-29 11:18:00",
          "2021-06-29 11:19:00",
          "2021-06-29 11:20:00",
          "2021-06-29 11:21:00",
          "2021-06-29 11:22:00",
          "2021-06-29 11:23:00",
          "2021-06-29 11:24:00",
          "2021-06-29 11:25:00",
          "2021-06-29 11:26:00",
          "2021-06-29 11:27:00",
          "2021-06-29 11:28:00",
          "2021-06-29 11:29:00",
          "2021-06-29 11:30:00",
          "2021-06-29 11:31:00",
          "2021-06-29 11:32:00",
          "2021-06-29 11:33:00",
          "2021-06-29 11:34:00",
          "2021-06-29 11:35:00",
          "2021-06-29 11:36:00",
          "2021-06-29 11:37:00",
          "2021-06-29 11:38:00",
          "2021-06-29 11:39:00",
          "2021-06-29 11:40:00",
          "2021-06-29 11:41:00",
          "2021-06-29 11:42:00",
          "2021-06-29 11:43:00",
          "2021-06-29 11:44:00",
          "2021-06-29 11:45:00",
          "2021-06-29 11:46:00",
          "2021-06-29 11:47:00",
          "2021-06-29 11:48:00",
          "2021-06-29 11:49:00"
         ]
        }
       ],
       "layout": {
        "shapes": [
         {
          "x0": "2021-06-29 10:50:00",
          "x1": "2021-06-29 10:50:00",
          "y0": 0.904834,
          "y1": 0.9428880000000001
         }
        ],
        "template": {
         "data": {
          "bar": [
           {
            "error_x": {
             "color": "#2a3f5f"
            },
            "error_y": {
             "color": "#2a3f5f"
            },
            "marker": {
             "line": {
              "color": "#E5ECF6",
              "width": 0.5
             },
             "pattern": {
              "fillmode": "overlay",
              "size": 10,
              "solidity": 0.2
             }
            },
            "type": "bar"
           }
          ],
          "barpolar": [
           {
            "marker": {
             "line": {
              "color": "#E5ECF6",
              "width": 0.5
             },
             "pattern": {
              "fillmode": "overlay",
              "size": 10,
              "solidity": 0.2
             }
            },
            "type": "barpolar"
           }
          ],
          "carpet": [
           {
            "aaxis": {
             "endlinecolor": "#2a3f5f",
             "gridcolor": "white",
             "linecolor": "white",
             "minorgridcolor": "white",
             "startlinecolor": "#2a3f5f"
            },
            "baxis": {
             "endlinecolor": "#2a3f5f",
             "gridcolor": "white",
             "linecolor": "white",
             "minorgridcolor": "white",
             "startlinecolor": "#2a3f5f"
            },
            "type": "carpet"
           }
          ],
          "choropleth": [
           {
            "colorbar": {
             "outlinewidth": 0,
             "ticks": ""
            },
            "type": "choropleth"
           }
          ],
          "contour": [
           {
            "colorbar": {
             "outlinewidth": 0,
             "ticks": ""
            },
            "colorscale": [
             [
              0,
              "#0d0887"
             ],
             [
              0.1111111111111111,
              "#46039f"
             ],
             [
              0.2222222222222222,
              "#7201a8"
             ],
             [
              0.3333333333333333,
              "#9c179e"
             ],
             [
              0.4444444444444444,
              "#bd3786"
             ],
             [
              0.5555555555555556,
              "#d8576b"
             ],
             [
              0.6666666666666666,
              "#ed7953"
             ],
             [
              0.7777777777777778,
              "#fb9f3a"
             ],
             [
              0.8888888888888888,
              "#fdca26"
             ],
             [
              1,
              "#f0f921"
             ]
            ],
            "type": "contour"
           }
          ],
          "contourcarpet": [
           {
            "colorbar": {
             "outlinewidth": 0,
             "ticks": ""
            },
            "type": "contourcarpet"
           }
          ],
          "heatmap": [
           {
            "colorbar": {
             "outlinewidth": 0,
             "ticks": ""
            },
            "colorscale": [
             [
              0,
              "#0d0887"
             ],
             [
              0.1111111111111111,
              "#46039f"
             ],
             [
              0.2222222222222222,
              "#7201a8"
             ],
             [
              0.3333333333333333,
              "#9c179e"
             ],
             [
              0.4444444444444444,
              "#bd3786"
             ],
             [
              0.5555555555555556,
              "#d8576b"
             ],
             [
              0.6666666666666666,
              "#ed7953"
             ],
             [
              0.7777777777777778,
              "#fb9f3a"
             ],
             [
              0.8888888888888888,
              "#fdca26"
             ],
             [
              1,
              "#f0f921"
             ]
            ],
            "type": "heatmap"
           }
          ],
          "heatmapgl": [
           {
            "colorbar": {
             "outlinewidth": 0,
             "ticks": ""
            },
            "colorscale": [
             [
              0,
              "#0d0887"
             ],
             [
              0.1111111111111111,
              "#46039f"
             ],
             [
              0.2222222222222222,
              "#7201a8"
             ],
             [
              0.3333333333333333,
              "#9c179e"
             ],
             [
              0.4444444444444444,
              "#bd3786"
             ],
             [
              0.5555555555555556,
              "#d8576b"
             ],
             [
              0.6666666666666666,
              "#ed7953"
             ],
             [
              0.7777777777777778,
              "#fb9f3a"
             ],
             [
              0.8888888888888888,
              "#fdca26"
             ],
             [
              1,
              "#f0f921"
             ]
            ],
            "type": "heatmapgl"
           }
          ],
          "histogram": [
           {
            "marker": {
             "pattern": {
              "fillmode": "overlay",
              "size": 10,
              "solidity": 0.2
             }
            },
            "type": "histogram"
           }
          ],
          "histogram2d": [
           {
            "colorbar": {
             "outlinewidth": 0,
             "ticks": ""
            },
            "colorscale": [
             [
              0,
              "#0d0887"
             ],
             [
              0.1111111111111111,
              "#46039f"
             ],
             [
              0.2222222222222222,
              "#7201a8"
             ],
             [
              0.3333333333333333,
              "#9c179e"
             ],
             [
              0.4444444444444444,
              "#bd3786"
             ],
             [
              0.5555555555555556,
              "#d8576b"
             ],
             [
              0.6666666666666666,
              "#ed7953"
             ],
             [
              0.7777777777777778,
              "#fb9f3a"
             ],
             [
              0.8888888888888888,
              "#fdca26"
             ],
             [
              1,
              "#f0f921"
             ]
            ],
            "type": "histogram2d"
           }
          ],
          "histogram2dcontour": [
           {
            "colorbar": {
             "outlinewidth": 0,
             "ticks": ""
            },
            "colorscale": [
             [
              0,
              "#0d0887"
             ],
             [
              0.1111111111111111,
              "#46039f"
             ],
             [
              0.2222222222222222,
              "#7201a8"
             ],
             [
              0.3333333333333333,
              "#9c179e"
             ],
             [
              0.4444444444444444,
              "#bd3786"
             ],
             [
              0.5555555555555556,
              "#d8576b"
             ],
             [
              0.6666666666666666,
              "#ed7953"
             ],
             [
              0.7777777777777778,
              "#fb9f3a"
             ],
             [
              0.8888888888888888,
              "#fdca26"
             ],
             [
              1,
              "#f0f921"
             ]
            ],
            "type": "histogram2dcontour"
           }
          ],
          "mesh3d": [
           {
            "colorbar": {
             "outlinewidth": 0,
             "ticks": ""
            },
            "type": "mesh3d"
           }
          ],
          "parcoords": [
           {
            "line": {
             "colorbar": {
              "outlinewidth": 0,
              "ticks": ""
             }
            },
            "type": "parcoords"
           }
          ],
          "pie": [
           {
            "automargin": true,
            "type": "pie"
           }
          ],
          "scatter": [
           {
            "marker": {
             "colorbar": {
              "outlinewidth": 0,
              "ticks": ""
             }
            },
            "type": "scatter"
           }
          ],
          "scatter3d": [
           {
            "line": {
             "colorbar": {
              "outlinewidth": 0,
              "ticks": ""
             }
            },
            "marker": {
             "colorbar": {
              "outlinewidth": 0,
              "ticks": ""
             }
            },
            "type": "scatter3d"
           }
          ],
          "scattercarpet": [
           {
            "marker": {
             "colorbar": {
              "outlinewidth": 0,
              "ticks": ""
             }
            },
            "type": "scattercarpet"
           }
          ],
          "scattergeo": [
           {
            "marker": {
             "colorbar": {
              "outlinewidth": 0,
              "ticks": ""
             }
            },
            "type": "scattergeo"
           }
          ],
          "scattergl": [
           {
            "marker": {
             "colorbar": {
              "outlinewidth": 0,
              "ticks": ""
             }
            },
            "type": "scattergl"
           }
          ],
          "scattermapbox": [
           {
            "marker": {
             "colorbar": {
              "outlinewidth": 0,
              "ticks": ""
             }
            },
            "type": "scattermapbox"
           }
          ],
          "scatterpolar": [
           {
            "marker": {
             "colorbar": {
              "outlinewidth": 0,
              "ticks": ""
             }
            },
            "type": "scatterpolar"
           }
          ],
          "scatterpolargl": [
           {
            "marker": {
             "colorbar": {
              "outlinewidth": 0,
              "ticks": ""
             }
            },
            "type": "scatterpolargl"
           }
          ],
          "scatterternary": [
           {
            "marker": {
             "colorbar": {
              "outlinewidth": 0,
              "ticks": ""
             }
            },
            "type": "scatterternary"
           }
          ],
          "surface": [
           {
            "colorbar": {
             "outlinewidth": 0,
             "ticks": ""
            },
            "colorscale": [
             [
              0,
              "#0d0887"
             ],
             [
              0.1111111111111111,
              "#46039f"
             ],
             [
              0.2222222222222222,
              "#7201a8"
             ],
             [
              0.3333333333333333,
              "#9c179e"
             ],
             [
              0.4444444444444444,
              "#bd3786"
             ],
             [
              0.5555555555555556,
              "#d8576b"
             ],
             [
              0.6666666666666666,
              "#ed7953"
             ],
             [
              0.7777777777777778,
              "#fb9f3a"
             ],
             [
              0.8888888888888888,
              "#fdca26"
             ],
             [
              1,
              "#f0f921"
             ]
            ],
            "type": "surface"
           }
          ],
          "table": [
           {
            "cells": {
             "fill": {
              "color": "#EBF0F8"
             },
             "line": {
              "color": "white"
             }
            },
            "header": {
             "fill": {
              "color": "#C8D4E3"
             },
             "line": {
              "color": "white"
             }
            },
            "type": "table"
           }
          ]
         },
         "layout": {
          "annotationdefaults": {
           "arrowcolor": "#2a3f5f",
           "arrowhead": 0,
           "arrowwidth": 1
          },
          "autotypenumbers": "strict",
          "coloraxis": {
           "colorbar": {
            "outlinewidth": 0,
            "ticks": ""
           }
          },
          "colorscale": {
           "diverging": [
            [
             0,
             "#8e0152"
            ],
            [
             0.1,
             "#c51b7d"
            ],
            [
             0.2,
             "#de77ae"
            ],
            [
             0.3,
             "#f1b6da"
            ],
            [
             0.4,
             "#fde0ef"
            ],
            [
             0.5,
             "#f7f7f7"
            ],
            [
             0.6,
             "#e6f5d0"
            ],
            [
             0.7,
             "#b8e186"
            ],
            [
             0.8,
             "#7fbc41"
            ],
            [
             0.9,
             "#4d9221"
            ],
            [
             1,
             "#276419"
            ]
           ],
           "sequential": [
            [
             0,
             "#0d0887"
            ],
            [
             0.1111111111111111,
             "#46039f"
            ],
            [
             0.2222222222222222,
             "#7201a8"
            ],
            [
             0.3333333333333333,
             "#9c179e"
            ],
            [
             0.4444444444444444,
             "#bd3786"
            ],
            [
             0.5555555555555556,
             "#d8576b"
            ],
            [
             0.6666666666666666,
             "#ed7953"
            ],
            [
             0.7777777777777778,
             "#fb9f3a"
            ],
            [
             0.8888888888888888,
             "#fdca26"
            ],
            [
             1,
             "#f0f921"
            ]
           ],
           "sequentialminus": [
            [
             0,
             "#0d0887"
            ],
            [
             0.1111111111111111,
             "#46039f"
            ],
            [
             0.2222222222222222,
             "#7201a8"
            ],
            [
             0.3333333333333333,
             "#9c179e"
            ],
            [
             0.4444444444444444,
             "#bd3786"
            ],
            [
             0.5555555555555556,
             "#d8576b"
            ],
            [
             0.6666666666666666,
             "#ed7953"
            ],
            [
             0.7777777777777778,
             "#fb9f3a"
            ],
            [
             0.8888888888888888,
             "#fdca26"
            ],
            [
             1,
             "#f0f921"
            ]
           ]
          },
          "colorway": [
           "#636efa",
           "#EF553B",
           "#00cc96",
           "#ab63fa",
           "#FFA15A",
           "#19d3f3",
           "#FF6692",
           "#B6E880",
           "#FF97FF",
           "#FECB52"
          ],
          "font": {
           "color": "#2a3f5f"
          },
          "geo": {
           "bgcolor": "white",
           "lakecolor": "white",
           "landcolor": "#E5ECF6",
           "showlakes": true,
           "showland": true,
           "subunitcolor": "white"
          },
          "hoverlabel": {
           "align": "left"
          },
          "hovermode": "closest",
          "mapbox": {
           "style": "light"
          },
          "paper_bgcolor": "white",
          "plot_bgcolor": "#E5ECF6",
          "polar": {
           "angularaxis": {
            "gridcolor": "white",
            "linecolor": "white",
            "ticks": ""
           },
           "bgcolor": "#E5ECF6",
           "radialaxis": {
            "gridcolor": "white",
            "linecolor": "white",
            "ticks": ""
           }
          },
          "scene": {
           "xaxis": {
            "backgroundcolor": "#E5ECF6",
            "gridcolor": "white",
            "gridwidth": 2,
            "linecolor": "white",
            "showbackground": true,
            "ticks": "",
            "zerolinecolor": "white"
           },
           "yaxis": {
            "backgroundcolor": "#E5ECF6",
            "gridcolor": "white",
            "gridwidth": 2,
            "linecolor": "white",
            "showbackground": true,
            "ticks": "",
            "zerolinecolor": "white"
           },
           "zaxis": {
            "backgroundcolor": "#E5ECF6",
            "gridcolor": "white",
            "gridwidth": 2,
            "linecolor": "white",
            "showbackground": true,
            "ticks": "",
            "zerolinecolor": "white"
           }
          },
          "shapedefaults": {
           "line": {
            "color": "#2a3f5f"
           }
          },
          "ternary": {
           "aaxis": {
            "gridcolor": "white",
            "linecolor": "white",
            "ticks": ""
           },
           "baxis": {
            "gridcolor": "white",
            "linecolor": "white",
            "ticks": ""
           },
           "bgcolor": "#E5ECF6",
           "caxis": {
            "gridcolor": "white",
            "linecolor": "white",
            "ticks": ""
           }
          },
          "title": {
           "x": 0.05
          },
          "xaxis": {
           "automargin": true,
           "gridcolor": "white",
           "linecolor": "white",
           "ticks": "",
           "title": {
            "standoff": 15
           },
           "zerolinecolor": "white",
           "zerolinewidth": 2
          },
          "yaxis": {
           "automargin": true,
           "gridcolor": "white",
           "linecolor": "white",
           "ticks": "",
           "title": {
            "standoff": 15
           },
           "zerolinecolor": "white",
           "zerolinewidth": 2
          }
         }
        },
        "title": {
         "text": "CTK/USDT Binance Chart"
        }
       }
      }
     },
     "metadata": {},
     "output_type": "display_data"
    }
   ],
   "source": [
    "Binance_Ohlc_Chart(5)"
   ]
  },
  {
   "cell_type": "code",
   "execution_count": 154,
   "metadata": {},
   "outputs": [
    {
     "name": "stdout",
     "output_type": "stream",
     "text": [
      "100000 BNT/USDT candles in total from 2021-09-16T18:10:00.000Z to 2021-11-25T04:49:00.000Z\n",
      "200000 BNT/USDT candles in total from 2021-07-09T07:30:00.000Z to 2021-11-25T04:49:00.000Z\n",
      "300000 BNT/USDT candles in total from 2021-04-30T20:50:00.000Z to 2021-11-25T04:49:00.000Z\n",
      "400000 BNT/USDT candles in total from 2021-02-20T11:25:00.000Z to 2021-11-25T04:49:00.000Z\n",
      "500000 BNT/USDT candles in total from 2020-12-13T00:45:00.000Z to 2021-11-25T04:49:00.000Z\n",
      "600000 BNT/USDT candles in total from 2020-10-04T14:05:00.000Z to 2021-11-25T04:49:00.000Z\n",
      "700000 BNT/USDT candles in total from 2020-07-27T03:25:00.000Z to 2021-11-25T04:49:00.000Z\n",
      "800000 BNT/USDT candles in total from 2020-05-18T16:45:00.000Z to 2021-11-25T04:49:00.000Z\n",
      "900000 BNT/USDT candles in total from 2020-03-10T08:30:00.000Z to 2021-11-25T04:49:00.000Z\n"
     ]
    },
    {
     "data": {
      "application/vnd.plotly.v1+json": {
       "config": {
        "plotlyServerURL": "https://plot.ly"
       },
       "data": [
        {
         "close": [
          3.7371,
          3.7371,
          3.7321,
          3.727,
          3.7284,
          3.7212,
          3.7237,
          3.7165,
          3.7266,
          3.7226,
          3.7207,
          3.7194,
          3.7292,
          3.7292,
          3.7292,
          3.7292,
          3.7317,
          3.7281,
          3.7281,
          3.7296,
          3.7292,
          3.7271,
          3.7271,
          3.7271,
          3.7212,
          3.7212,
          3.7241,
          3.7195,
          3.7235,
          3.7235,
          3.7203,
          3.7203,
          3.7214,
          3.7214,
          3.7214,
          3.7187,
          3.7144,
          3.7067,
          3.6974,
          3.7013,
          3.7013,
          3.7009,
          3.6973,
          3.695,
          3.695,
          3.7007,
          3.704,
          3.7008,
          3.7008,
          3.693,
          3.6908,
          3.6908,
          3.6893,
          3.6925,
          3.693,
          3.6919,
          3.692,
          3.692,
          3.6879,
          3.6879,
          3.6927,
          3.7009,
          3.7022,
          3.7074,
          3.7114,
          3.7224,
          3.7264,
          3.7349,
          3.7356,
          3.7331,
          3.7331,
          3.7331,
          3.7346,
          3.7268,
          3.7268,
          3.7306,
          3.7298,
          3.7298,
          3.7339,
          3.7364,
          3.7364,
          3.7355,
          3.7355,
          3.7355,
          3.7336,
          3.7299,
          3.7335,
          3.7304,
          3.7304,
          3.7304
         ],
         "high": [
          3.7371,
          3.7371,
          3.7357,
          3.731,
          3.7297,
          3.725,
          3.7237,
          3.7201,
          3.7266,
          3.7243,
          3.7224,
          3.7213,
          3.7298,
          3.7292,
          3.7292,
          3.7292,
          3.7356,
          3.7296,
          3.7281,
          3.7296,
          3.7296,
          3.7271,
          3.7271,
          3.7271,
          3.7212,
          3.7212,
          3.7241,
          3.7209,
          3.7246,
          3.7235,
          3.7213,
          3.7203,
          3.7214,
          3.7214,
          3.7214,
          3.7187,
          3.7172,
          3.7139,
          3.7039,
          3.702,
          3.7013,
          3.7009,
          3.7009,
          3.7005,
          3.695,
          3.7007,
          3.704,
          3.7008,
          3.7008,
          3.7012,
          3.6971,
          3.6968,
          3.6955,
          3.6925,
          3.693,
          3.6926,
          3.6941,
          3.692,
          3.6935,
          3.6879,
          3.6927,
          3.7011,
          3.7022,
          3.7074,
          3.7114,
          3.7349,
          3.7264,
          3.7349,
          3.7356,
          3.734,
          3.7346,
          3.7331,
          3.7365,
          3.7345,
          3.7268,
          3.7315,
          3.7299,
          3.7298,
          3.7339,
          3.7366,
          3.7364,
          3.7355,
          3.7355,
          3.7355,
          3.7355,
          3.7325,
          3.7335,
          3.7304,
          3.7304,
          3.7304
         ],
         "low": [
          3.7371,
          3.7371,
          3.7321,
          3.727,
          3.7284,
          3.7212,
          3.7204,
          3.7165,
          3.7242,
          3.7226,
          3.7203,
          3.718,
          3.7272,
          3.729,
          3.7292,
          3.7289,
          3.7292,
          3.7281,
          3.7281,
          3.7295,
          3.7292,
          3.7271,
          3.7271,
          3.7271,
          3.7212,
          3.7212,
          3.7241,
          3.7195,
          3.7228,
          3.7235,
          3.7203,
          3.7203,
          3.7184,
          3.7214,
          3.7214,
          3.7165,
          3.7144,
          3.7051,
          3.6974,
          3.7001,
          3.7013,
          3.7009,
          3.6973,
          3.695,
          3.695,
          3.7003,
          3.7023,
          3.7008,
          3.7008,
          3.6926,
          3.6908,
          3.6908,
          3.6845,
          3.6908,
          3.693,
          3.6919,
          3.692,
          3.692,
          3.6866,
          3.6879,
          3.6927,
          3.6928,
          3.6988,
          3.7023,
          3.7082,
          3.7114,
          3.7264,
          3.7282,
          3.7321,
          3.7331,
          3.7331,
          3.7331,
          3.7343,
          3.7268,
          3.7268,
          3.7268,
          3.7274,
          3.7298,
          3.7316,
          3.7323,
          3.7364,
          3.7326,
          3.7355,
          3.7355,
          3.7336,
          3.7299,
          3.7335,
          3.7304,
          3.7304,
          3.7304
         ],
         "open": [
          3.7371,
          3.7371,
          3.7357,
          3.731,
          3.7284,
          3.725,
          3.7205,
          3.7201,
          3.7242,
          3.7242,
          3.7224,
          3.7213,
          3.7272,
          3.729,
          3.7292,
          3.7289,
          3.7292,
          3.7296,
          3.7281,
          3.7295,
          3.7296,
          3.7271,
          3.7271,
          3.7271,
          3.7212,
          3.7212,
          3.7241,
          3.7209,
          3.7228,
          3.7235,
          3.7213,
          3.7203,
          3.7198,
          3.7214,
          3.7214,
          3.7187,
          3.7162,
          3.7139,
          3.7039,
          3.7013,
          3.7013,
          3.7009,
          3.7009,
          3.7005,
          3.695,
          3.7003,
          3.7023,
          3.7008,
          3.7008,
          3.7012,
          3.6971,
          3.6968,
          3.6955,
          3.6908,
          3.693,
          3.6926,
          3.692,
          3.692,
          3.691,
          3.6879,
          3.6927,
          3.6928,
          3.6988,
          3.7023,
          3.7082,
          3.7114,
          3.7264,
          3.7282,
          3.735,
          3.734,
          3.7346,
          3.7331,
          3.7343,
          3.7345,
          3.7268,
          3.7268,
          3.7274,
          3.7298,
          3.7316,
          3.7329,
          3.7364,
          3.7326,
          3.7355,
          3.7355,
          3.7355,
          3.7325,
          3.7335,
          3.7304,
          3.7304,
          3.7304
         ],
         "type": "candlestick",
         "x": [
          "2021-06-18 10:30:00",
          "2021-06-18 10:31:00",
          "2021-06-18 10:32:00",
          "2021-06-18 10:33:00",
          "2021-06-18 10:34:00",
          "2021-06-18 10:35:00",
          "2021-06-18 10:36:00",
          "2021-06-18 10:37:00",
          "2021-06-18 10:38:00",
          "2021-06-18 10:39:00",
          "2021-06-18 10:40:00",
          "2021-06-18 10:41:00",
          "2021-06-18 10:42:00",
          "2021-06-18 10:43:00",
          "2021-06-18 10:44:00",
          "2021-06-18 10:45:00",
          "2021-06-18 10:46:00",
          "2021-06-18 10:47:00",
          "2021-06-18 10:48:00",
          "2021-06-18 10:49:00",
          "2021-06-18 10:50:00",
          "2021-06-18 10:51:00",
          "2021-06-18 10:52:00",
          "2021-06-18 10:53:00",
          "2021-06-18 10:54:00",
          "2021-06-18 10:55:00",
          "2021-06-18 10:56:00",
          "2021-06-18 10:57:00",
          "2021-06-18 10:58:00",
          "2021-06-18 10:59:00",
          "2021-06-18 11:00:00",
          "2021-06-18 11:01:00",
          "2021-06-18 11:02:00",
          "2021-06-18 11:03:00",
          "2021-06-18 11:04:00",
          "2021-06-18 11:05:00",
          "2021-06-18 11:06:00",
          "2021-06-18 11:07:00",
          "2021-06-18 11:08:00",
          "2021-06-18 11:09:00",
          "2021-06-18 11:10:00",
          "2021-06-18 11:11:00",
          "2021-06-18 11:12:00",
          "2021-06-18 11:13:00",
          "2021-06-18 11:14:00",
          "2021-06-18 11:15:00",
          "2021-06-18 11:16:00",
          "2021-06-18 11:17:00",
          "2021-06-18 11:18:00",
          "2021-06-18 11:19:00",
          "2021-06-18 11:20:00",
          "2021-06-18 11:21:00",
          "2021-06-18 11:22:00",
          "2021-06-18 11:23:00",
          "2021-06-18 11:24:00",
          "2021-06-18 11:25:00",
          "2021-06-18 11:26:00",
          "2021-06-18 11:27:00",
          "2021-06-18 11:28:00",
          "2021-06-18 11:29:00",
          "2021-06-18 11:30:00",
          "2021-06-18 11:31:00",
          "2021-06-18 11:32:00",
          "2021-06-18 11:33:00",
          "2021-06-18 11:34:00",
          "2021-06-18 11:35:00",
          "2021-06-18 11:36:00",
          "2021-06-18 11:37:00",
          "2021-06-18 11:38:00",
          "2021-06-18 11:39:00",
          "2021-06-18 11:40:00",
          "2021-06-18 11:41:00",
          "2021-06-18 11:42:00",
          "2021-06-18 11:43:00",
          "2021-06-18 11:44:00",
          "2021-06-18 11:45:00",
          "2021-06-18 11:46:00",
          "2021-06-18 11:47:00",
          "2021-06-18 11:48:00",
          "2021-06-18 11:49:00",
          "2021-06-18 11:50:00",
          "2021-06-18 11:51:00",
          "2021-06-18 11:52:00",
          "2021-06-18 11:53:00",
          "2021-06-18 11:54:00",
          "2021-06-18 11:55:00",
          "2021-06-18 11:56:00",
          "2021-06-18 11:57:00",
          "2021-06-18 11:58:00",
          "2021-06-18 11:59:00"
         ]
        }
       ],
       "layout": {
        "shapes": [
         {
          "x0": "2021-06-18 11:00:00",
          "x1": "2021-06-18 11:00:00",
          "y0": 3.61081,
          "y1": 3.761658
         }
        ],
        "template": {
         "data": {
          "bar": [
           {
            "error_x": {
             "color": "#2a3f5f"
            },
            "error_y": {
             "color": "#2a3f5f"
            },
            "marker": {
             "line": {
              "color": "#E5ECF6",
              "width": 0.5
             },
             "pattern": {
              "fillmode": "overlay",
              "size": 10,
              "solidity": 0.2
             }
            },
            "type": "bar"
           }
          ],
          "barpolar": [
           {
            "marker": {
             "line": {
              "color": "#E5ECF6",
              "width": 0.5
             },
             "pattern": {
              "fillmode": "overlay",
              "size": 10,
              "solidity": 0.2
             }
            },
            "type": "barpolar"
           }
          ],
          "carpet": [
           {
            "aaxis": {
             "endlinecolor": "#2a3f5f",
             "gridcolor": "white",
             "linecolor": "white",
             "minorgridcolor": "white",
             "startlinecolor": "#2a3f5f"
            },
            "baxis": {
             "endlinecolor": "#2a3f5f",
             "gridcolor": "white",
             "linecolor": "white",
             "minorgridcolor": "white",
             "startlinecolor": "#2a3f5f"
            },
            "type": "carpet"
           }
          ],
          "choropleth": [
           {
            "colorbar": {
             "outlinewidth": 0,
             "ticks": ""
            },
            "type": "choropleth"
           }
          ],
          "contour": [
           {
            "colorbar": {
             "outlinewidth": 0,
             "ticks": ""
            },
            "colorscale": [
             [
              0,
              "#0d0887"
             ],
             [
              0.1111111111111111,
              "#46039f"
             ],
             [
              0.2222222222222222,
              "#7201a8"
             ],
             [
              0.3333333333333333,
              "#9c179e"
             ],
             [
              0.4444444444444444,
              "#bd3786"
             ],
             [
              0.5555555555555556,
              "#d8576b"
             ],
             [
              0.6666666666666666,
              "#ed7953"
             ],
             [
              0.7777777777777778,
              "#fb9f3a"
             ],
             [
              0.8888888888888888,
              "#fdca26"
             ],
             [
              1,
              "#f0f921"
             ]
            ],
            "type": "contour"
           }
          ],
          "contourcarpet": [
           {
            "colorbar": {
             "outlinewidth": 0,
             "ticks": ""
            },
            "type": "contourcarpet"
           }
          ],
          "heatmap": [
           {
            "colorbar": {
             "outlinewidth": 0,
             "ticks": ""
            },
            "colorscale": [
             [
              0,
              "#0d0887"
             ],
             [
              0.1111111111111111,
              "#46039f"
             ],
             [
              0.2222222222222222,
              "#7201a8"
             ],
             [
              0.3333333333333333,
              "#9c179e"
             ],
             [
              0.4444444444444444,
              "#bd3786"
             ],
             [
              0.5555555555555556,
              "#d8576b"
             ],
             [
              0.6666666666666666,
              "#ed7953"
             ],
             [
              0.7777777777777778,
              "#fb9f3a"
             ],
             [
              0.8888888888888888,
              "#fdca26"
             ],
             [
              1,
              "#f0f921"
             ]
            ],
            "type": "heatmap"
           }
          ],
          "heatmapgl": [
           {
            "colorbar": {
             "outlinewidth": 0,
             "ticks": ""
            },
            "colorscale": [
             [
              0,
              "#0d0887"
             ],
             [
              0.1111111111111111,
              "#46039f"
             ],
             [
              0.2222222222222222,
              "#7201a8"
             ],
             [
              0.3333333333333333,
              "#9c179e"
             ],
             [
              0.4444444444444444,
              "#bd3786"
             ],
             [
              0.5555555555555556,
              "#d8576b"
             ],
             [
              0.6666666666666666,
              "#ed7953"
             ],
             [
              0.7777777777777778,
              "#fb9f3a"
             ],
             [
              0.8888888888888888,
              "#fdca26"
             ],
             [
              1,
              "#f0f921"
             ]
            ],
            "type": "heatmapgl"
           }
          ],
          "histogram": [
           {
            "marker": {
             "pattern": {
              "fillmode": "overlay",
              "size": 10,
              "solidity": 0.2
             }
            },
            "type": "histogram"
           }
          ],
          "histogram2d": [
           {
            "colorbar": {
             "outlinewidth": 0,
             "ticks": ""
            },
            "colorscale": [
             [
              0,
              "#0d0887"
             ],
             [
              0.1111111111111111,
              "#46039f"
             ],
             [
              0.2222222222222222,
              "#7201a8"
             ],
             [
              0.3333333333333333,
              "#9c179e"
             ],
             [
              0.4444444444444444,
              "#bd3786"
             ],
             [
              0.5555555555555556,
              "#d8576b"
             ],
             [
              0.6666666666666666,
              "#ed7953"
             ],
             [
              0.7777777777777778,
              "#fb9f3a"
             ],
             [
              0.8888888888888888,
              "#fdca26"
             ],
             [
              1,
              "#f0f921"
             ]
            ],
            "type": "histogram2d"
           }
          ],
          "histogram2dcontour": [
           {
            "colorbar": {
             "outlinewidth": 0,
             "ticks": ""
            },
            "colorscale": [
             [
              0,
              "#0d0887"
             ],
             [
              0.1111111111111111,
              "#46039f"
             ],
             [
              0.2222222222222222,
              "#7201a8"
             ],
             [
              0.3333333333333333,
              "#9c179e"
             ],
             [
              0.4444444444444444,
              "#bd3786"
             ],
             [
              0.5555555555555556,
              "#d8576b"
             ],
             [
              0.6666666666666666,
              "#ed7953"
             ],
             [
              0.7777777777777778,
              "#fb9f3a"
             ],
             [
              0.8888888888888888,
              "#fdca26"
             ],
             [
              1,
              "#f0f921"
             ]
            ],
            "type": "histogram2dcontour"
           }
          ],
          "mesh3d": [
           {
            "colorbar": {
             "outlinewidth": 0,
             "ticks": ""
            },
            "type": "mesh3d"
           }
          ],
          "parcoords": [
           {
            "line": {
             "colorbar": {
              "outlinewidth": 0,
              "ticks": ""
             }
            },
            "type": "parcoords"
           }
          ],
          "pie": [
           {
            "automargin": true,
            "type": "pie"
           }
          ],
          "scatter": [
           {
            "marker": {
             "colorbar": {
              "outlinewidth": 0,
              "ticks": ""
             }
            },
            "type": "scatter"
           }
          ],
          "scatter3d": [
           {
            "line": {
             "colorbar": {
              "outlinewidth": 0,
              "ticks": ""
             }
            },
            "marker": {
             "colorbar": {
              "outlinewidth": 0,
              "ticks": ""
             }
            },
            "type": "scatter3d"
           }
          ],
          "scattercarpet": [
           {
            "marker": {
             "colorbar": {
              "outlinewidth": 0,
              "ticks": ""
             }
            },
            "type": "scattercarpet"
           }
          ],
          "scattergeo": [
           {
            "marker": {
             "colorbar": {
              "outlinewidth": 0,
              "ticks": ""
             }
            },
            "type": "scattergeo"
           }
          ],
          "scattergl": [
           {
            "marker": {
             "colorbar": {
              "outlinewidth": 0,
              "ticks": ""
             }
            },
            "type": "scattergl"
           }
          ],
          "scattermapbox": [
           {
            "marker": {
             "colorbar": {
              "outlinewidth": 0,
              "ticks": ""
             }
            },
            "type": "scattermapbox"
           }
          ],
          "scatterpolar": [
           {
            "marker": {
             "colorbar": {
              "outlinewidth": 0,
              "ticks": ""
             }
            },
            "type": "scatterpolar"
           }
          ],
          "scatterpolargl": [
           {
            "marker": {
             "colorbar": {
              "outlinewidth": 0,
              "ticks": ""
             }
            },
            "type": "scatterpolargl"
           }
          ],
          "scatterternary": [
           {
            "marker": {
             "colorbar": {
              "outlinewidth": 0,
              "ticks": ""
             }
            },
            "type": "scatterternary"
           }
          ],
          "surface": [
           {
            "colorbar": {
             "outlinewidth": 0,
             "ticks": ""
            },
            "colorscale": [
             [
              0,
              "#0d0887"
             ],
             [
              0.1111111111111111,
              "#46039f"
             ],
             [
              0.2222222222222222,
              "#7201a8"
             ],
             [
              0.3333333333333333,
              "#9c179e"
             ],
             [
              0.4444444444444444,
              "#bd3786"
             ],
             [
              0.5555555555555556,
              "#d8576b"
             ],
             [
              0.6666666666666666,
              "#ed7953"
             ],
             [
              0.7777777777777778,
              "#fb9f3a"
             ],
             [
              0.8888888888888888,
              "#fdca26"
             ],
             [
              1,
              "#f0f921"
             ]
            ],
            "type": "surface"
           }
          ],
          "table": [
           {
            "cells": {
             "fill": {
              "color": "#EBF0F8"
             },
             "line": {
              "color": "white"
             }
            },
            "header": {
             "fill": {
              "color": "#C8D4E3"
             },
             "line": {
              "color": "white"
             }
            },
            "type": "table"
           }
          ]
         },
         "layout": {
          "annotationdefaults": {
           "arrowcolor": "#2a3f5f",
           "arrowhead": 0,
           "arrowwidth": 1
          },
          "autotypenumbers": "strict",
          "coloraxis": {
           "colorbar": {
            "outlinewidth": 0,
            "ticks": ""
           }
          },
          "colorscale": {
           "diverging": [
            [
             0,
             "#8e0152"
            ],
            [
             0.1,
             "#c51b7d"
            ],
            [
             0.2,
             "#de77ae"
            ],
            [
             0.3,
             "#f1b6da"
            ],
            [
             0.4,
             "#fde0ef"
            ],
            [
             0.5,
             "#f7f7f7"
            ],
            [
             0.6,
             "#e6f5d0"
            ],
            [
             0.7,
             "#b8e186"
            ],
            [
             0.8,
             "#7fbc41"
            ],
            [
             0.9,
             "#4d9221"
            ],
            [
             1,
             "#276419"
            ]
           ],
           "sequential": [
            [
             0,
             "#0d0887"
            ],
            [
             0.1111111111111111,
             "#46039f"
            ],
            [
             0.2222222222222222,
             "#7201a8"
            ],
            [
             0.3333333333333333,
             "#9c179e"
            ],
            [
             0.4444444444444444,
             "#bd3786"
            ],
            [
             0.5555555555555556,
             "#d8576b"
            ],
            [
             0.6666666666666666,
             "#ed7953"
            ],
            [
             0.7777777777777778,
             "#fb9f3a"
            ],
            [
             0.8888888888888888,
             "#fdca26"
            ],
            [
             1,
             "#f0f921"
            ]
           ],
           "sequentialminus": [
            [
             0,
             "#0d0887"
            ],
            [
             0.1111111111111111,
             "#46039f"
            ],
            [
             0.2222222222222222,
             "#7201a8"
            ],
            [
             0.3333333333333333,
             "#9c179e"
            ],
            [
             0.4444444444444444,
             "#bd3786"
            ],
            [
             0.5555555555555556,
             "#d8576b"
            ],
            [
             0.6666666666666666,
             "#ed7953"
            ],
            [
             0.7777777777777778,
             "#fb9f3a"
            ],
            [
             0.8888888888888888,
             "#fdca26"
            ],
            [
             1,
             "#f0f921"
            ]
           ]
          },
          "colorway": [
           "#636efa",
           "#EF553B",
           "#00cc96",
           "#ab63fa",
           "#FFA15A",
           "#19d3f3",
           "#FF6692",
           "#B6E880",
           "#FF97FF",
           "#FECB52"
          ],
          "font": {
           "color": "#2a3f5f"
          },
          "geo": {
           "bgcolor": "white",
           "lakecolor": "white",
           "landcolor": "#E5ECF6",
           "showlakes": true,
           "showland": true,
           "subunitcolor": "white"
          },
          "hoverlabel": {
           "align": "left"
          },
          "hovermode": "closest",
          "mapbox": {
           "style": "light"
          },
          "paper_bgcolor": "white",
          "plot_bgcolor": "#E5ECF6",
          "polar": {
           "angularaxis": {
            "gridcolor": "white",
            "linecolor": "white",
            "ticks": ""
           },
           "bgcolor": "#E5ECF6",
           "radialaxis": {
            "gridcolor": "white",
            "linecolor": "white",
            "ticks": ""
           }
          },
          "scene": {
           "xaxis": {
            "backgroundcolor": "#E5ECF6",
            "gridcolor": "white",
            "gridwidth": 2,
            "linecolor": "white",
            "showbackground": true,
            "ticks": "",
            "zerolinecolor": "white"
           },
           "yaxis": {
            "backgroundcolor": "#E5ECF6",
            "gridcolor": "white",
            "gridwidth": 2,
            "linecolor": "white",
            "showbackground": true,
            "ticks": "",
            "zerolinecolor": "white"
           },
           "zaxis": {
            "backgroundcolor": "#E5ECF6",
            "gridcolor": "white",
            "gridwidth": 2,
            "linecolor": "white",
            "showbackground": true,
            "ticks": "",
            "zerolinecolor": "white"
           }
          },
          "shapedefaults": {
           "line": {
            "color": "#2a3f5f"
           }
          },
          "ternary": {
           "aaxis": {
            "gridcolor": "white",
            "linecolor": "white",
            "ticks": ""
           },
           "baxis": {
            "gridcolor": "white",
            "linecolor": "white",
            "ticks": ""
           },
           "bgcolor": "#E5ECF6",
           "caxis": {
            "gridcolor": "white",
            "linecolor": "white",
            "ticks": ""
           }
          },
          "title": {
           "x": 0.05
          },
          "xaxis": {
           "automargin": true,
           "gridcolor": "white",
           "linecolor": "white",
           "ticks": "",
           "title": {
            "standoff": 15
           },
           "zerolinecolor": "white",
           "zerolinewidth": 2
          },
          "yaxis": {
           "automargin": true,
           "gridcolor": "white",
           "linecolor": "white",
           "ticks": "",
           "title": {
            "standoff": 15
           },
           "zerolinecolor": "white",
           "zerolinewidth": 2
          }
         }
        },
        "title": {
         "text": "BNT/USDT Binance Chart"
        }
       }
      }
     },
     "metadata": {},
     "output_type": "display_data"
    }
   ],
   "source": [
    "Binance_Ohlc_Chart(6)"
   ]
  },
  {
   "cell_type": "code",
   "execution_count": 155,
   "metadata": {},
   "outputs": [
    {
     "name": "stdout",
     "output_type": "stream",
     "text": [
      "100000 BAKE/USDT candles in total from 2021-09-16T18:12:00.000Z to 2021-11-25T04:51:00.000Z\n",
      "200000 BAKE/USDT candles in total from 2021-07-09T07:32:00.000Z to 2021-11-25T04:51:00.000Z\n",
      "300000 BAKE/USDT candles in total from 2021-04-30T20:52:00.000Z to 2021-11-25T04:51:00.000Z\n"
     ]
    },
    {
     "data": {
      "application/vnd.plotly.v1+json": {
       "config": {
        "plotlyServerURL": "https://plot.ly"
       },
       "data": [
        {
         "close": [
          3.201,
          3.1973,
          3.2024,
          3.2041,
          3.1967,
          3.1959,
          3.1954,
          3.1861,
          3.1813,
          3.1764,
          3.18,
          3.1697,
          3.1691,
          3.1712,
          3.1779,
          3.1863,
          3.1866,
          3.181,
          3.1879,
          3.193,
          3.1931,
          3.1752,
          3.1651,
          3.1621,
          3.1605,
          3.1624,
          3.1618,
          3.1717,
          3.16,
          3.1554,
          3.1573,
          3.1459,
          3.1551,
          3.1561,
          3.1507,
          3.1558,
          3.1669,
          3.1698,
          3.1689,
          3.1669,
          3.1712,
          3.169,
          3.1659,
          3.1599,
          3.169,
          3.1613,
          3.1658,
          3.1683,
          3.1784,
          3.1846,
          3.1869,
          3.1865,
          3.1895,
          3.192,
          3.1921,
          3.1864,
          3.1899,
          3.19,
          3.1854,
          3.1802,
          3.1884,
          3.1856,
          3.1756,
          3.1736,
          3.1669,
          3.18,
          3.173,
          3.1653,
          3.1798,
          3.1699,
          3.166,
          3.1611,
          3.16,
          3.1663,
          3.1601,
          3.1542,
          3.168,
          3.1761,
          3.161,
          3.1732,
          3.1747,
          3.174,
          3.1748,
          3.1722,
          3.1706,
          3.1729,
          3.1756,
          3.1675,
          3.1775,
          3.175
         ],
         "high": [
          3.2068,
          3.201,
          3.2046,
          3.21,
          3.205,
          3.1988,
          3.1959,
          3.1941,
          3.1938,
          3.1866,
          3.18,
          3.1851,
          3.1794,
          3.1797,
          3.1809,
          3.1885,
          3.1928,
          3.1877,
          3.1889,
          3.1951,
          3.1934,
          3.1904,
          3.1753,
          3.17,
          3.1665,
          3.1727,
          3.1668,
          3.1737,
          3.1703,
          3.1634,
          3.1641,
          3.1554,
          3.1641,
          3.1698,
          3.1548,
          3.1672,
          3.1697,
          3.1698,
          3.1755,
          3.1683,
          3.1738,
          3.1752,
          3.1712,
          3.168,
          3.173,
          3.1679,
          3.1677,
          3.1717,
          3.1811,
          3.1873,
          3.1871,
          3.1897,
          3.1895,
          3.1962,
          3.1985,
          3.1996,
          3.1899,
          3.19,
          3.1911,
          3.1854,
          3.1884,
          3.1928,
          3.1883,
          3.1748,
          3.1751,
          3.1832,
          3.1815,
          3.1701,
          3.1824,
          3.1799,
          3.1685,
          3.1681,
          3.161,
          3.1758,
          3.1678,
          3.1603,
          3.1699,
          3.1839,
          3.1722,
          3.1765,
          3.1787,
          3.1791,
          3.1769,
          3.1739,
          3.1768,
          3.1767,
          3.1756,
          3.1779,
          3.1779,
          3.175
         ],
         "low": [
          3.1983,
          3.1944,
          3.1975,
          3.1972,
          3.1936,
          3.1949,
          3.1903,
          3.1854,
          3.1813,
          3.1764,
          3.1715,
          3.1684,
          3.165,
          3.1702,
          3.169,
          3.1708,
          3.1822,
          3.18,
          3.1818,
          3.1839,
          3.1899,
          3.1747,
          3.1651,
          3.1621,
          3.1551,
          3.1589,
          3.1614,
          3.1645,
          3.16,
          3.1518,
          3.1451,
          3.1385,
          3.1459,
          3.154,
          3.1432,
          3.1534,
          3.1559,
          3.1646,
          3.1672,
          3.1641,
          3.1641,
          3.1646,
          3.1659,
          3.1559,
          3.1599,
          3.16,
          3.1613,
          3.161,
          3.165,
          3.1778,
          3.1834,
          3.1852,
          3.1853,
          3.1874,
          3.19,
          3.1848,
          3.1853,
          3.1859,
          3.1853,
          3.1802,
          3.1828,
          3.185,
          3.1756,
          3.15,
          3.1631,
          3.1656,
          3.1729,
          3.1651,
          3.1652,
          3.1641,
          3.1633,
          3.1589,
          3.1543,
          3.1584,
          3.1601,
          3.1461,
          3.1561,
          3.1684,
          3.1546,
          3.1693,
          3.1712,
          3.1706,
          3.1702,
          3.17,
          3.1705,
          3.1719,
          3.1676,
          3.1612,
          3.1679,
          3.1682
         ],
         "open": [
          3.1984,
          3.2,
          3.1975,
          3.2024,
          3.2024,
          3.1967,
          3.1938,
          3.1941,
          3.188,
          3.1839,
          3.1757,
          3.1772,
          3.1697,
          3.1716,
          3.17,
          3.1741,
          3.186,
          3.1866,
          3.1823,
          3.1839,
          3.1923,
          3.1904,
          3.1752,
          3.1651,
          3.1662,
          3.1589,
          3.1617,
          3.1645,
          3.169,
          3.157,
          3.1574,
          3.1536,
          3.1459,
          3.1541,
          3.1548,
          3.1543,
          3.1585,
          3.1651,
          3.1699,
          3.1666,
          3.1642,
          3.1721,
          3.1712,
          3.168,
          3.1599,
          3.1659,
          3.1613,
          3.161,
          3.1683,
          3.1802,
          3.1855,
          3.1869,
          3.187,
          3.1891,
          3.1914,
          3.1942,
          3.1853,
          3.1865,
          3.1882,
          3.1854,
          3.1828,
          3.189,
          3.1853,
          3.1731,
          3.171,
          3.1656,
          3.1756,
          3.1677,
          3.1652,
          3.1799,
          3.1663,
          3.1669,
          3.161,
          3.16,
          3.1677,
          3.1583,
          3.1561,
          3.1684,
          3.1722,
          3.1693,
          3.1756,
          3.1737,
          3.174,
          3.1739,
          3.1766,
          3.1729,
          3.1754,
          3.1756,
          3.1679,
          3.1733
         ],
         "type": "candlestick",
         "x": [
          "2021-06-10 10:30:00",
          "2021-06-10 10:31:00",
          "2021-06-10 10:32:00",
          "2021-06-10 10:33:00",
          "2021-06-10 10:34:00",
          "2021-06-10 10:35:00",
          "2021-06-10 10:36:00",
          "2021-06-10 10:37:00",
          "2021-06-10 10:38:00",
          "2021-06-10 10:39:00",
          "2021-06-10 10:40:00",
          "2021-06-10 10:41:00",
          "2021-06-10 10:42:00",
          "2021-06-10 10:43:00",
          "2021-06-10 10:44:00",
          "2021-06-10 10:45:00",
          "2021-06-10 10:46:00",
          "2021-06-10 10:47:00",
          "2021-06-10 10:48:00",
          "2021-06-10 10:49:00",
          "2021-06-10 10:50:00",
          "2021-06-10 10:51:00",
          "2021-06-10 10:52:00",
          "2021-06-10 10:53:00",
          "2021-06-10 10:54:00",
          "2021-06-10 10:55:00",
          "2021-06-10 10:56:00",
          "2021-06-10 10:57:00",
          "2021-06-10 10:58:00",
          "2021-06-10 10:59:00",
          "2021-06-10 11:00:00",
          "2021-06-10 11:01:00",
          "2021-06-10 11:02:00",
          "2021-06-10 11:03:00",
          "2021-06-10 11:04:00",
          "2021-06-10 11:05:00",
          "2021-06-10 11:06:00",
          "2021-06-10 11:07:00",
          "2021-06-10 11:08:00",
          "2021-06-10 11:09:00",
          "2021-06-10 11:10:00",
          "2021-06-10 11:11:00",
          "2021-06-10 11:12:00",
          "2021-06-10 11:13:00",
          "2021-06-10 11:14:00",
          "2021-06-10 11:15:00",
          "2021-06-10 11:16:00",
          "2021-06-10 11:17:00",
          "2021-06-10 11:18:00",
          "2021-06-10 11:19:00",
          "2021-06-10 11:20:00",
          "2021-06-10 11:21:00",
          "2021-06-10 11:22:00",
          "2021-06-10 11:23:00",
          "2021-06-10 11:24:00",
          "2021-06-10 11:25:00",
          "2021-06-10 11:26:00",
          "2021-06-10 11:27:00",
          "2021-06-10 11:28:00",
          "2021-06-10 11:29:00",
          "2021-06-10 11:30:00",
          "2021-06-10 11:31:00",
          "2021-06-10 11:32:00",
          "2021-06-10 11:33:00",
          "2021-06-10 11:34:00",
          "2021-06-10 11:35:00",
          "2021-06-10 11:36:00",
          "2021-06-10 11:37:00",
          "2021-06-10 11:38:00",
          "2021-06-10 11:39:00",
          "2021-06-10 11:40:00",
          "2021-06-10 11:41:00",
          "2021-06-10 11:42:00",
          "2021-06-10 11:43:00",
          "2021-06-10 11:44:00",
          "2021-06-10 11:45:00",
          "2021-06-10 11:46:00",
          "2021-06-10 11:47:00",
          "2021-06-10 11:48:00",
          "2021-06-10 11:49:00",
          "2021-06-10 11:50:00",
          "2021-06-10 11:51:00",
          "2021-06-10 11:52:00",
          "2021-06-10 11:53:00",
          "2021-06-10 11:54:00",
          "2021-06-10 11:55:00",
          "2021-06-10 11:56:00",
          "2021-06-10 11:57:00",
          "2021-06-10 11:58:00",
          "2021-06-10 11:59:00"
         ]
        }
       ],
       "layout": {
        "shapes": [
         {
          "x0": "2021-06-10 11:00:00",
          "x1": "2021-06-10 11:00:00",
          "y0": 3.07573,
          "y1": 3.217896
         }
        ],
        "template": {
         "data": {
          "bar": [
           {
            "error_x": {
             "color": "#2a3f5f"
            },
            "error_y": {
             "color": "#2a3f5f"
            },
            "marker": {
             "line": {
              "color": "#E5ECF6",
              "width": 0.5
             },
             "pattern": {
              "fillmode": "overlay",
              "size": 10,
              "solidity": 0.2
             }
            },
            "type": "bar"
           }
          ],
          "barpolar": [
           {
            "marker": {
             "line": {
              "color": "#E5ECF6",
              "width": 0.5
             },
             "pattern": {
              "fillmode": "overlay",
              "size": 10,
              "solidity": 0.2
             }
            },
            "type": "barpolar"
           }
          ],
          "carpet": [
           {
            "aaxis": {
             "endlinecolor": "#2a3f5f",
             "gridcolor": "white",
             "linecolor": "white",
             "minorgridcolor": "white",
             "startlinecolor": "#2a3f5f"
            },
            "baxis": {
             "endlinecolor": "#2a3f5f",
             "gridcolor": "white",
             "linecolor": "white",
             "minorgridcolor": "white",
             "startlinecolor": "#2a3f5f"
            },
            "type": "carpet"
           }
          ],
          "choropleth": [
           {
            "colorbar": {
             "outlinewidth": 0,
             "ticks": ""
            },
            "type": "choropleth"
           }
          ],
          "contour": [
           {
            "colorbar": {
             "outlinewidth": 0,
             "ticks": ""
            },
            "colorscale": [
             [
              0,
              "#0d0887"
             ],
             [
              0.1111111111111111,
              "#46039f"
             ],
             [
              0.2222222222222222,
              "#7201a8"
             ],
             [
              0.3333333333333333,
              "#9c179e"
             ],
             [
              0.4444444444444444,
              "#bd3786"
             ],
             [
              0.5555555555555556,
              "#d8576b"
             ],
             [
              0.6666666666666666,
              "#ed7953"
             ],
             [
              0.7777777777777778,
              "#fb9f3a"
             ],
             [
              0.8888888888888888,
              "#fdca26"
             ],
             [
              1,
              "#f0f921"
             ]
            ],
            "type": "contour"
           }
          ],
          "contourcarpet": [
           {
            "colorbar": {
             "outlinewidth": 0,
             "ticks": ""
            },
            "type": "contourcarpet"
           }
          ],
          "heatmap": [
           {
            "colorbar": {
             "outlinewidth": 0,
             "ticks": ""
            },
            "colorscale": [
             [
              0,
              "#0d0887"
             ],
             [
              0.1111111111111111,
              "#46039f"
             ],
             [
              0.2222222222222222,
              "#7201a8"
             ],
             [
              0.3333333333333333,
              "#9c179e"
             ],
             [
              0.4444444444444444,
              "#bd3786"
             ],
             [
              0.5555555555555556,
              "#d8576b"
             ],
             [
              0.6666666666666666,
              "#ed7953"
             ],
             [
              0.7777777777777778,
              "#fb9f3a"
             ],
             [
              0.8888888888888888,
              "#fdca26"
             ],
             [
              1,
              "#f0f921"
             ]
            ],
            "type": "heatmap"
           }
          ],
          "heatmapgl": [
           {
            "colorbar": {
             "outlinewidth": 0,
             "ticks": ""
            },
            "colorscale": [
             [
              0,
              "#0d0887"
             ],
             [
              0.1111111111111111,
              "#46039f"
             ],
             [
              0.2222222222222222,
              "#7201a8"
             ],
             [
              0.3333333333333333,
              "#9c179e"
             ],
             [
              0.4444444444444444,
              "#bd3786"
             ],
             [
              0.5555555555555556,
              "#d8576b"
             ],
             [
              0.6666666666666666,
              "#ed7953"
             ],
             [
              0.7777777777777778,
              "#fb9f3a"
             ],
             [
              0.8888888888888888,
              "#fdca26"
             ],
             [
              1,
              "#f0f921"
             ]
            ],
            "type": "heatmapgl"
           }
          ],
          "histogram": [
           {
            "marker": {
             "pattern": {
              "fillmode": "overlay",
              "size": 10,
              "solidity": 0.2
             }
            },
            "type": "histogram"
           }
          ],
          "histogram2d": [
           {
            "colorbar": {
             "outlinewidth": 0,
             "ticks": ""
            },
            "colorscale": [
             [
              0,
              "#0d0887"
             ],
             [
              0.1111111111111111,
              "#46039f"
             ],
             [
              0.2222222222222222,
              "#7201a8"
             ],
             [
              0.3333333333333333,
              "#9c179e"
             ],
             [
              0.4444444444444444,
              "#bd3786"
             ],
             [
              0.5555555555555556,
              "#d8576b"
             ],
             [
              0.6666666666666666,
              "#ed7953"
             ],
             [
              0.7777777777777778,
              "#fb9f3a"
             ],
             [
              0.8888888888888888,
              "#fdca26"
             ],
             [
              1,
              "#f0f921"
             ]
            ],
            "type": "histogram2d"
           }
          ],
          "histogram2dcontour": [
           {
            "colorbar": {
             "outlinewidth": 0,
             "ticks": ""
            },
            "colorscale": [
             [
              0,
              "#0d0887"
             ],
             [
              0.1111111111111111,
              "#46039f"
             ],
             [
              0.2222222222222222,
              "#7201a8"
             ],
             [
              0.3333333333333333,
              "#9c179e"
             ],
             [
              0.4444444444444444,
              "#bd3786"
             ],
             [
              0.5555555555555556,
              "#d8576b"
             ],
             [
              0.6666666666666666,
              "#ed7953"
             ],
             [
              0.7777777777777778,
              "#fb9f3a"
             ],
             [
              0.8888888888888888,
              "#fdca26"
             ],
             [
              1,
              "#f0f921"
             ]
            ],
            "type": "histogram2dcontour"
           }
          ],
          "mesh3d": [
           {
            "colorbar": {
             "outlinewidth": 0,
             "ticks": ""
            },
            "type": "mesh3d"
           }
          ],
          "parcoords": [
           {
            "line": {
             "colorbar": {
              "outlinewidth": 0,
              "ticks": ""
             }
            },
            "type": "parcoords"
           }
          ],
          "pie": [
           {
            "automargin": true,
            "type": "pie"
           }
          ],
          "scatter": [
           {
            "marker": {
             "colorbar": {
              "outlinewidth": 0,
              "ticks": ""
             }
            },
            "type": "scatter"
           }
          ],
          "scatter3d": [
           {
            "line": {
             "colorbar": {
              "outlinewidth": 0,
              "ticks": ""
             }
            },
            "marker": {
             "colorbar": {
              "outlinewidth": 0,
              "ticks": ""
             }
            },
            "type": "scatter3d"
           }
          ],
          "scattercarpet": [
           {
            "marker": {
             "colorbar": {
              "outlinewidth": 0,
              "ticks": ""
             }
            },
            "type": "scattercarpet"
           }
          ],
          "scattergeo": [
           {
            "marker": {
             "colorbar": {
              "outlinewidth": 0,
              "ticks": ""
             }
            },
            "type": "scattergeo"
           }
          ],
          "scattergl": [
           {
            "marker": {
             "colorbar": {
              "outlinewidth": 0,
              "ticks": ""
             }
            },
            "type": "scattergl"
           }
          ],
          "scattermapbox": [
           {
            "marker": {
             "colorbar": {
              "outlinewidth": 0,
              "ticks": ""
             }
            },
            "type": "scattermapbox"
           }
          ],
          "scatterpolar": [
           {
            "marker": {
             "colorbar": {
              "outlinewidth": 0,
              "ticks": ""
             }
            },
            "type": "scatterpolar"
           }
          ],
          "scatterpolargl": [
           {
            "marker": {
             "colorbar": {
              "outlinewidth": 0,
              "ticks": ""
             }
            },
            "type": "scatterpolargl"
           }
          ],
          "scatterternary": [
           {
            "marker": {
             "colorbar": {
              "outlinewidth": 0,
              "ticks": ""
             }
            },
            "type": "scatterternary"
           }
          ],
          "surface": [
           {
            "colorbar": {
             "outlinewidth": 0,
             "ticks": ""
            },
            "colorscale": [
             [
              0,
              "#0d0887"
             ],
             [
              0.1111111111111111,
              "#46039f"
             ],
             [
              0.2222222222222222,
              "#7201a8"
             ],
             [
              0.3333333333333333,
              "#9c179e"
             ],
             [
              0.4444444444444444,
              "#bd3786"
             ],
             [
              0.5555555555555556,
              "#d8576b"
             ],
             [
              0.6666666666666666,
              "#ed7953"
             ],
             [
              0.7777777777777778,
              "#fb9f3a"
             ],
             [
              0.8888888888888888,
              "#fdca26"
             ],
             [
              1,
              "#f0f921"
             ]
            ],
            "type": "surface"
           }
          ],
          "table": [
           {
            "cells": {
             "fill": {
              "color": "#EBF0F8"
             },
             "line": {
              "color": "white"
             }
            },
            "header": {
             "fill": {
              "color": "#C8D4E3"
             },
             "line": {
              "color": "white"
             }
            },
            "type": "table"
           }
          ]
         },
         "layout": {
          "annotationdefaults": {
           "arrowcolor": "#2a3f5f",
           "arrowhead": 0,
           "arrowwidth": 1
          },
          "autotypenumbers": "strict",
          "coloraxis": {
           "colorbar": {
            "outlinewidth": 0,
            "ticks": ""
           }
          },
          "colorscale": {
           "diverging": [
            [
             0,
             "#8e0152"
            ],
            [
             0.1,
             "#c51b7d"
            ],
            [
             0.2,
             "#de77ae"
            ],
            [
             0.3,
             "#f1b6da"
            ],
            [
             0.4,
             "#fde0ef"
            ],
            [
             0.5,
             "#f7f7f7"
            ],
            [
             0.6,
             "#e6f5d0"
            ],
            [
             0.7,
             "#b8e186"
            ],
            [
             0.8,
             "#7fbc41"
            ],
            [
             0.9,
             "#4d9221"
            ],
            [
             1,
             "#276419"
            ]
           ],
           "sequential": [
            [
             0,
             "#0d0887"
            ],
            [
             0.1111111111111111,
             "#46039f"
            ],
            [
             0.2222222222222222,
             "#7201a8"
            ],
            [
             0.3333333333333333,
             "#9c179e"
            ],
            [
             0.4444444444444444,
             "#bd3786"
            ],
            [
             0.5555555555555556,
             "#d8576b"
            ],
            [
             0.6666666666666666,
             "#ed7953"
            ],
            [
             0.7777777777777778,
             "#fb9f3a"
            ],
            [
             0.8888888888888888,
             "#fdca26"
            ],
            [
             1,
             "#f0f921"
            ]
           ],
           "sequentialminus": [
            [
             0,
             "#0d0887"
            ],
            [
             0.1111111111111111,
             "#46039f"
            ],
            [
             0.2222222222222222,
             "#7201a8"
            ],
            [
             0.3333333333333333,
             "#9c179e"
            ],
            [
             0.4444444444444444,
             "#bd3786"
            ],
            [
             0.5555555555555556,
             "#d8576b"
            ],
            [
             0.6666666666666666,
             "#ed7953"
            ],
            [
             0.7777777777777778,
             "#fb9f3a"
            ],
            [
             0.8888888888888888,
             "#fdca26"
            ],
            [
             1,
             "#f0f921"
            ]
           ]
          },
          "colorway": [
           "#636efa",
           "#EF553B",
           "#00cc96",
           "#ab63fa",
           "#FFA15A",
           "#19d3f3",
           "#FF6692",
           "#B6E880",
           "#FF97FF",
           "#FECB52"
          ],
          "font": {
           "color": "#2a3f5f"
          },
          "geo": {
           "bgcolor": "white",
           "lakecolor": "white",
           "landcolor": "#E5ECF6",
           "showlakes": true,
           "showland": true,
           "subunitcolor": "white"
          },
          "hoverlabel": {
           "align": "left"
          },
          "hovermode": "closest",
          "mapbox": {
           "style": "light"
          },
          "paper_bgcolor": "white",
          "plot_bgcolor": "#E5ECF6",
          "polar": {
           "angularaxis": {
            "gridcolor": "white",
            "linecolor": "white",
            "ticks": ""
           },
           "bgcolor": "#E5ECF6",
           "radialaxis": {
            "gridcolor": "white",
            "linecolor": "white",
            "ticks": ""
           }
          },
          "scene": {
           "xaxis": {
            "backgroundcolor": "#E5ECF6",
            "gridcolor": "white",
            "gridwidth": 2,
            "linecolor": "white",
            "showbackground": true,
            "ticks": "",
            "zerolinecolor": "white"
           },
           "yaxis": {
            "backgroundcolor": "#E5ECF6",
            "gridcolor": "white",
            "gridwidth": 2,
            "linecolor": "white",
            "showbackground": true,
            "ticks": "",
            "zerolinecolor": "white"
           },
           "zaxis": {
            "backgroundcolor": "#E5ECF6",
            "gridcolor": "white",
            "gridwidth": 2,
            "linecolor": "white",
            "showbackground": true,
            "ticks": "",
            "zerolinecolor": "white"
           }
          },
          "shapedefaults": {
           "line": {
            "color": "#2a3f5f"
           }
          },
          "ternary": {
           "aaxis": {
            "gridcolor": "white",
            "linecolor": "white",
            "ticks": ""
           },
           "baxis": {
            "gridcolor": "white",
            "linecolor": "white",
            "ticks": ""
           },
           "bgcolor": "#E5ECF6",
           "caxis": {
            "gridcolor": "white",
            "linecolor": "white",
            "ticks": ""
           }
          },
          "title": {
           "x": 0.05
          },
          "xaxis": {
           "automargin": true,
           "gridcolor": "white",
           "linecolor": "white",
           "ticks": "",
           "title": {
            "standoff": 15
           },
           "zerolinecolor": "white",
           "zerolinewidth": 2
          },
          "yaxis": {
           "automargin": true,
           "gridcolor": "white",
           "linecolor": "white",
           "ticks": "",
           "title": {
            "standoff": 15
           },
           "zerolinecolor": "white",
           "zerolinewidth": 2
          }
         }
        },
        "title": {
         "text": "BAKE/USDT Binance Chart"
        }
       }
      }
     },
     "metadata": {},
     "output_type": "display_data"
    }
   ],
   "source": [
    "Binance_Ohlc_Chart(7)"
   ]
  },
  {
   "cell_type": "code",
   "execution_count": 156,
   "metadata": {},
   "outputs": [
    {
     "name": "stdout",
     "output_type": "stream",
     "text": [
      "100000 CTSI/USDT candles in total from 2021-09-16T18:12:00.000Z to 2021-11-25T04:51:00.000Z\n",
      "200000 CTSI/USDT candles in total from 2021-07-09T07:32:00.000Z to 2021-11-25T04:51:00.000Z\n",
      "300000 CTSI/USDT candles in total from 2021-04-30T20:52:00.000Z to 2021-11-25T04:51:00.000Z\n",
      "400000 CTSI/USDT candles in total from 2021-02-20T11:25:00.000Z to 2021-11-25T04:51:00.000Z\n",
      "500000 CTSI/USDT candles in total from 2020-12-13T00:45:00.000Z to 2021-11-25T04:51:00.000Z\n",
      "600000 CTSI/USDT candles in total from 2020-10-04T14:05:00.000Z to 2021-11-25T04:51:00.000Z\n",
      "700000 CTSI/USDT candles in total from 2020-07-27T03:25:00.000Z to 2021-11-25T04:51:00.000Z\n",
      "800000 CTSI/USDT candles in total from 2020-05-18T16:45:00.000Z to 2021-11-25T04:51:00.000Z\n"
     ]
    },
    {
     "data": {
      "application/vnd.plotly.v1+json": {
       "config": {
        "plotlyServerURL": "https://plot.ly"
       },
       "data": [
        {
         "close": [
          0.69919,
          0.69817,
          0.69899,
          0.69818,
          0.69832,
          0.69832,
          0.69832,
          0.69802,
          0.6981,
          0.6991,
          0.69848,
          0.69948,
          0.70061,
          0.7,
          0.69999,
          0.70108,
          0.69986,
          0.69989,
          0.69989,
          0.7005,
          0.70061,
          0.70055,
          0.70097,
          0.70043,
          0.70031,
          0.70218,
          0.70201,
          0.70002,
          0.701,
          0.70172,
          0.70172,
          0.70169,
          0.69989,
          0.69942,
          0.69942,
          0.69834,
          0.69849,
          0.69849,
          0.69878,
          0.70066,
          0.70066,
          0.69911,
          0.69777,
          0.69881,
          0.69954,
          0.69835,
          0.69835,
          0.69835,
          0.69788,
          0.6984,
          0.69842,
          0.70162,
          0.70152,
          0.70116,
          0.70033,
          0.70115,
          0.70332,
          0.70215,
          0.70187,
          0.7004,
          0.70129,
          0.70063,
          0.70067,
          0.70063,
          0.70129,
          0.70119,
          0.7001,
          0.70035,
          0.69965,
          0.69821,
          0.70086,
          0.70229,
          0.70279,
          0.70298,
          0.70104,
          0.70183,
          0.70103,
          0.70212,
          0.70108,
          0.7021,
          0.70122,
          0.70114,
          0.70056,
          0.70115,
          0.7011,
          0.7005,
          0.6999,
          0.69999,
          0.70023,
          0.702
         ],
         "high": [
          0.69919,
          0.69919,
          0.69899,
          0.699,
          0.69832,
          0.69832,
          0.69832,
          0.6984,
          0.69811,
          0.6991,
          0.6991,
          0.69948,
          0.70061,
          0.70218,
          0.70168,
          0.70108,
          0.70024,
          0.69989,
          0.69989,
          0.70054,
          0.70061,
          0.70094,
          0.70108,
          0.70098,
          0.70045,
          0.70218,
          0.70201,
          0.70185,
          0.701,
          0.70172,
          0.70172,
          0.70169,
          0.70169,
          0.69981,
          0.69942,
          0.69942,
          0.699,
          0.69849,
          0.70037,
          0.70066,
          0.70066,
          0.70146,
          0.69922,
          0.69976,
          0.69954,
          0.69945,
          0.69835,
          0.69835,
          0.69788,
          0.6989,
          0.69952,
          0.70162,
          0.70162,
          0.70152,
          0.7011,
          0.70116,
          0.70332,
          0.70261,
          0.70214,
          0.7013,
          0.70129,
          0.70129,
          0.7017,
          0.70116,
          0.70129,
          0.70119,
          0.70107,
          0.70105,
          0.70035,
          0.69958,
          0.70096,
          0.70229,
          0.70322,
          0.70474,
          0.70222,
          0.70183,
          0.70193,
          0.70248,
          0.70113,
          0.7021,
          0.70211,
          0.70191,
          0.70139,
          0.70115,
          0.7017,
          0.70114,
          0.70051,
          0.70027,
          0.70023,
          0.702
         ],
         "low": [
          0.69919,
          0.69817,
          0.69816,
          0.69801,
          0.69832,
          0.69832,
          0.69832,
          0.69802,
          0.6981,
          0.69908,
          0.69848,
          0.6991,
          0.6999,
          0.69806,
          0.69887,
          0.69903,
          0.69985,
          0.69989,
          0.69989,
          0.69992,
          0.69992,
          0.70002,
          0.70097,
          0.70011,
          0.69995,
          0.69999,
          0.70136,
          0.70002,
          0.701,
          0.70092,
          0.70093,
          0.70169,
          0.69989,
          0.69942,
          0.69938,
          0.69834,
          0.69802,
          0.69849,
          0.69849,
          0.69994,
          0.70066,
          0.69796,
          0.69777,
          0.69794,
          0.69953,
          0.69835,
          0.69835,
          0.69835,
          0.69788,
          0.69827,
          0.69842,
          0.69986,
          0.70152,
          0.70114,
          0.70033,
          0.7009,
          0.70115,
          0.70198,
          0.70094,
          0.7004,
          0.70031,
          0.70063,
          0.70067,
          0.70063,
          0.70103,
          0.70067,
          0.70009,
          0.7001,
          0.69965,
          0.69821,
          0.69956,
          0.70011,
          0.70206,
          0.70154,
          0.70104,
          0.70028,
          0.70102,
          0.70103,
          0.70102,
          0.70108,
          0.70122,
          0.70113,
          0.70056,
          0.70078,
          0.7011,
          0.7005,
          0.69986,
          0.69999,
          0.69923,
          0.70079
         ],
         "open": [
          0.69919,
          0.69919,
          0.69816,
          0.699,
          0.69832,
          0.69832,
          0.69832,
          0.69832,
          0.69811,
          0.69908,
          0.6991,
          0.6991,
          0.6999,
          0.70105,
          0.6999,
          0.69904,
          0.70004,
          0.69989,
          0.69989,
          0.69995,
          0.69993,
          0.70084,
          0.70097,
          0.70098,
          0.70045,
          0.69999,
          0.70137,
          0.70185,
          0.701,
          0.70121,
          0.70159,
          0.70169,
          0.70169,
          0.69981,
          0.69938,
          0.69938,
          0.69889,
          0.69849,
          0.69849,
          0.69994,
          0.70066,
          0.70146,
          0.69922,
          0.69794,
          0.69953,
          0.69941,
          0.69835,
          0.69835,
          0.69788,
          0.69879,
          0.69951,
          0.69986,
          0.70162,
          0.70152,
          0.7011,
          0.7009,
          0.70115,
          0.70261,
          0.70094,
          0.7013,
          0.70031,
          0.70129,
          0.70115,
          0.70116,
          0.70103,
          0.70119,
          0.70063,
          0.7001,
          0.70034,
          0.69958,
          0.69956,
          0.70011,
          0.70236,
          0.70279,
          0.70155,
          0.70113,
          0.70193,
          0.70127,
          0.70113,
          0.70108,
          0.70198,
          0.70122,
          0.70114,
          0.70078,
          0.7017,
          0.70095,
          0.70049,
          0.70027,
          0.69971,
          0.70079
         ],
         "type": "candlestick",
         "x": [
          "2021-06-07 13:50:00",
          "2021-06-07 13:51:00",
          "2021-06-07 13:52:00",
          "2021-06-07 13:53:00",
          "2021-06-07 13:54:00",
          "2021-06-07 13:55:00",
          "2021-06-07 13:56:00",
          "2021-06-07 13:57:00",
          "2021-06-07 13:58:00",
          "2021-06-07 13:59:00",
          "2021-06-07 14:00:00",
          "2021-06-07 14:01:00",
          "2021-06-07 14:02:00",
          "2021-06-07 14:03:00",
          "2021-06-07 14:04:00",
          "2021-06-07 14:05:00",
          "2021-06-07 14:06:00",
          "2021-06-07 14:07:00",
          "2021-06-07 14:08:00",
          "2021-06-07 14:09:00",
          "2021-06-07 14:10:00",
          "2021-06-07 14:11:00",
          "2021-06-07 14:12:00",
          "2021-06-07 14:13:00",
          "2021-06-07 14:14:00",
          "2021-06-07 14:15:00",
          "2021-06-07 14:16:00",
          "2021-06-07 14:17:00",
          "2021-06-07 14:18:00",
          "2021-06-07 14:19:00",
          "2021-06-07 14:20:00",
          "2021-06-07 14:21:00",
          "2021-06-07 14:22:00",
          "2021-06-07 14:23:00",
          "2021-06-07 14:24:00",
          "2021-06-07 14:25:00",
          "2021-06-07 14:26:00",
          "2021-06-07 14:27:00",
          "2021-06-07 14:28:00",
          "2021-06-07 14:29:00",
          "2021-06-07 14:30:00",
          "2021-06-07 14:31:00",
          "2021-06-07 14:32:00",
          "2021-06-07 14:33:00",
          "2021-06-07 14:34:00",
          "2021-06-07 14:35:00",
          "2021-06-07 14:36:00",
          "2021-06-07 14:37:00",
          "2021-06-07 14:38:00",
          "2021-06-07 14:39:00",
          "2021-06-07 14:40:00",
          "2021-06-07 14:41:00",
          "2021-06-07 14:42:00",
          "2021-06-07 14:43:00",
          "2021-06-07 14:44:00",
          "2021-06-07 14:45:00",
          "2021-06-07 14:46:00",
          "2021-06-07 14:47:00",
          "2021-06-07 14:48:00",
          "2021-06-07 14:49:00",
          "2021-06-07 14:50:00",
          "2021-06-07 14:51:00",
          "2021-06-07 14:52:00",
          "2021-06-07 14:53:00",
          "2021-06-07 14:54:00",
          "2021-06-07 14:55:00",
          "2021-06-07 14:56:00",
          "2021-06-07 14:57:00",
          "2021-06-07 14:58:00",
          "2021-06-07 14:59:00",
          "2021-06-07 15:00:00",
          "2021-06-07 15:01:00",
          "2021-06-07 15:02:00",
          "2021-06-07 15:03:00",
          "2021-06-07 15:04:00",
          "2021-06-07 15:05:00",
          "2021-06-07 15:06:00",
          "2021-06-07 15:07:00",
          "2021-06-07 15:08:00",
          "2021-06-07 15:09:00",
          "2021-06-07 15:10:00",
          "2021-06-07 15:11:00",
          "2021-06-07 15:12:00",
          "2021-06-07 15:13:00",
          "2021-06-07 15:14:00",
          "2021-06-07 15:15:00",
          "2021-06-07 15:16:00",
          "2021-06-07 15:17:00",
          "2021-06-07 15:18:00",
          "2021-06-07 15:19:00"
         ]
        }
       ],
       "layout": {
        "shapes": [
         {
          "x0": "2021-06-07 14:20:00",
          "x1": "2021-06-07 14:20:00",
          "y0": 0.6838145999999999,
          "y1": 0.7118376
         }
        ],
        "template": {
         "data": {
          "bar": [
           {
            "error_x": {
             "color": "#2a3f5f"
            },
            "error_y": {
             "color": "#2a3f5f"
            },
            "marker": {
             "line": {
              "color": "#E5ECF6",
              "width": 0.5
             },
             "pattern": {
              "fillmode": "overlay",
              "size": 10,
              "solidity": 0.2
             }
            },
            "type": "bar"
           }
          ],
          "barpolar": [
           {
            "marker": {
             "line": {
              "color": "#E5ECF6",
              "width": 0.5
             },
             "pattern": {
              "fillmode": "overlay",
              "size": 10,
              "solidity": 0.2
             }
            },
            "type": "barpolar"
           }
          ],
          "carpet": [
           {
            "aaxis": {
             "endlinecolor": "#2a3f5f",
             "gridcolor": "white",
             "linecolor": "white",
             "minorgridcolor": "white",
             "startlinecolor": "#2a3f5f"
            },
            "baxis": {
             "endlinecolor": "#2a3f5f",
             "gridcolor": "white",
             "linecolor": "white",
             "minorgridcolor": "white",
             "startlinecolor": "#2a3f5f"
            },
            "type": "carpet"
           }
          ],
          "choropleth": [
           {
            "colorbar": {
             "outlinewidth": 0,
             "ticks": ""
            },
            "type": "choropleth"
           }
          ],
          "contour": [
           {
            "colorbar": {
             "outlinewidth": 0,
             "ticks": ""
            },
            "colorscale": [
             [
              0,
              "#0d0887"
             ],
             [
              0.1111111111111111,
              "#46039f"
             ],
             [
              0.2222222222222222,
              "#7201a8"
             ],
             [
              0.3333333333333333,
              "#9c179e"
             ],
             [
              0.4444444444444444,
              "#bd3786"
             ],
             [
              0.5555555555555556,
              "#d8576b"
             ],
             [
              0.6666666666666666,
              "#ed7953"
             ],
             [
              0.7777777777777778,
              "#fb9f3a"
             ],
             [
              0.8888888888888888,
              "#fdca26"
             ],
             [
              1,
              "#f0f921"
             ]
            ],
            "type": "contour"
           }
          ],
          "contourcarpet": [
           {
            "colorbar": {
             "outlinewidth": 0,
             "ticks": ""
            },
            "type": "contourcarpet"
           }
          ],
          "heatmap": [
           {
            "colorbar": {
             "outlinewidth": 0,
             "ticks": ""
            },
            "colorscale": [
             [
              0,
              "#0d0887"
             ],
             [
              0.1111111111111111,
              "#46039f"
             ],
             [
              0.2222222222222222,
              "#7201a8"
             ],
             [
              0.3333333333333333,
              "#9c179e"
             ],
             [
              0.4444444444444444,
              "#bd3786"
             ],
             [
              0.5555555555555556,
              "#d8576b"
             ],
             [
              0.6666666666666666,
              "#ed7953"
             ],
             [
              0.7777777777777778,
              "#fb9f3a"
             ],
             [
              0.8888888888888888,
              "#fdca26"
             ],
             [
              1,
              "#f0f921"
             ]
            ],
            "type": "heatmap"
           }
          ],
          "heatmapgl": [
           {
            "colorbar": {
             "outlinewidth": 0,
             "ticks": ""
            },
            "colorscale": [
             [
              0,
              "#0d0887"
             ],
             [
              0.1111111111111111,
              "#46039f"
             ],
             [
              0.2222222222222222,
              "#7201a8"
             ],
             [
              0.3333333333333333,
              "#9c179e"
             ],
             [
              0.4444444444444444,
              "#bd3786"
             ],
             [
              0.5555555555555556,
              "#d8576b"
             ],
             [
              0.6666666666666666,
              "#ed7953"
             ],
             [
              0.7777777777777778,
              "#fb9f3a"
             ],
             [
              0.8888888888888888,
              "#fdca26"
             ],
             [
              1,
              "#f0f921"
             ]
            ],
            "type": "heatmapgl"
           }
          ],
          "histogram": [
           {
            "marker": {
             "pattern": {
              "fillmode": "overlay",
              "size": 10,
              "solidity": 0.2
             }
            },
            "type": "histogram"
           }
          ],
          "histogram2d": [
           {
            "colorbar": {
             "outlinewidth": 0,
             "ticks": ""
            },
            "colorscale": [
             [
              0,
              "#0d0887"
             ],
             [
              0.1111111111111111,
              "#46039f"
             ],
             [
              0.2222222222222222,
              "#7201a8"
             ],
             [
              0.3333333333333333,
              "#9c179e"
             ],
             [
              0.4444444444444444,
              "#bd3786"
             ],
             [
              0.5555555555555556,
              "#d8576b"
             ],
             [
              0.6666666666666666,
              "#ed7953"
             ],
             [
              0.7777777777777778,
              "#fb9f3a"
             ],
             [
              0.8888888888888888,
              "#fdca26"
             ],
             [
              1,
              "#f0f921"
             ]
            ],
            "type": "histogram2d"
           }
          ],
          "histogram2dcontour": [
           {
            "colorbar": {
             "outlinewidth": 0,
             "ticks": ""
            },
            "colorscale": [
             [
              0,
              "#0d0887"
             ],
             [
              0.1111111111111111,
              "#46039f"
             ],
             [
              0.2222222222222222,
              "#7201a8"
             ],
             [
              0.3333333333333333,
              "#9c179e"
             ],
             [
              0.4444444444444444,
              "#bd3786"
             ],
             [
              0.5555555555555556,
              "#d8576b"
             ],
             [
              0.6666666666666666,
              "#ed7953"
             ],
             [
              0.7777777777777778,
              "#fb9f3a"
             ],
             [
              0.8888888888888888,
              "#fdca26"
             ],
             [
              1,
              "#f0f921"
             ]
            ],
            "type": "histogram2dcontour"
           }
          ],
          "mesh3d": [
           {
            "colorbar": {
             "outlinewidth": 0,
             "ticks": ""
            },
            "type": "mesh3d"
           }
          ],
          "parcoords": [
           {
            "line": {
             "colorbar": {
              "outlinewidth": 0,
              "ticks": ""
             }
            },
            "type": "parcoords"
           }
          ],
          "pie": [
           {
            "automargin": true,
            "type": "pie"
           }
          ],
          "scatter": [
           {
            "marker": {
             "colorbar": {
              "outlinewidth": 0,
              "ticks": ""
             }
            },
            "type": "scatter"
           }
          ],
          "scatter3d": [
           {
            "line": {
             "colorbar": {
              "outlinewidth": 0,
              "ticks": ""
             }
            },
            "marker": {
             "colorbar": {
              "outlinewidth": 0,
              "ticks": ""
             }
            },
            "type": "scatter3d"
           }
          ],
          "scattercarpet": [
           {
            "marker": {
             "colorbar": {
              "outlinewidth": 0,
              "ticks": ""
             }
            },
            "type": "scattercarpet"
           }
          ],
          "scattergeo": [
           {
            "marker": {
             "colorbar": {
              "outlinewidth": 0,
              "ticks": ""
             }
            },
            "type": "scattergeo"
           }
          ],
          "scattergl": [
           {
            "marker": {
             "colorbar": {
              "outlinewidth": 0,
              "ticks": ""
             }
            },
            "type": "scattergl"
           }
          ],
          "scattermapbox": [
           {
            "marker": {
             "colorbar": {
              "outlinewidth": 0,
              "ticks": ""
             }
            },
            "type": "scattermapbox"
           }
          ],
          "scatterpolar": [
           {
            "marker": {
             "colorbar": {
              "outlinewidth": 0,
              "ticks": ""
             }
            },
            "type": "scatterpolar"
           }
          ],
          "scatterpolargl": [
           {
            "marker": {
             "colorbar": {
              "outlinewidth": 0,
              "ticks": ""
             }
            },
            "type": "scatterpolargl"
           }
          ],
          "scatterternary": [
           {
            "marker": {
             "colorbar": {
              "outlinewidth": 0,
              "ticks": ""
             }
            },
            "type": "scatterternary"
           }
          ],
          "surface": [
           {
            "colorbar": {
             "outlinewidth": 0,
             "ticks": ""
            },
            "colorscale": [
             [
              0,
              "#0d0887"
             ],
             [
              0.1111111111111111,
              "#46039f"
             ],
             [
              0.2222222222222222,
              "#7201a8"
             ],
             [
              0.3333333333333333,
              "#9c179e"
             ],
             [
              0.4444444444444444,
              "#bd3786"
             ],
             [
              0.5555555555555556,
              "#d8576b"
             ],
             [
              0.6666666666666666,
              "#ed7953"
             ],
             [
              0.7777777777777778,
              "#fb9f3a"
             ],
             [
              0.8888888888888888,
              "#fdca26"
             ],
             [
              1,
              "#f0f921"
             ]
            ],
            "type": "surface"
           }
          ],
          "table": [
           {
            "cells": {
             "fill": {
              "color": "#EBF0F8"
             },
             "line": {
              "color": "white"
             }
            },
            "header": {
             "fill": {
              "color": "#C8D4E3"
             },
             "line": {
              "color": "white"
             }
            },
            "type": "table"
           }
          ]
         },
         "layout": {
          "annotationdefaults": {
           "arrowcolor": "#2a3f5f",
           "arrowhead": 0,
           "arrowwidth": 1
          },
          "autotypenumbers": "strict",
          "coloraxis": {
           "colorbar": {
            "outlinewidth": 0,
            "ticks": ""
           }
          },
          "colorscale": {
           "diverging": [
            [
             0,
             "#8e0152"
            ],
            [
             0.1,
             "#c51b7d"
            ],
            [
             0.2,
             "#de77ae"
            ],
            [
             0.3,
             "#f1b6da"
            ],
            [
             0.4,
             "#fde0ef"
            ],
            [
             0.5,
             "#f7f7f7"
            ],
            [
             0.6,
             "#e6f5d0"
            ],
            [
             0.7,
             "#b8e186"
            ],
            [
             0.8,
             "#7fbc41"
            ],
            [
             0.9,
             "#4d9221"
            ],
            [
             1,
             "#276419"
            ]
           ],
           "sequential": [
            [
             0,
             "#0d0887"
            ],
            [
             0.1111111111111111,
             "#46039f"
            ],
            [
             0.2222222222222222,
             "#7201a8"
            ],
            [
             0.3333333333333333,
             "#9c179e"
            ],
            [
             0.4444444444444444,
             "#bd3786"
            ],
            [
             0.5555555555555556,
             "#d8576b"
            ],
            [
             0.6666666666666666,
             "#ed7953"
            ],
            [
             0.7777777777777778,
             "#fb9f3a"
            ],
            [
             0.8888888888888888,
             "#fdca26"
            ],
            [
             1,
             "#f0f921"
            ]
           ],
           "sequentialminus": [
            [
             0,
             "#0d0887"
            ],
            [
             0.1111111111111111,
             "#46039f"
            ],
            [
             0.2222222222222222,
             "#7201a8"
            ],
            [
             0.3333333333333333,
             "#9c179e"
            ],
            [
             0.4444444444444444,
             "#bd3786"
            ],
            [
             0.5555555555555556,
             "#d8576b"
            ],
            [
             0.6666666666666666,
             "#ed7953"
            ],
            [
             0.7777777777777778,
             "#fb9f3a"
            ],
            [
             0.8888888888888888,
             "#fdca26"
            ],
            [
             1,
             "#f0f921"
            ]
           ]
          },
          "colorway": [
           "#636efa",
           "#EF553B",
           "#00cc96",
           "#ab63fa",
           "#FFA15A",
           "#19d3f3",
           "#FF6692",
           "#B6E880",
           "#FF97FF",
           "#FECB52"
          ],
          "font": {
           "color": "#2a3f5f"
          },
          "geo": {
           "bgcolor": "white",
           "lakecolor": "white",
           "landcolor": "#E5ECF6",
           "showlakes": true,
           "showland": true,
           "subunitcolor": "white"
          },
          "hoverlabel": {
           "align": "left"
          },
          "hovermode": "closest",
          "mapbox": {
           "style": "light"
          },
          "paper_bgcolor": "white",
          "plot_bgcolor": "#E5ECF6",
          "polar": {
           "angularaxis": {
            "gridcolor": "white",
            "linecolor": "white",
            "ticks": ""
           },
           "bgcolor": "#E5ECF6",
           "radialaxis": {
            "gridcolor": "white",
            "linecolor": "white",
            "ticks": ""
           }
          },
          "scene": {
           "xaxis": {
            "backgroundcolor": "#E5ECF6",
            "gridcolor": "white",
            "gridwidth": 2,
            "linecolor": "white",
            "showbackground": true,
            "ticks": "",
            "zerolinecolor": "white"
           },
           "yaxis": {
            "backgroundcolor": "#E5ECF6",
            "gridcolor": "white",
            "gridwidth": 2,
            "linecolor": "white",
            "showbackground": true,
            "ticks": "",
            "zerolinecolor": "white"
           },
           "zaxis": {
            "backgroundcolor": "#E5ECF6",
            "gridcolor": "white",
            "gridwidth": 2,
            "linecolor": "white",
            "showbackground": true,
            "ticks": "",
            "zerolinecolor": "white"
           }
          },
          "shapedefaults": {
           "line": {
            "color": "#2a3f5f"
           }
          },
          "ternary": {
           "aaxis": {
            "gridcolor": "white",
            "linecolor": "white",
            "ticks": ""
           },
           "baxis": {
            "gridcolor": "white",
            "linecolor": "white",
            "ticks": ""
           },
           "bgcolor": "#E5ECF6",
           "caxis": {
            "gridcolor": "white",
            "linecolor": "white",
            "ticks": ""
           }
          },
          "title": {
           "x": 0.05
          },
          "xaxis": {
           "automargin": true,
           "gridcolor": "white",
           "linecolor": "white",
           "ticks": "",
           "title": {
            "standoff": 15
           },
           "zerolinecolor": "white",
           "zerolinewidth": 2
          },
          "yaxis": {
           "automargin": true,
           "gridcolor": "white",
           "linecolor": "white",
           "ticks": "",
           "title": {
            "standoff": 15
           },
           "zerolinecolor": "white",
           "zerolinewidth": 2
          }
         }
        },
        "title": {
         "text": "CTSI/USDT Binance Chart"
        }
       }
      }
     },
     "metadata": {},
     "output_type": "display_data"
    }
   ],
   "source": [
    "Binance_Ohlc_Chart(8)"
   ]
  },
  {
   "cell_type": "code",
   "execution_count": 157,
   "metadata": {},
   "outputs": [
    {
     "name": "stdout",
     "output_type": "stream",
     "text": [
      "100000 CAKE/USDT candles in total from 2021-09-16T18:14:00.000Z to 2021-11-25T04:53:00.000Z\n",
      "200000 CAKE/USDT candles in total from 2021-07-09T07:34:00.000Z to 2021-11-25T04:53:00.000Z\n",
      "300000 CAKE/USDT candles in total from 2021-04-30T20:54:00.000Z to 2021-11-25T04:53:00.000Z\n",
      "400000 CAKE/USDT candles in total from 2021-02-20T11:25:00.000Z to 2021-11-25T04:53:00.000Z\n"
     ]
    },
    {
     "data": {
      "application/vnd.plotly.v1+json": {
       "config": {
        "plotlyServerURL": "https://plot.ly"
       },
       "data": [
        {
         "close": [
          18.933,
          18.959,
          18.921,
          19.013,
          19,
          18.945,
          18.982,
          18.962,
          19.011,
          19.013,
          18.969,
          18.952,
          18.938,
          18.959,
          18.978,
          18.914,
          18.942,
          18.899,
          18.856,
          18.884,
          18.92,
          18.854,
          18.879,
          18.911,
          18.927,
          18.968,
          19.007,
          18.958,
          18.958,
          18.957,
          18.916,
          18.895,
          18.909,
          18.89,
          18.918,
          18.929,
          18.96,
          18.95,
          18.976,
          19.06,
          19.044,
          19.032,
          19.009,
          19.041,
          19.056,
          19.01,
          19.003,
          19.046,
          19.048,
          19.112,
          19.098,
          19.128,
          19.155,
          19.191,
          19.2,
          19.185,
          19.218,
          19.215,
          19.243,
          19.254,
          19.278,
          19.282,
          19.266,
          19.246,
          19.281,
          19.273,
          19.271,
          19.293,
          19.313,
          19.347,
          19.355,
          19.36,
          19.374,
          19.415,
          19.492,
          19.563,
          19.604,
          19.625,
          19.64,
          19.69,
          19.658,
          19.649,
          19.603,
          19.623,
          19.624,
          19.622,
          19.642,
          19.72,
          19.753,
          19.775
         ],
         "high": [
          19.062,
          19,
          18.96,
          19.013,
          19.013,
          19.007,
          18.984,
          18.997,
          19.011,
          19.013,
          19,
          18.982,
          18.953,
          18.96,
          18.988,
          18.973,
          18.949,
          18.957,
          18.911,
          18.899,
          18.923,
          18.92,
          18.879,
          18.93,
          18.927,
          18.968,
          19.012,
          19.012,
          18.984,
          18.961,
          18.963,
          18.92,
          18.909,
          18.909,
          18.92,
          18.929,
          18.96,
          18.952,
          18.99,
          19.06,
          19.064,
          19.044,
          19.025,
          19.041,
          19.056,
          19.046,
          19.025,
          19.048,
          19.06,
          19.131,
          19.126,
          19.136,
          19.155,
          19.193,
          19.2,
          19.2,
          19.22,
          19.22,
          19.257,
          19.269,
          19.287,
          19.298,
          19.297,
          19.274,
          19.298,
          19.284,
          19.295,
          19.298,
          19.318,
          19.349,
          19.363,
          19.372,
          19.378,
          19.43,
          19.498,
          19.569,
          19.62,
          19.633,
          19.662,
          19.7,
          19.701,
          19.66,
          19.655,
          19.625,
          19.625,
          19.625,
          19.7,
          19.72,
          19.798,
          19.798
         ],
         "low": [
          18.933,
          18.898,
          18.914,
          18.904,
          18.974,
          18.942,
          18.931,
          18.957,
          18.962,
          18.987,
          18.955,
          18.937,
          18.935,
          18.936,
          18.954,
          18.9,
          18.889,
          18.896,
          18.854,
          18.839,
          18.872,
          18.846,
          18.839,
          18.873,
          18.894,
          18.912,
          18.961,
          18.943,
          18.921,
          18.935,
          18.911,
          18.895,
          18.895,
          18.879,
          18.89,
          18.907,
          18.924,
          18.942,
          18.945,
          18.983,
          19.017,
          19.022,
          19,
          19.009,
          19.008,
          18.976,
          19.001,
          19.006,
          19.042,
          19.055,
          19.088,
          19.098,
          19.13,
          19.144,
          19.179,
          19.171,
          19.185,
          19.21,
          19.213,
          19.221,
          19.25,
          19.271,
          19.266,
          19.241,
          19.241,
          19.25,
          19.264,
          19.276,
          19.291,
          19.303,
          19.34,
          19.341,
          19.355,
          19.371,
          19.426,
          19.478,
          19.552,
          19.584,
          19.626,
          19.637,
          19.644,
          19.642,
          19.596,
          19.597,
          19.604,
          19.621,
          19.62,
          19.653,
          19.71,
          19.744
         ],
         "open": [
          19.062,
          18.936,
          18.956,
          18.919,
          19.013,
          19.001,
          18.945,
          18.992,
          18.966,
          19.011,
          19,
          18.982,
          18.95,
          18.942,
          18.954,
          18.973,
          18.919,
          18.927,
          18.906,
          18.854,
          18.876,
          18.92,
          18.867,
          18.884,
          18.911,
          18.912,
          18.968,
          19.005,
          18.957,
          18.957,
          18.957,
          18.911,
          18.9,
          18.909,
          18.89,
          18.913,
          18.928,
          18.95,
          18.95,
          18.99,
          19.052,
          19.044,
          19.024,
          19.014,
          19.039,
          19.046,
          19.02,
          19.006,
          19.045,
          19.06,
          19.11,
          19.1,
          19.136,
          19.154,
          19.193,
          19.192,
          19.198,
          19.217,
          19.215,
          19.234,
          19.259,
          19.282,
          19.286,
          19.272,
          19.242,
          19.282,
          19.276,
          19.277,
          19.297,
          19.313,
          19.347,
          19.355,
          19.364,
          19.371,
          19.428,
          19.49,
          19.569,
          19.604,
          19.629,
          19.637,
          19.699,
          19.659,
          19.649,
          19.603,
          19.625,
          19.622,
          19.622,
          19.653,
          19.719,
          19.761
         ],
         "type": "candlestick",
         "x": [
          "2021-06-03 11:30:00",
          "2021-06-03 11:31:00",
          "2021-06-03 11:32:00",
          "2021-06-03 11:33:00",
          "2021-06-03 11:34:00",
          "2021-06-03 11:35:00",
          "2021-06-03 11:36:00",
          "2021-06-03 11:37:00",
          "2021-06-03 11:38:00",
          "2021-06-03 11:39:00",
          "2021-06-03 11:40:00",
          "2021-06-03 11:41:00",
          "2021-06-03 11:42:00",
          "2021-06-03 11:43:00",
          "2021-06-03 11:44:00",
          "2021-06-03 11:45:00",
          "2021-06-03 11:46:00",
          "2021-06-03 11:47:00",
          "2021-06-03 11:48:00",
          "2021-06-03 11:49:00",
          "2021-06-03 11:50:00",
          "2021-06-03 11:51:00",
          "2021-06-03 11:52:00",
          "2021-06-03 11:53:00",
          "2021-06-03 11:54:00",
          "2021-06-03 11:55:00",
          "2021-06-03 11:56:00",
          "2021-06-03 11:57:00",
          "2021-06-03 11:58:00",
          "2021-06-03 11:59:00",
          "2021-06-03 12:00:00",
          "2021-06-03 12:01:00",
          "2021-06-03 12:02:00",
          "2021-06-03 12:03:00",
          "2021-06-03 12:04:00",
          "2021-06-03 12:05:00",
          "2021-06-03 12:06:00",
          "2021-06-03 12:07:00",
          "2021-06-03 12:08:00",
          "2021-06-03 12:09:00",
          "2021-06-03 12:10:00",
          "2021-06-03 12:11:00",
          "2021-06-03 12:12:00",
          "2021-06-03 12:13:00",
          "2021-06-03 12:14:00",
          "2021-06-03 12:15:00",
          "2021-06-03 12:16:00",
          "2021-06-03 12:17:00",
          "2021-06-03 12:18:00",
          "2021-06-03 12:19:00",
          "2021-06-03 12:20:00",
          "2021-06-03 12:21:00",
          "2021-06-03 12:22:00",
          "2021-06-03 12:23:00",
          "2021-06-03 12:24:00",
          "2021-06-03 12:25:00",
          "2021-06-03 12:26:00",
          "2021-06-03 12:27:00",
          "2021-06-03 12:28:00",
          "2021-06-03 12:29:00",
          "2021-06-03 12:30:00",
          "2021-06-03 12:31:00",
          "2021-06-03 12:32:00",
          "2021-06-03 12:33:00",
          "2021-06-03 12:34:00",
          "2021-06-03 12:35:00",
          "2021-06-03 12:36:00",
          "2021-06-03 12:37:00",
          "2021-06-03 12:38:00",
          "2021-06-03 12:39:00",
          "2021-06-03 12:40:00",
          "2021-06-03 12:41:00",
          "2021-06-03 12:42:00",
          "2021-06-03 12:43:00",
          "2021-06-03 12:44:00",
          "2021-06-03 12:45:00",
          "2021-06-03 12:46:00",
          "2021-06-03 12:47:00",
          "2021-06-03 12:48:00",
          "2021-06-03 12:49:00",
          "2021-06-03 12:50:00",
          "2021-06-03 12:51:00",
          "2021-06-03 12:52:00",
          "2021-06-03 12:53:00",
          "2021-06-03 12:54:00",
          "2021-06-03 12:55:00",
          "2021-06-03 12:56:00",
          "2021-06-03 12:57:00",
          "2021-06-03 12:58:00",
          "2021-06-03 12:59:00"
         ]
        }
       ],
       "layout": {
        "shapes": [
         {
          "x0": "2021-06-03 12:00:00",
          "x1": "2021-06-03 12:00:00",
          "y0": 18.46222,
          "y1": 19.256580000000003
         }
        ],
        "template": {
         "data": {
          "bar": [
           {
            "error_x": {
             "color": "#2a3f5f"
            },
            "error_y": {
             "color": "#2a3f5f"
            },
            "marker": {
             "line": {
              "color": "#E5ECF6",
              "width": 0.5
             },
             "pattern": {
              "fillmode": "overlay",
              "size": 10,
              "solidity": 0.2
             }
            },
            "type": "bar"
           }
          ],
          "barpolar": [
           {
            "marker": {
             "line": {
              "color": "#E5ECF6",
              "width": 0.5
             },
             "pattern": {
              "fillmode": "overlay",
              "size": 10,
              "solidity": 0.2
             }
            },
            "type": "barpolar"
           }
          ],
          "carpet": [
           {
            "aaxis": {
             "endlinecolor": "#2a3f5f",
             "gridcolor": "white",
             "linecolor": "white",
             "minorgridcolor": "white",
             "startlinecolor": "#2a3f5f"
            },
            "baxis": {
             "endlinecolor": "#2a3f5f",
             "gridcolor": "white",
             "linecolor": "white",
             "minorgridcolor": "white",
             "startlinecolor": "#2a3f5f"
            },
            "type": "carpet"
           }
          ],
          "choropleth": [
           {
            "colorbar": {
             "outlinewidth": 0,
             "ticks": ""
            },
            "type": "choropleth"
           }
          ],
          "contour": [
           {
            "colorbar": {
             "outlinewidth": 0,
             "ticks": ""
            },
            "colorscale": [
             [
              0,
              "#0d0887"
             ],
             [
              0.1111111111111111,
              "#46039f"
             ],
             [
              0.2222222222222222,
              "#7201a8"
             ],
             [
              0.3333333333333333,
              "#9c179e"
             ],
             [
              0.4444444444444444,
              "#bd3786"
             ],
             [
              0.5555555555555556,
              "#d8576b"
             ],
             [
              0.6666666666666666,
              "#ed7953"
             ],
             [
              0.7777777777777778,
              "#fb9f3a"
             ],
             [
              0.8888888888888888,
              "#fdca26"
             ],
             [
              1,
              "#f0f921"
             ]
            ],
            "type": "contour"
           }
          ],
          "contourcarpet": [
           {
            "colorbar": {
             "outlinewidth": 0,
             "ticks": ""
            },
            "type": "contourcarpet"
           }
          ],
          "heatmap": [
           {
            "colorbar": {
             "outlinewidth": 0,
             "ticks": ""
            },
            "colorscale": [
             [
              0,
              "#0d0887"
             ],
             [
              0.1111111111111111,
              "#46039f"
             ],
             [
              0.2222222222222222,
              "#7201a8"
             ],
             [
              0.3333333333333333,
              "#9c179e"
             ],
             [
              0.4444444444444444,
              "#bd3786"
             ],
             [
              0.5555555555555556,
              "#d8576b"
             ],
             [
              0.6666666666666666,
              "#ed7953"
             ],
             [
              0.7777777777777778,
              "#fb9f3a"
             ],
             [
              0.8888888888888888,
              "#fdca26"
             ],
             [
              1,
              "#f0f921"
             ]
            ],
            "type": "heatmap"
           }
          ],
          "heatmapgl": [
           {
            "colorbar": {
             "outlinewidth": 0,
             "ticks": ""
            },
            "colorscale": [
             [
              0,
              "#0d0887"
             ],
             [
              0.1111111111111111,
              "#46039f"
             ],
             [
              0.2222222222222222,
              "#7201a8"
             ],
             [
              0.3333333333333333,
              "#9c179e"
             ],
             [
              0.4444444444444444,
              "#bd3786"
             ],
             [
              0.5555555555555556,
              "#d8576b"
             ],
             [
              0.6666666666666666,
              "#ed7953"
             ],
             [
              0.7777777777777778,
              "#fb9f3a"
             ],
             [
              0.8888888888888888,
              "#fdca26"
             ],
             [
              1,
              "#f0f921"
             ]
            ],
            "type": "heatmapgl"
           }
          ],
          "histogram": [
           {
            "marker": {
             "pattern": {
              "fillmode": "overlay",
              "size": 10,
              "solidity": 0.2
             }
            },
            "type": "histogram"
           }
          ],
          "histogram2d": [
           {
            "colorbar": {
             "outlinewidth": 0,
             "ticks": ""
            },
            "colorscale": [
             [
              0,
              "#0d0887"
             ],
             [
              0.1111111111111111,
              "#46039f"
             ],
             [
              0.2222222222222222,
              "#7201a8"
             ],
             [
              0.3333333333333333,
              "#9c179e"
             ],
             [
              0.4444444444444444,
              "#bd3786"
             ],
             [
              0.5555555555555556,
              "#d8576b"
             ],
             [
              0.6666666666666666,
              "#ed7953"
             ],
             [
              0.7777777777777778,
              "#fb9f3a"
             ],
             [
              0.8888888888888888,
              "#fdca26"
             ],
             [
              1,
              "#f0f921"
             ]
            ],
            "type": "histogram2d"
           }
          ],
          "histogram2dcontour": [
           {
            "colorbar": {
             "outlinewidth": 0,
             "ticks": ""
            },
            "colorscale": [
             [
              0,
              "#0d0887"
             ],
             [
              0.1111111111111111,
              "#46039f"
             ],
             [
              0.2222222222222222,
              "#7201a8"
             ],
             [
              0.3333333333333333,
              "#9c179e"
             ],
             [
              0.4444444444444444,
              "#bd3786"
             ],
             [
              0.5555555555555556,
              "#d8576b"
             ],
             [
              0.6666666666666666,
              "#ed7953"
             ],
             [
              0.7777777777777778,
              "#fb9f3a"
             ],
             [
              0.8888888888888888,
              "#fdca26"
             ],
             [
              1,
              "#f0f921"
             ]
            ],
            "type": "histogram2dcontour"
           }
          ],
          "mesh3d": [
           {
            "colorbar": {
             "outlinewidth": 0,
             "ticks": ""
            },
            "type": "mesh3d"
           }
          ],
          "parcoords": [
           {
            "line": {
             "colorbar": {
              "outlinewidth": 0,
              "ticks": ""
             }
            },
            "type": "parcoords"
           }
          ],
          "pie": [
           {
            "automargin": true,
            "type": "pie"
           }
          ],
          "scatter": [
           {
            "marker": {
             "colorbar": {
              "outlinewidth": 0,
              "ticks": ""
             }
            },
            "type": "scatter"
           }
          ],
          "scatter3d": [
           {
            "line": {
             "colorbar": {
              "outlinewidth": 0,
              "ticks": ""
             }
            },
            "marker": {
             "colorbar": {
              "outlinewidth": 0,
              "ticks": ""
             }
            },
            "type": "scatter3d"
           }
          ],
          "scattercarpet": [
           {
            "marker": {
             "colorbar": {
              "outlinewidth": 0,
              "ticks": ""
             }
            },
            "type": "scattercarpet"
           }
          ],
          "scattergeo": [
           {
            "marker": {
             "colorbar": {
              "outlinewidth": 0,
              "ticks": ""
             }
            },
            "type": "scattergeo"
           }
          ],
          "scattergl": [
           {
            "marker": {
             "colorbar": {
              "outlinewidth": 0,
              "ticks": ""
             }
            },
            "type": "scattergl"
           }
          ],
          "scattermapbox": [
           {
            "marker": {
             "colorbar": {
              "outlinewidth": 0,
              "ticks": ""
             }
            },
            "type": "scattermapbox"
           }
          ],
          "scatterpolar": [
           {
            "marker": {
             "colorbar": {
              "outlinewidth": 0,
              "ticks": ""
             }
            },
            "type": "scatterpolar"
           }
          ],
          "scatterpolargl": [
           {
            "marker": {
             "colorbar": {
              "outlinewidth": 0,
              "ticks": ""
             }
            },
            "type": "scatterpolargl"
           }
          ],
          "scatterternary": [
           {
            "marker": {
             "colorbar": {
              "outlinewidth": 0,
              "ticks": ""
             }
            },
            "type": "scatterternary"
           }
          ],
          "surface": [
           {
            "colorbar": {
             "outlinewidth": 0,
             "ticks": ""
            },
            "colorscale": [
             [
              0,
              "#0d0887"
             ],
             [
              0.1111111111111111,
              "#46039f"
             ],
             [
              0.2222222222222222,
              "#7201a8"
             ],
             [
              0.3333333333333333,
              "#9c179e"
             ],
             [
              0.4444444444444444,
              "#bd3786"
             ],
             [
              0.5555555555555556,
              "#d8576b"
             ],
             [
              0.6666666666666666,
              "#ed7953"
             ],
             [
              0.7777777777777778,
              "#fb9f3a"
             ],
             [
              0.8888888888888888,
              "#fdca26"
             ],
             [
              1,
              "#f0f921"
             ]
            ],
            "type": "surface"
           }
          ],
          "table": [
           {
            "cells": {
             "fill": {
              "color": "#EBF0F8"
             },
             "line": {
              "color": "white"
             }
            },
            "header": {
             "fill": {
              "color": "#C8D4E3"
             },
             "line": {
              "color": "white"
             }
            },
            "type": "table"
           }
          ]
         },
         "layout": {
          "annotationdefaults": {
           "arrowcolor": "#2a3f5f",
           "arrowhead": 0,
           "arrowwidth": 1
          },
          "autotypenumbers": "strict",
          "coloraxis": {
           "colorbar": {
            "outlinewidth": 0,
            "ticks": ""
           }
          },
          "colorscale": {
           "diverging": [
            [
             0,
             "#8e0152"
            ],
            [
             0.1,
             "#c51b7d"
            ],
            [
             0.2,
             "#de77ae"
            ],
            [
             0.3,
             "#f1b6da"
            ],
            [
             0.4,
             "#fde0ef"
            ],
            [
             0.5,
             "#f7f7f7"
            ],
            [
             0.6,
             "#e6f5d0"
            ],
            [
             0.7,
             "#b8e186"
            ],
            [
             0.8,
             "#7fbc41"
            ],
            [
             0.9,
             "#4d9221"
            ],
            [
             1,
             "#276419"
            ]
           ],
           "sequential": [
            [
             0,
             "#0d0887"
            ],
            [
             0.1111111111111111,
             "#46039f"
            ],
            [
             0.2222222222222222,
             "#7201a8"
            ],
            [
             0.3333333333333333,
             "#9c179e"
            ],
            [
             0.4444444444444444,
             "#bd3786"
            ],
            [
             0.5555555555555556,
             "#d8576b"
            ],
            [
             0.6666666666666666,
             "#ed7953"
            ],
            [
             0.7777777777777778,
             "#fb9f3a"
            ],
            [
             0.8888888888888888,
             "#fdca26"
            ],
            [
             1,
             "#f0f921"
            ]
           ],
           "sequentialminus": [
            [
             0,
             "#0d0887"
            ],
            [
             0.1111111111111111,
             "#46039f"
            ],
            [
             0.2222222222222222,
             "#7201a8"
            ],
            [
             0.3333333333333333,
             "#9c179e"
            ],
            [
             0.4444444444444444,
             "#bd3786"
            ],
            [
             0.5555555555555556,
             "#d8576b"
            ],
            [
             0.6666666666666666,
             "#ed7953"
            ],
            [
             0.7777777777777778,
             "#fb9f3a"
            ],
            [
             0.8888888888888888,
             "#fdca26"
            ],
            [
             1,
             "#f0f921"
            ]
           ]
          },
          "colorway": [
           "#636efa",
           "#EF553B",
           "#00cc96",
           "#ab63fa",
           "#FFA15A",
           "#19d3f3",
           "#FF6692",
           "#B6E880",
           "#FF97FF",
           "#FECB52"
          ],
          "font": {
           "color": "#2a3f5f"
          },
          "geo": {
           "bgcolor": "white",
           "lakecolor": "white",
           "landcolor": "#E5ECF6",
           "showlakes": true,
           "showland": true,
           "subunitcolor": "white"
          },
          "hoverlabel": {
           "align": "left"
          },
          "hovermode": "closest",
          "mapbox": {
           "style": "light"
          },
          "paper_bgcolor": "white",
          "plot_bgcolor": "#E5ECF6",
          "polar": {
           "angularaxis": {
            "gridcolor": "white",
            "linecolor": "white",
            "ticks": ""
           },
           "bgcolor": "#E5ECF6",
           "radialaxis": {
            "gridcolor": "white",
            "linecolor": "white",
            "ticks": ""
           }
          },
          "scene": {
           "xaxis": {
            "backgroundcolor": "#E5ECF6",
            "gridcolor": "white",
            "gridwidth": 2,
            "linecolor": "white",
            "showbackground": true,
            "ticks": "",
            "zerolinecolor": "white"
           },
           "yaxis": {
            "backgroundcolor": "#E5ECF6",
            "gridcolor": "white",
            "gridwidth": 2,
            "linecolor": "white",
            "showbackground": true,
            "ticks": "",
            "zerolinecolor": "white"
           },
           "zaxis": {
            "backgroundcolor": "#E5ECF6",
            "gridcolor": "white",
            "gridwidth": 2,
            "linecolor": "white",
            "showbackground": true,
            "ticks": "",
            "zerolinecolor": "white"
           }
          },
          "shapedefaults": {
           "line": {
            "color": "#2a3f5f"
           }
          },
          "ternary": {
           "aaxis": {
            "gridcolor": "white",
            "linecolor": "white",
            "ticks": ""
           },
           "baxis": {
            "gridcolor": "white",
            "linecolor": "white",
            "ticks": ""
           },
           "bgcolor": "#E5ECF6",
           "caxis": {
            "gridcolor": "white",
            "linecolor": "white",
            "ticks": ""
           }
          },
          "title": {
           "x": 0.05
          },
          "xaxis": {
           "automargin": true,
           "gridcolor": "white",
           "linecolor": "white",
           "ticks": "",
           "title": {
            "standoff": 15
           },
           "zerolinecolor": "white",
           "zerolinewidth": 2
          },
          "yaxis": {
           "automargin": true,
           "gridcolor": "white",
           "linecolor": "white",
           "ticks": "",
           "title": {
            "standoff": 15
           },
           "zerolinecolor": "white",
           "zerolinewidth": 2
          }
         }
        },
        "title": {
         "text": "CAKE/USDT Binance Chart"
        }
       }
      }
     },
     "metadata": {},
     "output_type": "display_data"
    }
   ],
   "source": [
    "Binance_Ohlc_Chart(9)"
   ]
  },
  {
   "cell_type": "code",
   "execution_count": 158,
   "metadata": {},
   "outputs": [
    {
     "name": "stdout",
     "output_type": "stream",
     "text": [
      "100000 XVS/USDT candles in total from 2021-09-16T18:14:00.000Z to 2021-11-25T04:53:00.000Z\n",
      "200000 XVS/USDT candles in total from 2021-07-09T07:34:00.000Z to 2021-11-25T04:53:00.000Z\n",
      "300000 XVS/USDT candles in total from 2021-04-30T20:54:00.000Z to 2021-11-25T04:53:00.000Z\n",
      "400000 XVS/USDT candles in total from 2021-02-20T11:25:00.000Z to 2021-11-25T04:53:00.000Z\n",
      "500000 XVS/USDT candles in total from 2020-12-13T00:45:00.000Z to 2021-11-25T04:53:00.000Z\n"
     ]
    },
    {
     "data": {
      "application/vnd.plotly.v1+json": {
       "config": {
        "plotlyServerURL": "https://plot.ly"
       },
       "data": [
        {
         "close": [
          33.137,
          33.26,
          33.109,
          33.041,
          33.014,
          33.09,
          33.157,
          33.242,
          33.271,
          33.327,
          33.386,
          33.517,
          33.677,
          33.547,
          33.496,
          33.306,
          33.414,
          33.367,
          33.387,
          33.473,
          33.452,
          33.452,
          33.38,
          33.3,
          33.385,
          33.332,
          33.226,
          33.269,
          33.195,
          33.045,
          33.179,
          33.269,
          33.38,
          33.359,
          33.329,
          33.149,
          33.1,
          33.044,
          32.855,
          32.798,
          32.5,
          32.587,
          32.595,
          32.661,
          32.741,
          32.872,
          32.611,
          32.605,
          32.624,
          32.65,
          32.721,
          32.681,
          32.616,
          32.691,
          32.68,
          32.773,
          32.737,
          32.79,
          32.751,
          32.689,
          32.782,
          32.874,
          32.701,
          32.788,
          32.904,
          32.936,
          32.958,
          33,
          33.053,
          33.075,
          32.901,
          32.906,
          32.91,
          32.752,
          32.826,
          32.827,
          32.87,
          32.942,
          32.847,
          32.826,
          32.831,
          32.922,
          32.945,
          32.92,
          32.906,
          33.05,
          33.005,
          32.975,
          33.015,
          33.01
         ],
         "high": [
          33.371,
          33.28,
          33.265,
          33.144,
          33.062,
          33.197,
          33.214,
          33.242,
          33.341,
          33.329,
          33.414,
          33.551,
          33.708,
          33.686,
          33.565,
          33.5,
          33.415,
          33.447,
          33.471,
          33.473,
          33.579,
          33.544,
          33.46,
          33.39,
          33.394,
          33.398,
          33.333,
          33.35,
          33.261,
          33.13,
          33.251,
          33.333,
          33.395,
          33.44,
          33.432,
          33.347,
          33.246,
          33.153,
          33.065,
          32.927,
          32.8,
          32.675,
          32.7,
          32.677,
          32.863,
          32.919,
          32.875,
          32.666,
          32.676,
          32.653,
          32.721,
          32.742,
          32.721,
          32.78,
          32.731,
          32.798,
          32.832,
          32.831,
          32.8,
          32.786,
          32.795,
          32.941,
          32.898,
          32.819,
          32.907,
          32.987,
          32.999,
          33.043,
          33.083,
          33.13,
          33.161,
          33.006,
          32.932,
          32.917,
          32.857,
          33.071,
          32.998,
          32.97,
          32.999,
          32.887,
          32.914,
          32.922,
          32.988,
          33.1,
          32.946,
          33.05,
          33.051,
          32.996,
          33.015,
          33.015
         ],
         "low": [
          33.126,
          33.011,
          33.058,
          33.01,
          33.014,
          33.01,
          33.059,
          33.138,
          33.137,
          33.223,
          33.317,
          33.369,
          33.521,
          33.482,
          33.471,
          33.24,
          33.312,
          33.333,
          33.375,
          33.415,
          33.452,
          33.384,
          33.361,
          33.3,
          33.3,
          33.326,
          33.171,
          33.227,
          33.117,
          33,
          33.01,
          33.143,
          33.275,
          33.292,
          33.329,
          33.149,
          33.1,
          33.028,
          32.8,
          32.789,
          32.5,
          32.5,
          32.527,
          32.55,
          32.664,
          32.8,
          32.556,
          32.566,
          32.55,
          32.55,
          32.614,
          32.599,
          32.609,
          32.655,
          32.68,
          32.687,
          32.737,
          32.765,
          32.646,
          32.601,
          32.658,
          32.762,
          32.701,
          32.694,
          32.753,
          32.896,
          32.859,
          32.948,
          33.026,
          33.041,
          32.9,
          32.901,
          32.91,
          32.702,
          32.655,
          32.792,
          32.846,
          32.907,
          32.847,
          32.667,
          32.825,
          32.792,
          32.873,
          32.892,
          32.833,
          32.957,
          32.949,
          32.925,
          32.971,
          32.977
         ],
         "open": [
          33.371,
          33.126,
          33.265,
          33.133,
          33.047,
          33.017,
          33.102,
          33.142,
          33.221,
          33.257,
          33.344,
          33.392,
          33.521,
          33.677,
          33.532,
          33.498,
          33.339,
          33.377,
          33.411,
          33.448,
          33.462,
          33.488,
          33.46,
          33.383,
          33.303,
          33.385,
          33.332,
          33.227,
          33.26,
          33.13,
          33.011,
          33.149,
          33.294,
          33.381,
          33.38,
          33.347,
          33.181,
          33.152,
          33.044,
          32.814,
          32.8,
          32.5,
          32.653,
          32.653,
          32.67,
          32.8,
          32.875,
          32.65,
          32.618,
          32.595,
          32.653,
          32.727,
          32.698,
          32.655,
          32.685,
          32.687,
          32.775,
          32.765,
          32.727,
          32.786,
          32.658,
          32.795,
          32.87,
          32.706,
          32.799,
          32.907,
          32.931,
          32.969,
          33.026,
          33.049,
          33.093,
          32.901,
          32.91,
          32.917,
          32.755,
          32.841,
          32.875,
          32.913,
          32.96,
          32.887,
          32.834,
          32.838,
          32.879,
          32.916,
          32.881,
          32.957,
          33.001,
          32.996,
          32.971,
          33.015
         ],
         "type": "candlestick",
         "x": [
          "2021-06-01 10:30:00",
          "2021-06-01 10:31:00",
          "2021-06-01 10:32:00",
          "2021-06-01 10:33:00",
          "2021-06-01 10:34:00",
          "2021-06-01 10:35:00",
          "2021-06-01 10:36:00",
          "2021-06-01 10:37:00",
          "2021-06-01 10:38:00",
          "2021-06-01 10:39:00",
          "2021-06-01 10:40:00",
          "2021-06-01 10:41:00",
          "2021-06-01 10:42:00",
          "2021-06-01 10:43:00",
          "2021-06-01 10:44:00",
          "2021-06-01 10:45:00",
          "2021-06-01 10:46:00",
          "2021-06-01 10:47:00",
          "2021-06-01 10:48:00",
          "2021-06-01 10:49:00",
          "2021-06-01 10:50:00",
          "2021-06-01 10:51:00",
          "2021-06-01 10:52:00",
          "2021-06-01 10:53:00",
          "2021-06-01 10:54:00",
          "2021-06-01 10:55:00",
          "2021-06-01 10:56:00",
          "2021-06-01 10:57:00",
          "2021-06-01 10:58:00",
          "2021-06-01 10:59:00",
          "2021-06-01 11:00:00",
          "2021-06-01 11:01:00",
          "2021-06-01 11:02:00",
          "2021-06-01 11:03:00",
          "2021-06-01 11:04:00",
          "2021-06-01 11:05:00",
          "2021-06-01 11:06:00",
          "2021-06-01 11:07:00",
          "2021-06-01 11:08:00",
          "2021-06-01 11:09:00",
          "2021-06-01 11:10:00",
          "2021-06-01 11:11:00",
          "2021-06-01 11:12:00",
          "2021-06-01 11:13:00",
          "2021-06-01 11:14:00",
          "2021-06-01 11:15:00",
          "2021-06-01 11:16:00",
          "2021-06-01 11:17:00",
          "2021-06-01 11:18:00",
          "2021-06-01 11:19:00",
          "2021-06-01 11:20:00",
          "2021-06-01 11:21:00",
          "2021-06-01 11:22:00",
          "2021-06-01 11:23:00",
          "2021-06-01 11:24:00",
          "2021-06-01 11:25:00",
          "2021-06-01 11:26:00",
          "2021-06-01 11:27:00",
          "2021-06-01 11:28:00",
          "2021-06-01 11:29:00",
          "2021-06-01 11:30:00",
          "2021-06-01 11:31:00",
          "2021-06-01 11:32:00",
          "2021-06-01 11:33:00",
          "2021-06-01 11:34:00",
          "2021-06-01 11:35:00",
          "2021-06-01 11:36:00",
          "2021-06-01 11:37:00",
          "2021-06-01 11:38:00",
          "2021-06-01 11:39:00",
          "2021-06-01 11:40:00",
          "2021-06-01 11:41:00",
          "2021-06-01 11:42:00",
          "2021-06-01 11:43:00",
          "2021-06-01 11:44:00",
          "2021-06-01 11:45:00",
          "2021-06-01 11:46:00",
          "2021-06-01 11:47:00",
          "2021-06-01 11:48:00",
          "2021-06-01 11:49:00",
          "2021-06-01 11:50:00",
          "2021-06-01 11:51:00",
          "2021-06-01 11:52:00",
          "2021-06-01 11:53:00",
          "2021-06-01 11:54:00",
          "2021-06-01 11:55:00",
          "2021-06-01 11:56:00",
          "2021-06-01 11:57:00",
          "2021-06-01 11:58:00",
          "2021-06-01 11:59:00"
         ]
        }
       ],
       "layout": {
        "shapes": [
         {
          "x0": "2021-06-01 11:00:00",
          "x1": "2021-06-01 11:00:00",
          "y0": 31.849999999999998,
          "y1": 33.30606
         }
        ],
        "template": {
         "data": {
          "bar": [
           {
            "error_x": {
             "color": "#2a3f5f"
            },
            "error_y": {
             "color": "#2a3f5f"
            },
            "marker": {
             "line": {
              "color": "#E5ECF6",
              "width": 0.5
             },
             "pattern": {
              "fillmode": "overlay",
              "size": 10,
              "solidity": 0.2
             }
            },
            "type": "bar"
           }
          ],
          "barpolar": [
           {
            "marker": {
             "line": {
              "color": "#E5ECF6",
              "width": 0.5
             },
             "pattern": {
              "fillmode": "overlay",
              "size": 10,
              "solidity": 0.2
             }
            },
            "type": "barpolar"
           }
          ],
          "carpet": [
           {
            "aaxis": {
             "endlinecolor": "#2a3f5f",
             "gridcolor": "white",
             "linecolor": "white",
             "minorgridcolor": "white",
             "startlinecolor": "#2a3f5f"
            },
            "baxis": {
             "endlinecolor": "#2a3f5f",
             "gridcolor": "white",
             "linecolor": "white",
             "minorgridcolor": "white",
             "startlinecolor": "#2a3f5f"
            },
            "type": "carpet"
           }
          ],
          "choropleth": [
           {
            "colorbar": {
             "outlinewidth": 0,
             "ticks": ""
            },
            "type": "choropleth"
           }
          ],
          "contour": [
           {
            "colorbar": {
             "outlinewidth": 0,
             "ticks": ""
            },
            "colorscale": [
             [
              0,
              "#0d0887"
             ],
             [
              0.1111111111111111,
              "#46039f"
             ],
             [
              0.2222222222222222,
              "#7201a8"
             ],
             [
              0.3333333333333333,
              "#9c179e"
             ],
             [
              0.4444444444444444,
              "#bd3786"
             ],
             [
              0.5555555555555556,
              "#d8576b"
             ],
             [
              0.6666666666666666,
              "#ed7953"
             ],
             [
              0.7777777777777778,
              "#fb9f3a"
             ],
             [
              0.8888888888888888,
              "#fdca26"
             ],
             [
              1,
              "#f0f921"
             ]
            ],
            "type": "contour"
           }
          ],
          "contourcarpet": [
           {
            "colorbar": {
             "outlinewidth": 0,
             "ticks": ""
            },
            "type": "contourcarpet"
           }
          ],
          "heatmap": [
           {
            "colorbar": {
             "outlinewidth": 0,
             "ticks": ""
            },
            "colorscale": [
             [
              0,
              "#0d0887"
             ],
             [
              0.1111111111111111,
              "#46039f"
             ],
             [
              0.2222222222222222,
              "#7201a8"
             ],
             [
              0.3333333333333333,
              "#9c179e"
             ],
             [
              0.4444444444444444,
              "#bd3786"
             ],
             [
              0.5555555555555556,
              "#d8576b"
             ],
             [
              0.6666666666666666,
              "#ed7953"
             ],
             [
              0.7777777777777778,
              "#fb9f3a"
             ],
             [
              0.8888888888888888,
              "#fdca26"
             ],
             [
              1,
              "#f0f921"
             ]
            ],
            "type": "heatmap"
           }
          ],
          "heatmapgl": [
           {
            "colorbar": {
             "outlinewidth": 0,
             "ticks": ""
            },
            "colorscale": [
             [
              0,
              "#0d0887"
             ],
             [
              0.1111111111111111,
              "#46039f"
             ],
             [
              0.2222222222222222,
              "#7201a8"
             ],
             [
              0.3333333333333333,
              "#9c179e"
             ],
             [
              0.4444444444444444,
              "#bd3786"
             ],
             [
              0.5555555555555556,
              "#d8576b"
             ],
             [
              0.6666666666666666,
              "#ed7953"
             ],
             [
              0.7777777777777778,
              "#fb9f3a"
             ],
             [
              0.8888888888888888,
              "#fdca26"
             ],
             [
              1,
              "#f0f921"
             ]
            ],
            "type": "heatmapgl"
           }
          ],
          "histogram": [
           {
            "marker": {
             "pattern": {
              "fillmode": "overlay",
              "size": 10,
              "solidity": 0.2
             }
            },
            "type": "histogram"
           }
          ],
          "histogram2d": [
           {
            "colorbar": {
             "outlinewidth": 0,
             "ticks": ""
            },
            "colorscale": [
             [
              0,
              "#0d0887"
             ],
             [
              0.1111111111111111,
              "#46039f"
             ],
             [
              0.2222222222222222,
              "#7201a8"
             ],
             [
              0.3333333333333333,
              "#9c179e"
             ],
             [
              0.4444444444444444,
              "#bd3786"
             ],
             [
              0.5555555555555556,
              "#d8576b"
             ],
             [
              0.6666666666666666,
              "#ed7953"
             ],
             [
              0.7777777777777778,
              "#fb9f3a"
             ],
             [
              0.8888888888888888,
              "#fdca26"
             ],
             [
              1,
              "#f0f921"
             ]
            ],
            "type": "histogram2d"
           }
          ],
          "histogram2dcontour": [
           {
            "colorbar": {
             "outlinewidth": 0,
             "ticks": ""
            },
            "colorscale": [
             [
              0,
              "#0d0887"
             ],
             [
              0.1111111111111111,
              "#46039f"
             ],
             [
              0.2222222222222222,
              "#7201a8"
             ],
             [
              0.3333333333333333,
              "#9c179e"
             ],
             [
              0.4444444444444444,
              "#bd3786"
             ],
             [
              0.5555555555555556,
              "#d8576b"
             ],
             [
              0.6666666666666666,
              "#ed7953"
             ],
             [
              0.7777777777777778,
              "#fb9f3a"
             ],
             [
              0.8888888888888888,
              "#fdca26"
             ],
             [
              1,
              "#f0f921"
             ]
            ],
            "type": "histogram2dcontour"
           }
          ],
          "mesh3d": [
           {
            "colorbar": {
             "outlinewidth": 0,
             "ticks": ""
            },
            "type": "mesh3d"
           }
          ],
          "parcoords": [
           {
            "line": {
             "colorbar": {
              "outlinewidth": 0,
              "ticks": ""
             }
            },
            "type": "parcoords"
           }
          ],
          "pie": [
           {
            "automargin": true,
            "type": "pie"
           }
          ],
          "scatter": [
           {
            "marker": {
             "colorbar": {
              "outlinewidth": 0,
              "ticks": ""
             }
            },
            "type": "scatter"
           }
          ],
          "scatter3d": [
           {
            "line": {
             "colorbar": {
              "outlinewidth": 0,
              "ticks": ""
             }
            },
            "marker": {
             "colorbar": {
              "outlinewidth": 0,
              "ticks": ""
             }
            },
            "type": "scatter3d"
           }
          ],
          "scattercarpet": [
           {
            "marker": {
             "colorbar": {
              "outlinewidth": 0,
              "ticks": ""
             }
            },
            "type": "scattercarpet"
           }
          ],
          "scattergeo": [
           {
            "marker": {
             "colorbar": {
              "outlinewidth": 0,
              "ticks": ""
             }
            },
            "type": "scattergeo"
           }
          ],
          "scattergl": [
           {
            "marker": {
             "colorbar": {
              "outlinewidth": 0,
              "ticks": ""
             }
            },
            "type": "scattergl"
           }
          ],
          "scattermapbox": [
           {
            "marker": {
             "colorbar": {
              "outlinewidth": 0,
              "ticks": ""
             }
            },
            "type": "scattermapbox"
           }
          ],
          "scatterpolar": [
           {
            "marker": {
             "colorbar": {
              "outlinewidth": 0,
              "ticks": ""
             }
            },
            "type": "scatterpolar"
           }
          ],
          "scatterpolargl": [
           {
            "marker": {
             "colorbar": {
              "outlinewidth": 0,
              "ticks": ""
             }
            },
            "type": "scatterpolargl"
           }
          ],
          "scatterternary": [
           {
            "marker": {
             "colorbar": {
              "outlinewidth": 0,
              "ticks": ""
             }
            },
            "type": "scatterternary"
           }
          ],
          "surface": [
           {
            "colorbar": {
             "outlinewidth": 0,
             "ticks": ""
            },
            "colorscale": [
             [
              0,
              "#0d0887"
             ],
             [
              0.1111111111111111,
              "#46039f"
             ],
             [
              0.2222222222222222,
              "#7201a8"
             ],
             [
              0.3333333333333333,
              "#9c179e"
             ],
             [
              0.4444444444444444,
              "#bd3786"
             ],
             [
              0.5555555555555556,
              "#d8576b"
             ],
             [
              0.6666666666666666,
              "#ed7953"
             ],
             [
              0.7777777777777778,
              "#fb9f3a"
             ],
             [
              0.8888888888888888,
              "#fdca26"
             ],
             [
              1,
              "#f0f921"
             ]
            ],
            "type": "surface"
           }
          ],
          "table": [
           {
            "cells": {
             "fill": {
              "color": "#EBF0F8"
             },
             "line": {
              "color": "white"
             }
            },
            "header": {
             "fill": {
              "color": "#C8D4E3"
             },
             "line": {
              "color": "white"
             }
            },
            "type": "table"
           }
          ]
         },
         "layout": {
          "annotationdefaults": {
           "arrowcolor": "#2a3f5f",
           "arrowhead": 0,
           "arrowwidth": 1
          },
          "autotypenumbers": "strict",
          "coloraxis": {
           "colorbar": {
            "outlinewidth": 0,
            "ticks": ""
           }
          },
          "colorscale": {
           "diverging": [
            [
             0,
             "#8e0152"
            ],
            [
             0.1,
             "#c51b7d"
            ],
            [
             0.2,
             "#de77ae"
            ],
            [
             0.3,
             "#f1b6da"
            ],
            [
             0.4,
             "#fde0ef"
            ],
            [
             0.5,
             "#f7f7f7"
            ],
            [
             0.6,
             "#e6f5d0"
            ],
            [
             0.7,
             "#b8e186"
            ],
            [
             0.8,
             "#7fbc41"
            ],
            [
             0.9,
             "#4d9221"
            ],
            [
             1,
             "#276419"
            ]
           ],
           "sequential": [
            [
             0,
             "#0d0887"
            ],
            [
             0.1111111111111111,
             "#46039f"
            ],
            [
             0.2222222222222222,
             "#7201a8"
            ],
            [
             0.3333333333333333,
             "#9c179e"
            ],
            [
             0.4444444444444444,
             "#bd3786"
            ],
            [
             0.5555555555555556,
             "#d8576b"
            ],
            [
             0.6666666666666666,
             "#ed7953"
            ],
            [
             0.7777777777777778,
             "#fb9f3a"
            ],
            [
             0.8888888888888888,
             "#fdca26"
            ],
            [
             1,
             "#f0f921"
            ]
           ],
           "sequentialminus": [
            [
             0,
             "#0d0887"
            ],
            [
             0.1111111111111111,
             "#46039f"
            ],
            [
             0.2222222222222222,
             "#7201a8"
            ],
            [
             0.3333333333333333,
             "#9c179e"
            ],
            [
             0.4444444444444444,
             "#bd3786"
            ],
            [
             0.5555555555555556,
             "#d8576b"
            ],
            [
             0.6666666666666666,
             "#ed7953"
            ],
            [
             0.7777777777777778,
             "#fb9f3a"
            ],
            [
             0.8888888888888888,
             "#fdca26"
            ],
            [
             1,
             "#f0f921"
            ]
           ]
          },
          "colorway": [
           "#636efa",
           "#EF553B",
           "#00cc96",
           "#ab63fa",
           "#FFA15A",
           "#19d3f3",
           "#FF6692",
           "#B6E880",
           "#FF97FF",
           "#FECB52"
          ],
          "font": {
           "color": "#2a3f5f"
          },
          "geo": {
           "bgcolor": "white",
           "lakecolor": "white",
           "landcolor": "#E5ECF6",
           "showlakes": true,
           "showland": true,
           "subunitcolor": "white"
          },
          "hoverlabel": {
           "align": "left"
          },
          "hovermode": "closest",
          "mapbox": {
           "style": "light"
          },
          "paper_bgcolor": "white",
          "plot_bgcolor": "#E5ECF6",
          "polar": {
           "angularaxis": {
            "gridcolor": "white",
            "linecolor": "white",
            "ticks": ""
           },
           "bgcolor": "#E5ECF6",
           "radialaxis": {
            "gridcolor": "white",
            "linecolor": "white",
            "ticks": ""
           }
          },
          "scene": {
           "xaxis": {
            "backgroundcolor": "#E5ECF6",
            "gridcolor": "white",
            "gridwidth": 2,
            "linecolor": "white",
            "showbackground": true,
            "ticks": "",
            "zerolinecolor": "white"
           },
           "yaxis": {
            "backgroundcolor": "#E5ECF6",
            "gridcolor": "white",
            "gridwidth": 2,
            "linecolor": "white",
            "showbackground": true,
            "ticks": "",
            "zerolinecolor": "white"
           },
           "zaxis": {
            "backgroundcolor": "#E5ECF6",
            "gridcolor": "white",
            "gridwidth": 2,
            "linecolor": "white",
            "showbackground": true,
            "ticks": "",
            "zerolinecolor": "white"
           }
          },
          "shapedefaults": {
           "line": {
            "color": "#2a3f5f"
           }
          },
          "ternary": {
           "aaxis": {
            "gridcolor": "white",
            "linecolor": "white",
            "ticks": ""
           },
           "baxis": {
            "gridcolor": "white",
            "linecolor": "white",
            "ticks": ""
           },
           "bgcolor": "#E5ECF6",
           "caxis": {
            "gridcolor": "white",
            "linecolor": "white",
            "ticks": ""
           }
          },
          "title": {
           "x": 0.05
          },
          "xaxis": {
           "automargin": true,
           "gridcolor": "white",
           "linecolor": "white",
           "ticks": "",
           "title": {
            "standoff": 15
           },
           "zerolinecolor": "white",
           "zerolinewidth": 2
          },
          "yaxis": {
           "automargin": true,
           "gridcolor": "white",
           "linecolor": "white",
           "ticks": "",
           "title": {
            "standoff": 15
           },
           "zerolinecolor": "white",
           "zerolinewidth": 2
          }
         }
        },
        "title": {
         "text": "XVS/USDT Binance Chart"
        }
       }
      }
     },
     "metadata": {},
     "output_type": "display_data"
    }
   ],
   "source": [
    "Binance_Ohlc_Chart(10)"
   ]
  },
  {
   "cell_type": "code",
   "execution_count": 163,
   "metadata": {},
   "outputs": [],
   "source": []
  }
 ],
 "metadata": {
  "interpreter": {
   "hash": "b3ba2566441a7c06988d0923437866b63cedc61552a5af99d1f4fb67d367b25f"
  },
  "kernelspec": {
   "display_name": "Python 3.8.5 64-bit ('base': conda)",
   "language": "python",
   "name": "python3"
  },
  "language_info": {
   "codemirror_mode": {
    "name": "ipython",
    "version": 3
   },
   "file_extension": ".py",
   "mimetype": "text/x-python",
   "name": "python",
   "nbconvert_exporter": "python",
   "pygments_lexer": "ipython3",
   "version": "3.8.5"
  },
  "orig_nbformat": 4
 },
 "nbformat": 4,
 "nbformat_minor": 2
}
