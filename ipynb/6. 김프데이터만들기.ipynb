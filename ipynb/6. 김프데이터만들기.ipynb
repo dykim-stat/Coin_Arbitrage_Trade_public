{
 "cells": [
  {
   "cell_type": "markdown",
   "metadata": {},
   "source": [
    "해당 문서에 있는 내용\n",
    "- 1. 3번 스크립트 수집한 리플 데이터 품질을 확인하고\n",
    "- 2. 데이터 Join해서 1분봉 종가로 1분단위 김프데이터 만들기\n",
    "- 3. 종가기준 1분단위 김프 데이터로 1시간단위 캔들 만들기"
   ]
  },
  {
   "cell_type": "code",
   "execution_count": 1,
   "metadata": {},
   "outputs": [],
   "source": [
    "import pandas as pd"
   ]
  },
  {
   "cell_type": "code",
   "execution_count": 72,
   "metadata": {},
   "outputs": [],
   "source": [
    "XRP_KRW = pd.read_csv('XRP-Upbit-KRW_1min.csv')\n",
    "XRP_USDT = pd.read_csv('XRP-Binance-USDT_1min.csv')"
   ]
  },
  {
   "cell_type": "code",
   "execution_count": 73,
   "metadata": {},
   "outputs": [],
   "source": [
    "# index로 넣어주고 정렬\n",
    "XRP_KRW = XRP_KRW.set_index(['date']).sort_index()\n",
    "XRP_USDT = XRP_USDT.set_index(['date']).sort_index()"
   ]
  },
  {
   "cell_type": "code",
   "execution_count": 74,
   "metadata": {},
   "outputs": [],
   "source": [
    "def make_fulltime_data(df, freq='min'):\n",
    "    df.index = pd.DatetimeIndex(df.index)\n",
    "    full_idx = pd.date_range(df.index[0],df.index[-1], freq=freq)\n",
    "    df = df.reindex(full_idx).fillna(method='pad')\n",
    "    return df\n",
    "\n",
    "XRP_KRW = make_fulltime_data(XRP_KRW)\n",
    "XRP_USDT = make_fulltime_data(XRP_USDT)\n",
    "XRP_KRW_close = XRP_KRW.drop(['open','high','low','volume'],axis=1).rename(columns={'close':'KRW_close'})\n",
    "XRP_USDT_close = XRP_USDT.drop(['open','high','low','volume'],axis=1).rename(columns={'close':'USDT_close'})"
   ]
  },
  {
   "cell_type": "code",
   "execution_count": 104,
   "metadata": {},
   "outputs": [],
   "source": [
    "kimp_dat = pd.merge(XRP_KRW_close, XRP_USDT_close,\n",
    "    left_index=True, right_index=True,\n",
    "    how = 'inner')\n",
    "kimp_dat['kimp'] = (kimp_dat['KRW_close'] - kimp_dat['USDT_close']) / kimp_dat['USDT_close'] * 100\n",
    "kimp_dat.to_csv('kimp_dat_1min.csv', index_label='date')"
   ]
  },
  {
   "cell_type": "code",
   "execution_count": 105,
   "metadata": {},
   "outputs": [
    {
     "data": {
      "text/html": [
       "<div>\n",
       "<style scoped>\n",
       "    .dataframe tbody tr th:only-of-type {\n",
       "        vertical-align: middle;\n",
       "    }\n",
       "\n",
       "    .dataframe tbody tr th {\n",
       "        vertical-align: top;\n",
       "    }\n",
       "\n",
       "    .dataframe thead th {\n",
       "        text-align: right;\n",
       "    }\n",
       "</style>\n",
       "<table border=\"1\" class=\"dataframe\">\n",
       "  <thead>\n",
       "    <tr style=\"text-align: right;\">\n",
       "      <th></th>\n",
       "      <th>KRW_close</th>\n",
       "      <th>USDT_close</th>\n",
       "      <th>kimp</th>\n",
       "    </tr>\n",
       "  </thead>\n",
       "  <tbody>\n",
       "    <tr>\n",
       "      <th>2018-05-04 17:12:00</th>\n",
       "      <td>973.0</td>\n",
       "      <td>966.699000</td>\n",
       "      <td>0.651806</td>\n",
       "    </tr>\n",
       "    <tr>\n",
       "      <th>2018-05-04 17:13:00</th>\n",
       "      <td>993.0</td>\n",
       "      <td>977.440100</td>\n",
       "      <td>1.591903</td>\n",
       "    </tr>\n",
       "    <tr>\n",
       "      <th>2018-05-04 17:14:00</th>\n",
       "      <td>1000.0</td>\n",
       "      <td>998.911559</td>\n",
       "      <td>0.108963</td>\n",
       "    </tr>\n",
       "    <tr>\n",
       "      <th>2018-05-04 17:15:00</th>\n",
       "      <td>992.0</td>\n",
       "      <td>977.654922</td>\n",
       "      <td>1.467295</td>\n",
       "    </tr>\n",
       "    <tr>\n",
       "      <th>2018-05-04 17:16:00</th>\n",
       "      <td>994.0</td>\n",
       "      <td>998.675255</td>\n",
       "      <td>-0.468146</td>\n",
       "    </tr>\n",
       "    <tr>\n",
       "      <th>...</th>\n",
       "      <td>...</td>\n",
       "      <td>...</td>\n",
       "      <td>...</td>\n",
       "    </tr>\n",
       "    <tr>\n",
       "      <th>2021-11-25 20:30:00</th>\n",
       "      <td>1300.0</td>\n",
       "      <td>1235.862144</td>\n",
       "      <td>5.189726</td>\n",
       "    </tr>\n",
       "    <tr>\n",
       "      <th>2021-11-25 20:31:00</th>\n",
       "      <td>1300.0</td>\n",
       "      <td>1235.267064</td>\n",
       "      <td>5.240400</td>\n",
       "    </tr>\n",
       "    <tr>\n",
       "      <th>2021-11-25 20:32:00</th>\n",
       "      <td>1300.0</td>\n",
       "      <td>1235.505096</td>\n",
       "      <td>5.220124</td>\n",
       "    </tr>\n",
       "    <tr>\n",
       "      <th>2021-11-25 20:33:00</th>\n",
       "      <td>1305.0</td>\n",
       "      <td>1235.743128</td>\n",
       "      <td>5.604472</td>\n",
       "    </tr>\n",
       "    <tr>\n",
       "      <th>2021-11-25 20:34:00</th>\n",
       "      <td>1300.0</td>\n",
       "      <td>1236.100176</td>\n",
       "      <td>5.169470</td>\n",
       "    </tr>\n",
       "  </tbody>\n",
       "</table>\n",
       "<p>1873643 rows × 3 columns</p>\n",
       "</div>"
      ],
      "text/plain": [
       "                     KRW_close   USDT_close      kimp\n",
       "2018-05-04 17:12:00      973.0   966.699000  0.651806\n",
       "2018-05-04 17:13:00      993.0   977.440100  1.591903\n",
       "2018-05-04 17:14:00     1000.0   998.911559  0.108963\n",
       "2018-05-04 17:15:00      992.0   977.654922  1.467295\n",
       "2018-05-04 17:16:00      994.0   998.675255 -0.468146\n",
       "...                        ...          ...       ...\n",
       "2021-11-25 20:30:00     1300.0  1235.862144  5.189726\n",
       "2021-11-25 20:31:00     1300.0  1235.267064  5.240400\n",
       "2021-11-25 20:32:00     1300.0  1235.505096  5.220124\n",
       "2021-11-25 20:33:00     1305.0  1235.743128  5.604472\n",
       "2021-11-25 20:34:00     1300.0  1236.100176  5.169470\n",
       "\n",
       "[1873643 rows x 3 columns]"
      ]
     },
     "execution_count": 105,
     "metadata": {},
     "output_type": "execute_result"
    }
   ],
   "source": [
    "kimp_dat"
   ]
  },
  {
   "cell_type": "code",
   "execution_count": 101,
   "metadata": {},
   "outputs": [
    {
     "data": {
      "text/plain": [
       "KRW_close     1270.000000\n",
       "USDT_close    1200.301069\n",
       "kimp             4.119331\n",
       "dtype: float64"
      ]
     },
     "execution_count": 101,
     "metadata": {},
     "output_type": "execute_result"
    }
   ],
   "source": [
    "kimp_dat.loc[(kimp_dat.index>='2021-11-24') & (kimp_dat.index<'2021-11-25')].min()"
   ]
  }
 ],
 "metadata": {
  "interpreter": {
   "hash": "b3ba2566441a7c06988d0923437866b63cedc61552a5af99d1f4fb67d367b25f"
  },
  "kernelspec": {
   "display_name": "Python 3.8.5 64-bit ('base': conda)",
   "language": "python",
   "name": "python3"
  },
  "language_info": {
   "codemirror_mode": {
    "name": "ipython",
    "version": 3
   },
   "file_extension": ".py",
   "mimetype": "text/x-python",
   "name": "python",
   "nbconvert_exporter": "python",
   "pygments_lexer": "ipython3",
   "version": "3.8.5"
  },
  "orig_nbformat": 4
 },
 "nbformat": 4,
 "nbformat_minor": 2
}
